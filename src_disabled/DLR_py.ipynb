{
 "cells": [
  {
   "cell_type": "markdown",
   "id": "b773b3d2",
   "metadata": {},
   "source": [
    "# Discrete Lehmann Representation\n",
    "\n",
    "## Theory\n",
    "\n",
    "We explain how to transform expansion coefficients in IR to the discrete Lehmann representation (DLR) [1].\n",
    "In `sparse-ir`, we choose poles based on the exrema of $V_l(\\omega)$ [2] (In the original paper [1], a more systematic way is proposed).\n",
    "We model the spectral function as\n",
    "\n",
    "$$\n",
    "    \\rho(\\omega) = \\sum_{p=1}^L c_p \\delta(\\omega - \\bar{\\omega}_p),\n",
    "$$\n",
    "\n",
    "where sampling frequencies $\\{\\bar{\\omega}_1, \\cdots, \\bar{\\omega}_{L}\\}$ are chosen to the extrema of $V'_{L-1}(\\omega)$.\n",
    "This choice is heuristic but allows us a numerically stable transform between $\\rho_l$ and $c_p$ through the relation\n",
    "\n",
    "$$\n",
    "\\rho_l = \\sum_{p=1}^L \\boldsymbol{V}_{lp} c_p,\n",
    "$$\n",
    "\n",
    "where the matrix $\\boldsymbol{V}_{lp}~[\\equiv V_l(\\bar{\\omega}_p)]$ is well-conditioned.\n",
    "As a result, in SPR, the Green's function is represented as\n",
    "\n",
    "$$\n",
    "G(\\mathrm{i}\\omega_n) = \\sum_{p=1}^L \\frac{c_p}{\\mathrm{i}\\omega_n - \\bar{\\omega}_p}.\n",
    "$$\n",
    "\n",
    "[1] J. Kaye, K. Chen, O. Parcollet, Phys. Rev. B 105, 235115 (2022).<br>\n",
    "[2] H. Shinaoka et al., arXiv:2106.12685v2.<br>"
   ]
  },
  {
   "cell_type": "markdown",
   "id": "0248f127",
   "metadata": {},
   "source": [
    "We consider the semi circular DOS\n",
    "\n",
    "$$\n",
    "\\rho(\\omega) = \\sqrt{\\frac{2}{\\pi}} \\sqrt{1-\\omega^2}.\n",
    "$$\n",
    "\n",
    "The corresponding Green's function is given by\n",
    "\n",
    "$$\n",
    "G(\\mathrm{i}\\omega_n) = \\int_{-1}^1 \\mathrm{d}\\omega \\frac{\\rho(\\omega)}{\\mathrm{i}\\omega_n - \\omega}.\n",
    "$$\n",
    "\n",
    "The Green's function is expanded in IR as\n",
    "\n",
    "$$\n",
    "G_l = - S_l \\int_{-1}^1 \\mathrm{d}\\omega \\rho(\\omega) V_l(\\omega).\n",
    "$$\n",
    "\n",
    "Below, we demonstrate how to transform $G_l$ to the DLR coefficients $c_p$."
   ]
  },
  {
   "cell_type": "code",
   "execution_count": null,
   "id": "58fb0d24",
   "metadata": {},
   "outputs": [],
   "source": [
    "import numpy as np\n",
    "from sparse_ir import FiniteTempBasis, MatsubaraSampling\n",
    "from sparse_ir.dlr import DiscreteLehmannRepresentation\n",
    "\n",
    "%matplotlib inline\n",
    "from matplotlib import pyplot as plt\n",
    "plt.rcParams['font.size'] = 15"
   ]
  },
  {
   "cell_type": "markdown",
   "id": "d690dd9a",
   "metadata": {},
   "source": [
    "## Implementation\n",
    "\n",
    "### Create basis object"
   ]
  },
  {
   "cell_type": "code",
   "execution_count": null,
   "id": "7076e80a",
   "metadata": {},
   "outputs": [],
   "source": [
    "wmax = 1.0\n",
    "lambda_ = 1e+4\n",
    "beta = lambda_/wmax\n",
    "\n",
    "basis = FiniteTempBasis(\"F\", beta, wmax, eps=1e-15)\n",
    "print(basis.size)"
   ]
  },
  {
   "cell_type": "markdown",
   "id": "52509ca8",
   "metadata": {},
   "source": [
    "### Setup model"
   ]
  },
  {
   "cell_type": "code",
   "execution_count": null,
   "id": "1e3963c3",
   "metadata": {},
   "outputs": [],
   "source": [
    "rho = lambda omega: np.sqrt(1-omega**2)/np.sqrt(0.5*np.pi)\n",
    "\n",
    "omega = np.linspace(-wmax, wmax, 1000)\n",
    "plt.xlabel(r'$\\omega$')\n",
    "plt.ylabel(r'$\\rho(\\omega)$')\n",
    "plt.plot(omega, rho(omega))\n",
    "plt.show()"
   ]
  },
  {
   "cell_type": "code",
   "execution_count": null,
   "id": "ec0e2bba",
   "metadata": {},
   "outputs": [],
   "source": [
    "rhol = basis.v.overlap(rho)\n",
    "ls = np.arange(basis.size)\n",
    "plt.semilogy(ls[::2], np.abs(rhol)[::2], marker=\"x\")\n",
    "plt.ylim([1e-5, None])\n",
    "plt.show()"
   ]
  },
  {
   "cell_type": "code",
   "execution_count": null,
   "id": "45398a6d",
   "metadata": {},
   "outputs": [],
   "source": [
    "gl = - basis.s * rhol\n",
    "plt.semilogy(ls[::2], np.abs(gl)[::2], marker=\"x\")\n",
    "plt.ylim([1e-5, None])\n",
    "plt.show()"
   ]
  },
  {
   "cell_type": "markdown",
   "id": "77977dd6",
   "metadata": {},
   "source": [
    "### Create a DLR object and perform transformation"
   ]
  },
  {
   "cell_type": "code",
   "execution_count": null,
   "id": "8c23b8f4",
   "metadata": {},
   "outputs": [],
   "source": [
    "dlr = DiscreteLehmannRepresentation(basis)\n",
    "\n",
    "# To DLR\n",
    "g_dlr = dlr.from_IR(gl)\n",
    "\n",
    "plt.plot(dlr.sampling_points, g_dlr, marker=\"x\", ls=\"\")\n",
    "plt.show()"
   ]
  },
  {
   "cell_type": "code",
   "execution_count": null,
   "id": "63b27905",
   "metadata": {},
   "outputs": [],
   "source": [
    "# Transform back to IR from SPR\n",
    "gl_reconst = dlr.to_IR(g_dlr)\n",
    "\n",
    "plt.semilogy(np.abs(gl), label=\"Exact\", ls=\"\", marker=\"+\")\n",
    "plt.semilogy(np.abs(gl_reconst), label=\"Reconstructed from DLR\", ls=\"\", marker=\"x\")\n",
    "plt.semilogy(np.abs(gl-gl_reconst), label=\"error\")\n",
    "plt.ylim([1e-18,None])\n",
    "plt.ylabel(\"$|g_l|$\")\n",
    "plt.legend(loc=\"best\", frameon=False)\n",
    "plt.show()"
   ]
  },
  {
   "cell_type": "markdown",
   "id": "098b410a",
   "metadata": {},
   "source": [
    "### Evaluation on Matsubara frequencies"
   ]
  },
  {
   "cell_type": "code",
   "execution_count": null,
   "id": "5f5d53a7",
   "metadata": {},
   "outputs": [],
   "source": [
    "v = 2*np.arange(-1000, 1000, 10) + 1\n",
    "iv = 1j * v * (np.pi/beta)\n",
    "\n",
    "transmat = 1/(iv[:,None] - dlr.sampling_points[None,:])\n",
    "giv = transmat @ g_dlr\n",
    "\n",
    "giv_exact = MatsubaraSampling(basis, v).evaluate(gl)\n",
    "\n",
    "plt.plot(iv.imag, giv_exact.imag, ls=\"\", marker=\"x\", label=\"Exact\")\n",
    "plt.plot(iv.imag, giv.imag, ls=\"\", marker=\"x\", label=\"Reconstructed from SPR\")\n",
    "plt.xlabel(r\"$\\nu$\")\n",
    "plt.ylabel(r\"Im $G(\\mathrm{i}\\omega_n)$\")\n",
    "\n",
    "plt.show()"
   ]
  }
 ],
 "metadata": {
  "kernelspec": {
   "display_name": "Python 3.9.2 64-bit",
   "language": "python",
   "name": "python3"
  },
  "language_info": {
   "codemirror_mode": {
    "name": "ipython",
    "version": 3
   },
   "file_extension": ".py",
   "mimetype": "text/x-python",
   "name": "python",
   "nbconvert_exporter": "python",
   "pygments_lexer": "ipython3",
   "version": "3.9.2"
  },
  "vscode": {
   "interpreter": {
    "hash": "31f2aee4e71d21fbe5cf8b01ff0e069b9275f58929596ceb00d14d90e3e16cd6"
   }
  }
 },
 "nbformat": 4,
 "nbformat_minor": 5
}
