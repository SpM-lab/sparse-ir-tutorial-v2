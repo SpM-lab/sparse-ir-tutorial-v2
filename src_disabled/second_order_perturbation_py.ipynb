{
 "cells": [
  {
   "cell_type": "markdown",
   "id": "be21280d",
   "metadata": {},
   "source": [
    "# Second-order perturbation"
   ]
  },
  {
   "cell_type": "markdown",
   "id": "734cb73a",
   "metadata": {},
   "source": [
    "## Theory\n",
    "\n",
    "We consider the Hubbard model on a square lattice at half filling,\n",
    "whose Hamiltonian is given by\n",
    "\n",
    "$$\n",
    "\\mathcal{H} = -t \\sum_{\\langle i, j\\rangle}\n",
    "        c^\\dagger_{i\\sigma} c_{j\\sigma}\n",
    "        + U \\sum_i n_{i\\uparrow} n_{i\\downarrow}\n",
    "        - \\mu \\sum_i (n_{i\\uparrow} + n_{i\\downarrow}),\n",
    "$$\n",
    "\n",
    "where $\\mu = U/2$, $t~(=1)$ a hopping integral,\n",
    "$c^\\dagger_{i\\sigma}~(c_{i\\sigma})$ a creation (annihilation) operator\n",
    "for an electron with spin $\\sigma$ at site $i$,\n",
    "$\\mu$ chemical potential.\n",
    "The non-interacting band dispersion is given by\n",
    "\n",
    "$$\n",
    "    \\epsilon(\\boldsymbol{k}) = -2 (\\cos{k_x} + \\cos{k_y}),\n",
    "$$\n",
    "\n",
    "where $\\boldsymbol{k}=(k_x, k_y)$.\n",
    "Hereafter, we ignore the spin dependence.\n",
    "\n",
    "The corresponding non-interacting Green's function is given by\n",
    "\n",
    "$$\n",
    "    G(\\mathrm{i}\\nu, \\boldsymbol{k}) = \\frac{1}{\\mathrm{i}\\nu - \\epsilon(\\boldsymbol{k}) - \\mu},\n",
    "$$\n",
    "\n",
    "where $\\nu$ is a fermionic frequency.\n",
    "\n",
    "In the imaginary-time domain, the self-energy reads\n",
    "\n",
    "$$\n",
    "    \\Sigma(\\tau, \\boldsymbol{r}) = U^2 G^2(\\tau, \\boldsymbol{r}) G(\\beta-\\tau, \\boldsymbol{r}),\n",
    "$$\n",
    "\n",
    "where $\\boldsymbol{r}$ represents a position in real space.\n",
    "Note that the first-order term of the self-energy, i.e., a Hartree term, is absorbed into the chemical potential.\n",
    "Thus, we take $\\mu=0$ for half filling.\n",
    "The Fourier transform of Green's functions and self-energies between the momentum and real-space domains is defined as follows:\n",
    "\n",
    "$$\n",
    "    A(\\mathrm{i}\\nu, \\boldsymbol{r}) = \\frac{1}{N} \\sum_{\\boldsymbol{k}} e^{-\\mathrm{i} \\boldsymbol{k} \\cdot \\boldsymbol{r}} A(\\mathrm{i}\\nu, \\boldsymbol{k}),\n",
    "$$\n",
    "\n",
    "$$\n",
    "    A(\\mathrm{i}\\nu, \\boldsymbol{k}) = \\sum_{\\boldsymbol{r}} e^{\\mathrm{i} \\boldsymbol{k} \\cdot \\boldsymbol{r}} A(\\mathrm{i}\\nu, \\boldsymbol{r}),\n",
    "$$\n",
    "\n",
    "where $A$ is either a Green's function or a self-energy."
   ]
  },
  {
   "cell_type": "markdown",
   "id": "9ad99a04",
   "metadata": {},
   "source": [
    "We use regular 2D meshes for the real-space and momen spaces.\n",
    "More specifically, a point in the real space $\\boldsymbol{r}$ is represented by three integers as\n",
    "$\\boldsymbol{r}=(r_1, r_2)$, where $0 \\le r_\\alpha \\le L-1$.\n",
    "A point in the momentum space $\\boldsymbol{k}$ is represented by three integers as\n",
    "$\\boldsymbol{k}=(2\\pi k_1/L, 2\\pi k_2/L)$, where $0 \\le k_\\alpha \\le L-1$.\n",
    "\n",
    "$$\n",
    "    G_{m,r_1, r_2} = \\frac{1}{N} F(G_{m, k_1, k_2}),\n",
    "$$\n",
    "\n",
    "$$\n",
    "    G_{m,k_1, k_2} = N F^{-1}(G_{m, r_1, r_2}).\n",
    "$$\n",
    "\n",
    "Here, $F$ denotes two-dimentional discrete Fourier transform (DFT) and $F^{-1}$ its inverse transform,\n",
    "which are defined as\n",
    "\n",
    "$$\n",
    "    x_{n_1, n_2} = \\sum_{m_1,m_2=0}^{L-1} x_{m_1,m_2} e^{-\\frac{2\\pi \\sum_\\alpha n_\\alpha m_\\alpha}{L}\\mathrm{i}}= F(x_{m_1, m_2}),\n",
    "$$\n",
    "\n",
    "$$\n",
    "    y_{m_1, m_2} = \\frac{1}{L^2} \\sum_{n_1,n_2=0}^{L-1} x_{n_1,n_2} e^{\\frac{2\\pi \\sum_\\alpha n_\\alpha m_\\alpha}{L}\\mathrm{i}} = F^{-1}(x_{n_1, n_2}).\n",
    "$$\n",
    "\n",
    "The DFT can be performed efficiently by the fast Fourier transform algorithm,\n",
    "which is implemented in many numerical libraries such as FFTW and FFTPACK.\n",
    "The computational complexity of FFT scales as $O(L^2 \\log L)$,\n",
    "which is considerably smaller than that of the naive implementation [$O(L^3)$] for large $L$."
   ]
  },
  {
   "cell_type": "markdown",
   "id": "44fab9ea",
   "metadata": {},
   "source": [
    "## Implementation"
   ]
  },
  {
   "cell_type": "code",
   "execution_count": null,
   "id": "abfe26b3",
   "metadata": {},
   "outputs": [],
   "source": [
    "import numpy as np\n",
    "%matplotlib inline\n",
    "import matplotlib.pyplot as plt\n",
    "plt.rcParams['font.size'] = 15\n",
    "import sparse_ir\n",
    "from numpy.fft import fftn, ifftn"
   ]
  },
  {
   "cell_type": "markdown",
   "id": "9f165930",
   "metadata": {},
   "source": [
    "### Step 1: Generate IR basis and associated sampling points\n",
    "\n",
    "The following code works only for a single-orbital problem.\n",
    "`numpy.linalg.inv` can be used instead for computing matrix-valued Green's functons, i.e., for multi-orbital systems.\n",
    "The condition numbers are around 180 and 250 for imaginary-time and Matsubara-frequency samplings,\n",
    "repspectively.\n",
    "This means that we may lose two significant digits when fitting numerical data on the sampling points.\n",
    "Thus, the results of fits are expected to have an accuracy of five significant digits ($10^{-7} \\times 10^2 = 10^{-5}$).\n",
    "If you want more significant digits, you can decrease the cutoff."
   ]
  },
  {
   "cell_type": "code",
   "execution_count": null,
   "id": "439fcd97",
   "metadata": {},
   "outputs": [],
   "source": [
    "lambda_ = 1e+5\n",
    "beta = 1e+3\n",
    "eps = 1e-7\n",
    "# Number of divisions along each reciprocal lattice vector\n",
    "# Note: For a smaller nk (e.g., 64), an unphysical small structures appear in the self-energy at low frequencies.\n",
    "#nk_lin = 256\n",
    "nk_lin = 256\n",
    "U = 2.0 # Onsite repulsion\n",
    "\n",
    "wmax = lambda_/beta\n",
    "basis = sparse_ir.FiniteTempBasis(\"F\", beta, wmax, eps=eps)\n",
    "L = basis.size\n",
    "\n",
    "# Sparse sampling in tau\n",
    "smpl_tau = sparse_ir.TauSampling(basis)\n",
    "ntau = smpl_tau.sampling_points.size\n",
    "print(\"cond (tau): \", smpl_tau.cond)\n",
    "\n",
    "# Sparse sampling in Matsubara frequencies\n",
    "smpl_matsu = sparse_ir.MatsubaraSampling(basis)\n",
    "nw = smpl_matsu.sampling_points.size\n",
    "print(\"cond (matsu): \", smpl_matsu.cond)"
   ]
  },
  {
   "cell_type": "markdown",
   "id": "212b20eb",
   "metadata": {},
   "source": [
    "### Step 2\n",
    "Compute the non-interacting Green's function on a mesh.\n",
    "The Green's function computed at $\\boldsymbol{k}=\\Gamma=(0,0)$ is plotted below."
   ]
  },
  {
   "cell_type": "code",
   "execution_count": null,
   "id": "5963817b",
   "metadata": {},
   "outputs": [],
   "source": [
    "kps = (nk_lin, nk_lin)\n",
    "nk = np.prod(kps)\n",
    "nr = nk\n",
    "kgrid = [2*np.pi*np.arange(kp)/kp for kp in kps]\n",
    "k1, k2 = np.meshgrid(*kgrid, indexing=\"ij\")\n",
    "ek = -2*(np.cos(k1) + np.cos(k2))\n",
    "print(k1.shape, k2.shape, ek.shape)\n",
    "\n",
    "iv = 1j*np.pi*smpl_matsu.sampling_points/beta\n",
    "gkf = 1.0 / (iv[:,None] - ek.ravel()[None,:])\n",
    "\n",
    "plt.plot(smpl_matsu.sampling_points*np.pi/beta, gkf[:,0].imag, label=r\"$k=\\Gamma$\", marker=\"x\")\n",
    "plt.xlabel(r\"$\\nu$\")\n",
    "plt.ylabel(r\"$\\mathrm{Im}~G(\\mathrm{i}\\nu)$\")\n",
    "plt.legend()\n",
    "plt.tight_layout()\n",
    "plt.show()"
   ]
  },
  {
   "cell_type": "markdown",
   "id": "6722c106",
   "metadata": {},
   "source": [
    "### Step 3\n",
    "Transform the Green's function to sampling times."
   ]
  },
  {
   "cell_type": "code",
   "execution_count": null,
   "id": "58a940ef",
   "metadata": {},
   "outputs": [],
   "source": [
    "# G(l, k): (L, nk)\n",
    "gkl = smpl_matsu.fit(gkf, axis=0)\n",
    "\n",
    "assert gkl.shape == (L, nk)\n",
    "\n",
    "plt.semilogy(np.abs(gkl[:,0]))\n",
    "plt.semilogy(basis.s, ls=\"--\")\n",
    "plt.xlabel(r\"$l$\")\n",
    "plt.ylabel(r\"$|G(l, \\Gamma)|$\")\n",
    "plt.show()"
   ]
  },
  {
   "cell_type": "code",
   "execution_count": null,
   "id": "4c6bf36e",
   "metadata": {},
   "outputs": [],
   "source": [
    "gkt = smpl_tau.evaluate(gkl)\n",
    "\n",
    "assert gkt.shape == (ntau, nk)\n",
    "\n",
    "plt.plot(smpl_tau.sampling_points, gkt[:,0].real, label=r'$\\Gamma$', marker=\"x\")\n",
    "plt.plot(smpl_tau.sampling_points, \n",
    "    gkt.reshape(-1,*kps)[:,nk_lin//2,nk_lin//2].real, label=r'$M$', marker=\"+\")\n",
    "plt.xlabel(r\"$\\tau$\")\n",
    "plt.ylabel(r\"$\\mathrm{Re}~G(\\tau, k)$\")\n",
    "plt.legend()\n",
    "plt.tight_layout()\n",
    "plt.show()"
   ]
  },
  {
   "cell_type": "markdown",
   "id": "db3dcb71",
   "metadata": {},
   "source": [
    "### Step 4\n",
    "Transform the Green's function to the real space and evaluate the self-energy"
   ]
  },
  {
   "cell_type": "code",
   "execution_count": null,
   "id": "8a2366c8",
   "metadata": {},
   "outputs": [],
   "source": [
    "# Compute G(tau, r): (ntau, nk)\n",
    "#  (1) Reshape gkt into shape of (ntau, nk_lin, nk_lin).\n",
    "#  (2) Apply FFT to the axes 1, 2.\n",
    "#  (3) Reshape the result to (ntau, nk)\n",
    "# G(tau, k): (ntau, nk)\n",
    "grt = fftn(gkt.reshape(ntau, *kps), axes=(1,2)).reshape(ntau, nk)/nk\n",
    "\n",
    "plt.plot(smpl_tau.sampling_points, grt[:,0].real, label='$r=(0,0)$')\n",
    "plt.xlabel(r\"$\\tau$\")\n",
    "plt.ylabel(r\"$\\mathrm{Re}~G(\\tau, r)$\")\n",
    "plt.legend()\n",
    "plt.tight_layout()\n",
    "plt.show()"
   ]
  },
  {
   "cell_type": "markdown",
   "id": "a33784a4",
   "metadata": {},
   "source": [
    "Compute the second-order term of the self-energy on the sampling points"
   ]
  },
  {
   "cell_type": "code",
   "execution_count": null,
   "id": "1057b8fc",
   "metadata": {},
   "outputs": [],
   "source": [
    "# Sigma(tau, r): (ntau, nr)\n",
    "srt = U*U*grt*grt*grt[::-1,:]\n",
    "\n",
    "plt.plot(smpl_tau.sampling_points, srt[:,0].real, label='$r=(0,0)$', marker=\"x\")\n",
    "plt.xlabel(r\"$\\tau$\")\n",
    "plt.ylabel(r\"$\\mathrm{Re}~\\Sigma(\\tau, r)$\")\n",
    "plt.legend()\n",
    "plt.tight_layout()\n",
    "plt.show()"
   ]
  },
  {
   "cell_type": "markdown",
   "id": "4b7a0bcb",
   "metadata": {},
   "source": [
    "### Step 5\n",
    "Transform the self-energy to the IR basis and then transform it to the momentum space"
   ]
  },
  {
   "cell_type": "code",
   "execution_count": null,
   "id": "b6ed38c9",
   "metadata": {},
   "outputs": [],
   "source": [
    "# Sigma(l, r): (L, nr)\n",
    "srl = smpl_tau.fit(srt)\n",
    "assert srl.shape == (L, nr)\n",
    "\n",
    "plt.semilogy(np.abs(srl[:,0]), label='$r=(0,0)$')\n",
    "plt.xlabel(r\"$l$\")\n",
    "plt.ylabel(r\"$|\\Sigma(l, r)|$\")\n",
    "plt.ylim([1e-8,1])\n",
    "plt.legend()\n",
    "plt.show()"
   ]
  },
  {
   "cell_type": "code",
   "execution_count": null,
   "id": "cc62ae5d",
   "metadata": {},
   "outputs": [],
   "source": [
    "# Sigma(l, k): (L, nk)\n",
    "srl = srl.reshape(L, *kps)\n",
    "skl = ifftn(srl, axes=(1,2)) * nk\n",
    "skl = skl.reshape(L, *kps)\n",
    "\n",
    "#plt.semilogy(np.max(np.abs(skl),axis=(1,2)), label=\"max, abs\")\n",
    "plt.semilogy(np.abs(skl[:,0,0]), label=\"$k=\\Gamma$\")\n",
    "plt.semilogy(basis.s, label=\"Singular values\", ls=\"--\")\n",
    "plt.xlabel(r\"$l$\")\n",
    "plt.ylabel(r\"$|\\Sigma(l, k)|$\")\n",
    "plt.legend()\n",
    "plt.tight_layout()\n",
    "plt.show()"
   ]
  },
  {
   "cell_type": "markdown",
   "id": "6f854fee",
   "metadata": {},
   "source": [
    "### Step 6\n",
    "Evaluate the self-energy on sampling frequencies"
   ]
  },
  {
   "cell_type": "code",
   "execution_count": null,
   "id": "7e5d5763",
   "metadata": {},
   "outputs": [],
   "source": [
    "sigma_iv = smpl_matsu.evaluate(skl, axis=0)\n",
    "plt.plot(smpl_matsu.sampling_points*np.pi/beta, sigma_iv[:,0,0].imag, marker='x', label=r\"$k=\\Gamma$\")\n",
    "plt.xlabel(r\"$\\nu$\")\n",
    "plt.ylabel(r\"$\\mathrm{Im}~\\Sigma(\\mathrm{i}\\nu)$\")\n",
    "plt.legend(frameon=False)\n",
    "plt.tight_layout()\n",
    "plt.show()"
   ]
  },
  {
   "cell_type": "markdown",
   "id": "1fa15dd7",
   "metadata": {},
   "source": [
    "You can evaluate the self-energy on arbitrary frequencies."
   ]
  },
  {
   "cell_type": "code",
   "execution_count": null,
   "id": "f3c4b17d",
   "metadata": {},
   "outputs": [],
   "source": [
    "my_freqs = 2*np.arange(-10000, 10000, 20) + 1 # odd\n",
    "smpl_matsu2 = sparse_ir.MatsubaraSampling(basis, my_freqs)\n",
    "res = smpl_matsu2.evaluate(skl, axis=0)\n",
    "plt.plot(my_freqs*np.pi/beta, res[:,0,0].imag, marker='x', label=r\"$k=\\Gamma$\")\n",
    "plt.xlabel(r\"$\\nu$\")\n",
    "plt.ylabel(r\"$\\mathrm{Im}~\\Sigma(\\mathrm{i}\\nu)$\")\n",
    "plt.legend(frameon=False)\n",
    "plt.tight_layout()\n",
    "plt.show()"
   ]
  }
 ],
 "metadata": {
  "jupytext": {
   "formats": "ipynb,md:myst"
  },
  "kernelspec": {
   "display_name": "Python 3",
   "language": "python",
   "name": "python3"
  }
 },
 "nbformat": 4,
 "nbformat_minor": 5
}
