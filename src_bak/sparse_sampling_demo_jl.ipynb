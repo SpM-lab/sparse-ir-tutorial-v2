{
 "cells": [
  {
   "cell_type": "markdown",
   "id": "97493238",
   "metadata": {},
   "source": [
    "# Sparse sampling\n",
    "\n",
    "In this page, we describe how to infer IR expansion coefficients using the sparse-sampling techiniques."
   ]
  },
  {
   "cell_type": "code",
   "execution_count": null,
   "id": "4ae8bcdf",
   "metadata": {},
   "outputs": [],
   "source": [
    "using SparseIR\n",
    "using Plots\n",
    "gr() # USE GR backend\n",
    "using OMEinsum\n",
    "using LaTeXStrings"
   ]
  },
  {
   "cell_type": "markdown",
   "id": "d3c39c91",
   "metadata": {},
   "source": [
    "## Setup\n",
    "We consider a semicircular spectral modeli (full bandwidth of 2):\n",
    "\n",
    "$$\n",
    "\\rho(\\omega) = \\frac{2}{\\pi}\\sqrt{1-\\omega^2}.\n",
    "$$\n",
    "\n",
    "First, we compute the numerically exact expansion coefficients $g_l$.\n",
    "Below, we plot the data for even $l$."
   ]
  },
  {
   "cell_type": "code",
   "execution_count": null,
   "id": "d8a91d0c",
   "metadata": {},
   "outputs": [],
   "source": [
    "function rho(omega)\n",
    "    return abs.(omega) < 1 ? (2/π) .* sqrt.(1-omega^2) : 0.0\n",
    "end\n",
    "\n",
    "beta = 10000.0\n",
    "wmax = 1.0\n",
    "eps = 1e-15 # cutoff for SVD\n",
    "basis = FiniteTempBasis(Fermionic(), beta, wmax, eps)\n",
    "\n",
    "rhol = overlap(basis.v, rho)\n",
    "gl = - basis.s .* rhol\n",
    "\n",
    "ls = collect(0:length(basis)-1)\n",
    "p = plot(marker=:x, yaxis=:log, ylabel=L\"|g_l|\", xlabel=L\"l\", ylims=(1e-15,10))\n",
    "plot!(p, ls[1:2:end], abs.(gl[1:2:end]), marker=:x, yaxis=:log, ylabel=L\"|g_l|\", xlabel=L\"l\")"
   ]
  },
  {
   "cell_type": "markdown",
   "id": "d4bcd8cd",
   "metadata": {},
   "source": [
    "## From sampling times\n",
    "\n",
    "We first create a `TauSampling` object for the default sampling times."
   ]
  },
  {
   "cell_type": "code",
   "execution_count": null,
   "id": "595f61d9",
   "metadata": {},
   "outputs": [],
   "source": [
    "smpl_tau = TauSampling(basis)\n",
    "println(\"sampling times: \", smpl_tau.sampling_points)\n",
    "println(\"Condition number: \", SparseIR.cond(smpl_tau))"
   ]
  },
  {
   "cell_type": "markdown",
   "id": "59006a09",
   "metadata": {},
   "source": [
    "The condition number is around 50, indicating that 1--2 significant digits may be lost in a fit from the sampling times. Let us fit from the sampling times!"
   ]
  },
  {
   "cell_type": "code",
   "execution_count": null,
   "id": "03417812",
   "metadata": {},
   "outputs": [],
   "source": [
    "# Evaluate G(τ) on the sampling times\n",
    "gtau_smpl = evaluate(smpl_tau, gl)\n",
    "\n",
    "plot(smpl_tau.sampling_points, gtau_smpl, marker=:x, xlabel=L\"\\tau\", ylabel=L\"G(\\tau)\")\n"
   ]
  },
  {
   "cell_type": "code",
   "execution_count": null,
   "metadata": {},
   "outputs": [],
   "source": [
    "# Fit G(τ) on the sampling times\n",
    "gl_reconst_from_tau = fit(smpl_tau, gtau_smpl)"
   ]
  },
  {
   "cell_type": "markdown",
   "id": "f3d8a588",
   "metadata": {},
   "source": [
    "## From sampling frequencies\n",
    "\n",
    "We create a `MatsubaraSampling` object for the default sampling frequencies."
   ]
  },
  {
   "cell_type": "code",
   "execution_count": null,
   "id": "451c64af",
   "metadata": {},
   "outputs": [],
   "source": [
    "smpl_matsu = MatsubaraSampling(basis)\n",
    "println(\"sampling frequencies: \", smpl_matsu.sampling_points)\n",
    "println(\"Condition number: \", SparseIR.cond(smpl_matsu))"
   ]
  },
  {
   "cell_type": "markdown",
   "id": "4786f128",
   "metadata": {},
   "source": [
    "The condition number is slightly larger than that for the sampling times."
   ]
  },
  {
   "cell_type": "code",
   "execution_count": null,
   "id": "9842deeb",
   "metadata": {},
   "outputs": [],
   "source": [
    "# Evaluate G(iv) on the sampling frequencies\n",
    "giv_smpl = evaluate(smpl_matsu, gl)\n",
    "\n",
    "# `value` function evaluate the actual values of Matsubara frequencies\n",
    "plot(SparseIR.value.(smpl_matsu.ωn, beta), imag.(giv_smpl), marker=:x, xlabel=L\"\\nu\", ylabel=L\"\\mathrm{Im} G(i\\nu)\")"
   ]
  },
  {
   "cell_type": "code",
   "execution_count": null,
   "metadata": {},
   "outputs": [],
   "source": [
    "# Fit G(τ) on the sampling times\n",
    "gl_reconst_from_matsu = fit(smpl_matsu, giv_smpl)"
   ]
  },
  {
   "cell_type": "markdown",
   "id": "d71b7a29",
   "metadata": {},
   "source": [
    "## Comparison with exact results\n",
    "We now compare the reconstructed expansion coefficients with the exact one. For clarity, we plot only the data for even $l$."
   ]
  },
  {
   "cell_type": "code",
   "execution_count": null,
   "id": "79c7b9cf",
   "metadata": {},
   "outputs": [],
   "source": [
    "p = plot(xlabel=L\"l\", ylabel=L\"g_l\", ylims=(1e-17, 10), yaxis=:log)\n",
    "plot!(p, ls[1:2:end], abs.(gl[1:2:end]), marker=:none, label=\"Exact\")\n",
    "plot!(p, ls[1:2:end], abs.(gl_reconst_from_tau[1:2:end]), marker=:x, label=\"from sampling times\")\n",
    "plot!(p, ls[1:2:end], abs.(gl_reconst_from_matsu[1:2:end]), marker=:+, label=\"from sampling frequencies\")"
   ]
  },
  {
   "cell_type": "markdown",
   "id": "f3ee52ee",
   "metadata": {},
   "source": [
    "We saw a perfect match! Let us plot the differences from the exact one."
   ]
  },
  {
   "cell_type": "code",
   "execution_count": null,
   "id": "c3a474cb",
   "metadata": {},
   "outputs": [],
   "source": [
    "p = plot(xlabel=L\"L\", ylabel=L\"Error in $g_l$\", ylims=(1e-18, 10), yaxis=:log)\n",
    "plot!(p, ls[1:2:end], abs.((gl_reconst_from_tau-gl)[1:2:end]), marker=:x, label=\"from sampling times\")\n",
    "plot!(p, ls[1:2:end], abs.((gl_reconst_from_matsu-gl)[1:2:end]), marker=:+, label=\"from sampling frequencies\")"
   ]
  }
 ],
 "metadata": {
  "jupytext": {
   "formats": "ipynb,md:myst"
  },
  "kernelspec": {
   "display_name": "Julia 1.9.1",
   "language": "julia",
   "name": "julia-1.9"
  },
  "language_info": {
   "file_extension": ".jl",
   "mimetype": "application/julia",
   "name": "julia",
   "version": "1.9.1"
  }
 },
 "nbformat": 4,
 "nbformat_minor": 5
}
