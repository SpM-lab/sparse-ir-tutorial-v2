{
 "cells": [
  {
   "cell_type": "markdown",
   "id": "203b1c25",
   "metadata": {
    "tags": []
   },
   "source": [
    "# Transformation from/to IR"
   ]
  },
  {
   "cell_type": "markdown",
   "id": "1c467fce",
   "metadata": {},
   "source": [
    "## Poles"
   ]
  },
  {
   "cell_type": "code",
   "execution_count": null,
   "id": "fdeecaeb",
   "metadata": {},
   "outputs": [],
   "source": [
    "using SparseIR\n",
    "using Plots\n",
    "gr() # USE GR backend\n",
    "using OMEinsum\n",
    "using LaTeXStrings\n",
    "\n",
    "beta = 15.0\n",
    "wmax = 10.0\n",
    "basis_b = FiniteTempBasis(Bosonic(), beta, wmax, 1e-7)\n",
    "\n",
    "coeff = [1.0]\n",
    "omega_p = [0.1]\n",
    "\n",
    "rhol_pole = ein\"lp,p->l\"(\n",
    "    basis_b.v(omega_p),\n",
    "    coeff ./ tanh.(0.5*beta*omega_p)\n",
    ")\n",
    "gl_pole = - basis_b.s .* rhol_pole\n",
    "\n",
    "plot([abs.(rhol_pole), abs.(gl_pole)], yaxis=:log, label=[latexstring(\"|\\\\rho_l|\") latexstring(\"|g_l|\")], xlabel=latexstring(\"l\"), ylims=(1e-5, 1e+1))"
   ]
  },
  {
   "cell_type": "code",
   "execution_count": null,
   "id": "98fae57f",
   "metadata": {},
   "outputs": [],
   "source": [
    "dlr = DiscreteLehmannRepresentation(basis_b, omega_p)\n",
    "gl_pole2 = SparseIR.to_IR(dlr, coeff ./ tanh.(0.5*beta*omega_p))\n",
    "\n",
    "plot(\n",
    "    [abs.(gl_pole2), abs.(gl_pole)],\n",
    "    label=[\"from DLR\" \"exact\"],\n",
    "    yaxis=:log,\n",
    "    xlabel=latexstring(\"l\"), ylabel=latexstring(\"g_l\"), ylims=(1e-5, 1e+1), marker=[:cross :circle])"
   ]
  },
  {
   "cell_type": "markdown",
   "id": "ae41dac7",
   "metadata": {},
   "source": [
    "## From smooth spectral function"
   ]
  },
  {
   "cell_type": "code",
   "execution_count": null,
   "id": "d0ebe5e7",
   "metadata": {},
   "outputs": [],
   "source": [
    "# Three Gaussian peaks (normalized to 1)\n",
    "gaussian(x, mu, sigma) = exp(-((x-mu)/sigma)^2)/(sqrt(π)*sigma)\n",
    "\n",
    "rho(omega) = 0.2*gaussian(omega, 0.0, 0.15) + \n",
    "    0.4*gaussian(omega, 1.0, 0.8) + 0.4*gaussian(omega, -1.0, 0.8)\n",
    "\n",
    "omegas = LinRange(-5, 5, 1000)\n",
    "plot(omegas, rho.(omegas), xlabel=latexstring(\"\\\\omega\"), ylabel=latexstring(\"\\\\rho(\\\\omega)\"), label=\"\")"
   ]
  },
  {
   "cell_type": "code",
   "execution_count": null,
   "id": "1b20c5d5",
   "metadata": {},
   "outputs": [],
   "source": [
    "beta = 10.0\n",
    "wmax = 10.0\n",
    "basis = FiniteTempBasis(Fermionic(), beta, wmax, 1e-7)\n",
    "\n",
    "rhol = [overlap(basis.v[l], rho) for l in 1:length(basis)]\n",
    "gl = - basis.s .* rhol\n",
    "\n",
    "plot([abs.(rhol), abs.(gl)], yaxis=:log, ylims=(1e-5,1), marker=[:circle :diamond], line=nothing, xlabel=latexstring(\"l\"), label=[latexstring(\"\\\\rho_l\") latexstring(\"|g_l|\")])"
   ]
  },
  {
   "cell_type": "code",
   "execution_count": null,
   "id": "1ac159f4",
   "metadata": {},
   "outputs": [],
   "source": [
    "rho_omega_reconst = transpose(basis.v(omegas)) * rhol\n",
    "\n",
    "plot(omegas, rho_omega_reconst, xlabel=latexstring(\"\\\\omega\"), ylabel=latexstring(\"\\\\rho(\\\\omega)\"), label=\"\")"
   ]
  },
  {
   "cell_type": "markdown",
   "id": "44433dbc",
   "metadata": {},
   "source": [
    "## From IR to imaginary time"
   ]
  },
  {
   "cell_type": "code",
   "execution_count": null,
   "id": "294d3520",
   "metadata": {},
   "outputs": [],
   "source": [
    "taus = collect(LinRange(0, beta, 1000))\n",
    "gtau1 = transpose(basis.u(taus)) * gl\n",
    "\n",
    "plot(taus, gtau1, xlabel=latexstring(\"\\\\tau\"), ylabel=latexstring(\"G(\\\\tau)\"), label=nothing)"
   ]
  },
  {
   "cell_type": "code",
   "execution_count": null,
   "id": "409f2d14",
   "metadata": {},
   "outputs": [],
   "source": [
    "smpl = TauSampling(basis; sampling_points=taus)\n",
    "gtau2 = evaluate(smpl, gl)\n",
    "plot(taus, gtau2, xlabel=latexstring(\"\\\\tau\"), ylabel=latexstring(\"G(\\\\tau)\"), label=nothing, marker=:cross)"
   ]
  },
  {
   "cell_type": "markdown",
   "id": "c8551cd6",
   "metadata": {},
   "source": [
    "## From full imaginary-time data"
   ]
  },
  {
   "cell_type": "code",
   "execution_count": null,
   "id": "32d66b9f",
   "metadata": {},
   "outputs": [],
   "source": [
    "function eval_gtau(taus)\n",
    "    uval = basis.u(taus) #(nl, ntau)\n",
    "    return transpose(uval) * gl\n",
    "end\n",
    "\n",
    "gl_reconst = [overlap(basis.u[l], eval_gtau) for l in 1:length(basis)]\n",
    "\n",
    "ls = collect(0:length(basis)-1)\n",
    "plot(\n",
    "    ls[1:2:end],\n",
    "    [abs.(gl_reconst[1:2:end]), abs.(gl[1:2:end]), abs.(gl_reconst - gl)[1:2:end]], xlabel=latexstring(\"l\"), label=[\"reconstructed\" \"exact\" \"error\"], marker=[:+ :x :none], markersize=10, yaxis=:log)"
   ]
  },
  {
   "cell_type": "markdown",
   "id": "c7d4d2cf",
   "metadata": {},
   "source": [
    "## Matrix-valued object\n",
    "\n",
    "`evaluate` and `fit` accept a matrix-valued object as an input.\n",
    "The axis to which the transformation applied can be specified by using the keyword augment `dim`."
   ]
  },
  {
   "cell_type": "code",
   "execution_count": null,
   "id": "8198c479",
   "metadata": {},
   "outputs": [],
   "source": [
    "using Random\n",
    "rng = Xoshiro(100)\n",
    "shape = (1,2,3)\n",
    "newaxis = [CartesianIndex()]\n",
    "gl_tensor = randn(rng, shape...)[:,:,:, newaxis] .* gl[newaxis,newaxis,newaxis, :]\n",
    "println(\"gl: \", size(gl))\n",
    "println(\"gl_tensor: \", size(gl_tensor))"
   ]
  },
  {
   "cell_type": "code",
   "execution_count": null,
   "id": "3e4bdb39",
   "metadata": {},
   "outputs": [],
   "source": [
    "smpl_matsu = MatsubaraSampling(basis)\n",
    "gtau_tensor = evaluate(smpl_matsu, gl_tensor, dim=4)\n",
    "print(\"gtau_tensor: \", size(gtau_tensor))\n",
    "gl_tensor_reconst = fit(smpl_matsu, gtau_tensor, dim=4)\n",
    "@assert isapprox(gl_tensor, gl_tensor_reconst)"
   ]
  }
 ],
 "metadata": {
  "jupytext": {
   "formats": "ipynb,md:myst"
  },
  "kernelspec": {
   "display_name": "Julia 1.9.1",
   "language": "julia",
   "name": "julia-1.9"
  },
  "language_info": {
   "file_extension": ".jl",
   "mimetype": "application/julia",
   "name": "julia",
   "version": "1.9.1"
  }
 },
 "nbformat": 4,
 "nbformat_minor": 5
}
