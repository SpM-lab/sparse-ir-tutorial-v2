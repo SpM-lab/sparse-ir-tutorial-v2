{
 "cells": [
  {
   "cell_type": "markdown",
   "id": "85484baf",
   "metadata": {
    "id": "xHOySqkK12f5"
   },
   "source": [
    "# Orbital magnetic susceptibility\n",
    "Author: [Soshun Ozaki], [Takashi Koretsune]\n",
    "\n",
    "## Theory of the orbital magnetism\n",
    "The orbital magnetism is the magnetism induced by a vector potential coupled with the electron momentum,\n",
    "and is one of the fundamental thermodynamic properties of electron systems.\n",
    "A lot of efforts were dedicated to the formulation of the orbital magnetic susceptibility,\n",
    "and the simple but complete formula was derived by Fukuyama [1].\n",
    "Recently, a new formula for the tight-binding model, which is based on the Peierls phase,\n",
    "has been derived and is applied to various lattice models[2,3,4].\n",
    "The new formula is different from the Fukuyama formula [1] derived for the Bloch states in the continuum model. The relationship between them was clarified in [5] and [6]. In the continuum model, there are several contributions of the magnetic field to the orbital magnetic susceptibility in addition to the contribution from the Peierls phase. As far as the Peierls phase is concerned, the new formula will be correct.\n",
    "\n",
    "\n",
    "\n",
    "Ref:\n",
    "[1] H. Fukuyama, Prog. Theor. Phys. 45, 704 (1971).\n",
    "[2] G. Gómez-Santos and T. Stauber, Phys. Rev. Lett. 106, 045504 (2011).\n",
    "[3] A. Raoux, F. Piéchon, J. N. Fuchs, and G. Montambaux, Phys. Rev. B 91, 085120 (2015).\n",
    "[4] F. Piéchon, A. Raoux, J.-N. Fuchs, and G. Montambaux, Phys. Rev. B 94, 134423 (2016).\n",
    "[5] M. Ogata and H. Fukuyama, J. Phys. Soc. Jpn. 84 124708 (2015).\n",
    "[6] H. Matsuura and M. Ogata, J. Phys. Soc. Jpn. 85 074709 (2016).\n",
    "\n",
    "## The orbital magnetic susceptibility formula\n",
    "The newly developed orbital magnetic susceptibility formula for tight-binding models is given by\n",
    "\\begin{align*}\n",
    "\\chi &= k_B T\\sum_n \\chi(i \\omega_n)\\\\\n",
    "\\chi(i \\omega_n) &= \\frac{e^2}{\\hbar^2} \\sum_{{\\boldsymbol k}} {\\rm Tr} \n",
    "[\\gamma_x G \\gamma_y G \\gamma_x G \\gamma_y G + \\frac{1}{2} (\\gamma_x G \\gamma_y G + \\gamma_y G \\gamma_x G)\\gamma_{xy} G]\n",
    "\\end{align*}\n",
    "where $G=G(i\\omega_n, {\\boldsymbol k})$ is the thermal Green's function for the tight-binding model, \n",
    "$\\gamma_i({\\boldsymbol k})=\\frac{\\partial H_{\\boldsymbol k}}{\\partial k_i}, (i=x,y)$ \n",
    "and $\\gamma_{xy}({\\boldsymbol k})= \\frac{\\partial^2 H_{\\boldsymbol k}}{\\partial k_x \\partial k_y}$ represent the derivative of \n",
    "the tight-binding Hamiltonian $H_{\\boldsymbol k}$,\n",
    "and $n$ summation represents the Matsubara summation.\n",
    "Since this formula is written in terms of the thermal Green's functions, it is suitable for the demonstration \n",
    "of the Matsubara summation using the IR basis.\n",
    "We present codes for the computation of the orbital magnetic susceptibility using this formula for the tight-binding models on the two basic lattices, the square and honeycomb lattices with transfer integral $t$, lattice constant $a$.\n",
    "Note that the orbital magnetic susceptibility in the square (honeycomb) lattice is obtained in the tight-binding model [3] ([2]) and in the continuum model [7] ([8]), respectively.\n",
    "In our practical implementation, we perform the Matsubara summation using the 'sparse ir' package, \n",
    "and ${\\boldsymbol k}$ summation over the Brillouin zone is evaluated by  a simple discrete summation.\n",
    "We show the results as functions of the chemical potential.\n",
    "\n",
    "Ref:\n",
    "[7] M. Ogata, J. Phys. Soc. of Jpn. 85, 064709 (2016).\n",
    "[8] M. Ogata, J. Phys. Soc. of Jpn. 85, 104708 (2016)."
   ]
  },
  {
   "cell_type": "markdown",
   "id": "0fcca1b4",
   "metadata": {
    "id": "LPpdCRrd3KQR"
   },
   "source": [
    "## Code implementation\n",
    "We load basic modules used in the following."
   ]
  },
  {
   "cell_type": "code",
   "execution_count": null,
   "id": "45753756",
   "metadata": {
    "colab": {
     "base_uri": "https://localhost:8080/"
    },
    "id": "oBMEiCceDeBA",
    "outputId": "65ab7818-850e-4790-9228-681724c21259"
   },
   "outputs": [],
   "source": [
    "!pip install sparse_ir\n",
    "import numpy as np\n",
    "import scipy\n",
    "import itertools\n",
    "import matplotlib.pyplot as plt\n",
    "import sparse_ir"
   ]
  },
  {
   "cell_type": "markdown",
   "id": "924f8d3c",
   "metadata": {
    "id": "LLmzKefa78uI"
   },
   "source": [
    "#### Parameter setting\n",
    "We use the units of $k_B=1$ in the following.\n",
    "We set $t=a=1$ and $T = 0.1$."
   ]
  },
  {
   "cell_type": "code",
   "execution_count": null,
   "id": "04ec309f",
   "metadata": {
    "id": "N7Dv8jhz78uK"
   },
   "outputs": [],
   "source": [
    "t = 1         # hopping amplitude\n",
    "a = 1         # lattice constant\n",
    "T = 0.1       # temperature\n",
    "beta = 1/T\n",
    "wmax = 10\n",
    "nk1 = 200\n",
    "nk2 = 200\n",
    "IR_tol = 1e-10\n",
    "mu_range = np.linspace(-4.5, 4.5, 91)"
   ]
  },
  {
   "cell_type": "markdown",
   "id": "174ef915",
   "metadata": {
    "id": "l4EElZAC78uM"
   },
   "source": [
    "#### Function for the orbital magnetic susceptibility\n",
    "Here, we implement a function to calculate the orbital magnetic susceptibility from $H_{\\boldsymbol k}$, $\\gamma_x(\\boldsymbol k)$, $\\gamma_y(\\boldsymbol k)$, and $\\gamma_{xy}(\\boldsymbol k)$.\n",
    "First, we calculate $\\chi(i \\omega_n)$ for sampling Matsubara points and then obtain $k_B T\\sum_n \\chi(i \\omega_n)$ using the IR basis."
   ]
  },
  {
   "cell_type": "code",
   "execution_count": null,
   "id": "cdf3901e",
   "metadata": {
    "id": "ta6Zy4Vg78uP"
   },
   "outputs": [],
   "source": [
    "def orbital_chi(IR_basis_set, hkgk, klist, mu_range):\n",
    "    smpl_iwn = IR_basis_set.smpl_wn_f.wn\n",
    "    chi_iw = np.zeros((len(mu_range), len(smpl_iwn)), dtype=complex)\n",
    "    for k in klist:\n",
    "        hk, gx, gy, gxy = hkgk(k)\n",
    "        ek, v = np.linalg.eigh(hk)\n",
    "        vd = np.conj(v.T)\n",
    "        giw = 1/(1j * np.pi/IR_basis_set.beta * smpl_iwn[None,None,:] - (ek[:,None,None] - mu_range[None,:,None]))\n",
    "        gx = vd @ gx @ v\n",
    "        gy = vd @ gy @ v\n",
    "        gxy = vd @ gxy @ v\n",
    "        chi_iw += np.einsum(\"ab, bmn, bc, cmn, cd, dmn, da, amn->mn\", \n",
    "                            gx, giw, gy, giw, gx, giw, gy, giw, optimize=True)\n",
    "        chi_iw += (1/2) * np.einsum(\"ab, bmn, bc, cmn, ca, amn->mn\",\n",
    "                                    gx, giw, gy, giw, gxy, giw, optimize=True)\n",
    "        chi_iw += (1/2) * np.einsum(\"ab, bmn, bc, cmn, ca, amn->mn\",\n",
    "                                    gy, giw, gx, giw, gxy, giw, optimize=True)\n",
    "    chil = IR_basis_set.smpl_wn_f.fit(chi_iw, axis=1)\n",
    "    smpl_tau0 = sparse_ir.TauSampling(IR_basis_set.basis_f, sampling_points=[0.0])\n",
    "    chi_tau = smpl_tau0.evaluate(chil, axis=1)\n",
    "    return chi_tau.real / len(klist)"
   ]
  },
  {
   "cell_type": "markdown",
   "id": "6434c840",
   "metadata": {
    "id": "wAHn85Ye78uR"
   },
   "source": [
    "We also implement a single band version of the function."
   ]
  },
  {
   "cell_type": "code",
   "execution_count": null,
   "id": "f8405740",
   "metadata": {
    "id": "jDxH6YSA78uV"
   },
   "outputs": [],
   "source": [
    "def orbital_chi1(IR_basis_set, hkgk, klist, mu_range):\n",
    "    smpl_iwn = IR_basis_set.smpl_wn_f.wn\n",
    "    chi_iw = np.zeros((len(mu_range), len(smpl_iwn)), dtype=complex)\n",
    "    for k in klist:\n",
    "        hk, gx, gy, gxy = hkgk(k)\n",
    "        giw = 1/(1j * np.pi/IR_basis_set.beta * smpl_iwn[None,:] - (hk - mu_range[:,None]))\n",
    "        chi_iw += gx**2 * gy**2 * giw**4\n",
    "        chi_iw += gx * gy * gxy * giw**3\n",
    "    chil = IR_basis_set.smpl_wn_f.fit(chi_iw, axis=1)\n",
    "    smpl_tau0 = sparse_ir.TauSampling(IR_basis_set.basis_f, sampling_points=[0.0])\n",
    "    chi_tau = smpl_tau0.evaluate(chil, axis=1)\n",
    "    return chi_tau.real / len(klist)"
   ]
  },
  {
   "cell_type": "markdown",
   "id": "6c67e344",
   "metadata": {
    "id": "s3KKNWxH3jXI"
   },
   "source": [
    "We set the IR basis set and $\\boldsymbol k$ mesh."
   ]
  },
  {
   "cell_type": "code",
   "execution_count": null,
   "id": "75594c5b",
   "metadata": {
    "colab": {
     "base_uri": "https://localhost:8080/"
    },
    "id": "KGLTSItOD7Q2",
    "outputId": "6c653673-01fa-4173-b3f8-79b84acc0ade"
   },
   "outputs": [],
   "source": [
    "IR_basis_set = sparse_ir.FiniteTempBasisSet(beta=beta, wmax=wmax, eps=IR_tol)\n",
    "kx_list = np.arange(nk1)/nk1\n",
    "ky_list = np.arange(nk2)/nk2\n",
    "klist = np.array(list(itertools.product(kx_list, ky_list)))"
   ]
  },
  {
   "cell_type": "markdown",
   "id": "90262ac9",
   "metadata": {
    "id": "LgOBmRYX2YGH"
   },
   "source": [
    "#### Two-dimensional square lattice\n",
    "Now, we evaluate the orbital magnetic susceptibility as a function of chemical potential, $\\chi(\\mu)$, for the two-dimensional square lattice."
   ]
  },
  {
   "cell_type": "code",
   "execution_count": null,
   "id": "5b5fbfed",
   "metadata": {
    "id": "tBO466iNDgkS"
   },
   "outputs": [],
   "source": [
    "def hkgk_square(k):\n",
    "    hk = -2 * t * (np.cos(2*np.pi*k[0]) + np.cos(2*np.pi*k[1]))\n",
    "    gx = 2 * t * a * np.sin(2*np.pi*k[0])\n",
    "    gy = 2 * t * a * np.sin(2*np.pi*k[1])\n",
    "    gxy = 0\n",
    "    return hk, gx, gy, gxy\n",
    "\n",
    "chi_mu = orbital_chi1(IR_basis_set, hkgk_square, klist, mu_range)"
   ]
  },
  {
   "cell_type": "markdown",
   "id": "6a507174",
   "metadata": {
    "id": "pzDpz35p5_oV"
   },
   "source": [
    "For comparison, we calculate the analytic result at $T=0$ [3,5]."
   ]
  },
  {
   "cell_type": "code",
   "execution_count": null,
   "id": "875499f5",
   "metadata": {
    "colab": {
     "base_uri": "https://localhost:8080/",
     "height": 281
    },
    "id": "_BiVZUCtEAiU",
    "outputId": "305b98c2-31e6-4871-9c09-62134acdf54d"
   },
   "outputs": [],
   "source": [
    "k = 1 - mu_range**2/16\n",
    "chi_anltc = np.where(k >= 0, -(scipy.special.ellipe(k)-scipy.special.ellipk(k)/2)*(2/3)/np.pi**2, 0)\n",
    "\n",
    "plt.plot(mu_range, chi_mu, label='IR Basis (T=0.1)')\n",
    "plt.plot(mu_range, chi_anltc, label='Analytic (T=0)')\n",
    "plt.xlabel(\"$\\mu$\")\n",
    "plt.ylabel(\"$\\chi$\")\n",
    "plt.legend()\n",
    "plt.show()"
   ]
  },
  {
   "cell_type": "markdown",
   "id": "4b8e0806",
   "metadata": {
    "id": "mHQSamXO6VSq"
   },
   "source": [
    "#### Graphene\n",
    "Next, we evaluate the orbital magnetic suscepitbility for graphene."
   ]
  },
  {
   "cell_type": "code",
   "execution_count": null,
   "id": "03475f82",
   "metadata": {
    "id": "KcrhxHmMbVxd"
   },
   "outputs": [],
   "source": [
    "sq3 = np.sqrt(3)\n",
    "def hkgk_graphene(k):\n",
    "    kx, ky = 2*np.pi*k[0]/a, 2*np.pi*(k[0] + 2*k[1])/(a*sq3)\n",
    "    h = -t * (np.exp(1j*ky*a/sq3) + 2 * np.cos(kx*a/2) * np.exp(-1j*ky*a/(2*sq3)))\n",
    "    hk = np.array([ [ 0, h ], [ np.conj(h), 0 ] ])\n",
    "    \n",
    "    hx =  t * a * np.sin(kx/2) * np.exp(-1j*ky/(2*sq3))\n",
    "    hy = -t * a * (1j/sq3 * (np.exp(1j*ky/sq3) - np.cos(kx/2) * np.exp(-1j*ky/(2*sq3))))\n",
    "    gx = np.array([ [ 0, hx ], [ np.conj(hx), 0 ] ])\n",
    "    gy = np.array([ [ 0, hy ], [ np.conj(hy), 0 ] ])\n",
    "    \n",
    "    hxy = -t * a * a * 1j/(2*sq3) * np.sin(kx/2) * np.exp(-1j*ky/(2*sq3))\n",
    "    gxy = np.array([ [ 0, hxy ], [ np.conj(hxy), 0 ] ])\n",
    "\n",
    "    return hk, gx, gy, gxy\n",
    "\n",
    "chi_mu = orbital_chi(IR_basis_set, hkgk_graphene, klist, mu_range)"
   ]
  },
  {
   "cell_type": "code",
   "execution_count": null,
   "id": "a2a80697",
   "metadata": {
    "colab": {
     "base_uri": "https://localhost:8080/",
     "height": 281
    },
    "id": "E9CSNPAp78vH",
    "outputId": "9f24e4af-ca6b-433f-de7d-5b69ebd2078c"
   },
   "outputs": [],
   "source": [
    "plt.plot(mu_range, chi_mu, label='IR Basis')\n",
    "plt.xlabel(\"$\\mu$\")\n",
    "plt.ylabel(\"$\\chi$\")\n",
    "plt.legend()\n",
    "plt.show()"
   ]
  },
  {
   "cell_type": "code",
   "execution_count": null,
   "id": "6c713e70",
   "metadata": {
    "id": "s-rLVInzB-Pc"
   },
   "outputs": [],
   "source": []
  }
 ],
 "metadata": {
  "jupytext": {
   "formats": "ipynb,md:myst"
  },
  "kernelspec": {
   "display_name": "Python 3",
   "language": "python",
   "name": "python3"
  }
 },
 "nbformat": 4,
 "nbformat_minor": 5
}
