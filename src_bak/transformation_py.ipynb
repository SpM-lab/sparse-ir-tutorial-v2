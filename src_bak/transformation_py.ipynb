{
 "cells": [
  {
   "cell_type": "markdown",
   "id": "76e954e9",
   "metadata": {
    "tags": []
   },
   "source": [
    "# Transformation from/to IR\n",
    "\n",
    "$$\n",
    "\\newcommand{\\iv}{{\\mathrm{i}\\nu}}\n",
    "\\newcommand{\\wmax}{{\\omega_\\mathrm{max}}}\n",
    "\\newcommand{\\dd}{{\\mathrm{d}}}\n",
    "$$\n",
    "\n",
    "In this section, we explain how to transform numerical data to IR."
   ]
  },
  {
   "cell_type": "markdown",
   "id": "830ec433",
   "metadata": {},
   "source": [
    "## Poles"
   ]
  },
  {
   "cell_type": "markdown",
   "id": "9ec1bcbb",
   "metadata": {},
   "source": [
    "We consider a Green's function genereated by poles:\n",
    "\n",
    "$$\n",
    "G(\\mathrm{i}\\nu) = \\sum_{p=1}^{N_\\mathrm{P}} \\frac{c_p}{\\mathrm{i}\\nu - \\omega_p},\n",
    "$$\n",
    "\n",
    "where $\\nu$ is a fermionic or bosonic Matsubara frequency.\n",
    "The corresponding specral function $A(\\omega)$ is given by\n",
    "\n",
    "$$\n",
    "A(\\omega) = \\sum_{p=1}^{N_\\mathrm{P}} c_p \\delta(\\omega - \\omega_p).\n",
    "$$\n",
    "\n",
    "The modified (regularized) spectral function reads\n",
    "\n",
    "$$\n",
    "\\rho(\\omega) = \n",
    "\\begin{cases}\n",
    "\\sum_{p=1}^{N_\\mathrm{P}} c_p \\delta(\\omega - \\omega_p) & \\mathrm{(fermion)},\\\\\n",
    "\\sum_{p=1}^{N_\\mathrm{P}} (c_p/\\tanh(\\beta \\omega_p/2)) \\delta(\\omega - \\omega_p) & \\mathrm{(boson)}.\n",
    "\\end{cases}\n",
    "$$\n",
    "\n",
    "for the logistic kernel.\n",
    "We immediately obtain\n",
    "\n",
    "$$\n",
    "\\rho_l = \n",
    "\\begin{cases}\n",
    "\\sum_{p=1}^{N_\\mathrm{P}} c_p V_l(\\omega_p) & \\mathrm{(fermion)},\\\\\n",
    "\\sum_{p=1}^{N_\\mathrm{P}} c_p V_l(\\omega_p)/\\tanh(\\beta \\omega_p/2))& \\mathrm{(boson)}.\n",
    "\\end{cases}\n",
    "$$\n",
    "\n",
    "The following code demostrates this transformation for bosons."
   ]
  },
  {
   "cell_type": "code",
   "execution_count": null,
   "id": "b7bdd3f2",
   "metadata": {},
   "outputs": [],
   "source": [
    "import sparse_ir\n",
    "import numpy as np\n",
    "%matplotlib inline\n",
    "import matplotlib.pyplot as plt\n",
    "plt.rcParams['font.size'] = 15\n",
    "\n",
    "beta = 15\n",
    "wmax = 10\n",
    "basis_b = sparse_ir.FiniteTempBasis(\"B\", beta, wmax, eps=1e-10)\n",
    "\n",
    "coeff = np.array([1])\n",
    "omega_p = np.array([0.1])\n",
    "\n",
    "rhol_pole = np.einsum('lp,p->l', basis_b.v(omega_p), coeff/np.tanh(0.5*beta*omega_p))\n",
    "gl_pole = - basis_b.s * rhol_pole\n",
    "\n",
    "plt.semilogy(np.abs(rhol_pole), marker=\"o\", label=r\"$|\\rho_l|$\")\n",
    "plt.semilogy(np.abs(gl_pole), marker=\"x\", label=r\"$|g_l|$\")\n",
    "\n",
    "plt.xlabel(r\"$l$\")\n",
    "plt.ylim([1e-5, 1e+1])\n",
    "plt.legend(frameon=False)\n",
    "plt.show()"
   ]
  },
  {
   "cell_type": "markdown",
   "id": "a95a6910",
   "metadata": {},
   "source": [
    "Alternatively, we can use ``DiscreteLehmannRepresentation``"
   ]
  },
  {
   "cell_type": "code",
   "execution_count": null,
   "id": "d681c1c1",
   "metadata": {},
   "outputs": [],
   "source": [
    "from sparse_ir.dlr import DiscreteLehmannRepresentation\n",
    "dlr = DiscreteLehmannRepresentation(basis_b, omega_p)\n",
    "gl_pole2 = dlr.to_IR(coeff/np.tanh(0.5*beta*omega_p))\n",
    "\n",
    "plt.semilogy(np.abs(gl_pole2), marker=\"x\", label=r\"$|g_l|$ from DLR\")\n",
    "plt.semilogy(np.abs(gl_pole), marker=\"x\", label=r\"$|g_l|$\")\n",
    "\n",
    "\n",
    "plt.xlabel(r\"$l$\")\n",
    "plt.ylim([1e-5, 1e+1])\n",
    "plt.legend(frameon=False)\n",
    "plt.show()"
   ]
  },
  {
   "cell_type": "markdown",
   "id": "b484c57c",
   "metadata": {},
   "source": [
    "## From smooth spectral function\n",
    "\n",
    "For a smooth spectral function $\\rho(\\omega)$, the expansion coefficients can be evaluated by computing the integral\n",
    "\n",
    "$$\n",
    "    \\rho_l = \\int_{-\\omega_\\mathrm{max}}^{\\omega_\\mathrm{max}} \\mathrm{d} \\omega V_l(\\omega) \\rho(\\omega).\n",
    "$$\n",
    "\n",
    "One might consider to use the Gauss-Legendre quadrature.\n",
    "As seen in previous sections, the distribution of $V_l(\\omega)$ is much denser than Legendre polynomial $P_l(x(\\tau))$ around $\\tau=0, \\beta$.\n",
    "Thus, evaluating the integral precisely requires the use of composite Gauss–Legendre quadrature,\n",
    "where the whole inteval $[-\\omega_\\mathrm{max}, \\omega_\\mathrm{max}]$ is divided to subintervals and the normal Gauss-Legendre quadrature is \n",
    "applied to each interval.\n",
    "The roots of $V_l(\\omega)$ for the highest $l$ used in the expansion\n",
    "is a reasonable choice of the division points.\n",
    "If $\\rho(\\omega)$ is smooth enough within each subinterval,\n",
    "the result converges exponentially with increasing the degree of the Gauss-Legendre quadrature.\n",
    "\n",
    "Below, we demonstrate how to compute $\\rho_l$ for a spectral function consisting of of three Gausssian peaks using the composite Gauss-Legendre quadrature.\n",
    "Then, $\\rho_l$ can be transformed to $g_l$ by multiplying it with $- S_l$."
   ]
  },
  {
   "cell_type": "code",
   "execution_count": null,
   "id": "19e9a9e2",
   "metadata": {},
   "outputs": [],
   "source": [
    "# Three Gaussian peaks (normalized to 1)\n",
    "gaussian = lambda x, mu, sigma:\\\n",
    "    np.exp(-((x-mu)/sigma)**2)/(np.sqrt(np.pi)*sigma)\n",
    "\n",
    "rho = lambda omega: 0.2*gaussian(omega, 0.0, 0.15) + \\\n",
    "    0.4*gaussian(omega, 1.0, 0.8) + 0.4*gaussian(omega, -1.0, 0.8)\n",
    "\n",
    "omegas = np.linspace(-5, 5, 1000)\n",
    "plt.xlabel(r\"$\\omega$\")\n",
    "plt.ylabel(r\"$\\rho(\\omega)$\")\n",
    "plt.plot(omegas, rho(omegas))\n",
    "plt.show()"
   ]
  },
  {
   "cell_type": "code",
   "execution_count": null,
   "id": "ba8d04f1",
   "metadata": {},
   "outputs": [],
   "source": [
    "beta = 10\n",
    "wmax = 10\n",
    "basis = sparse_ir.FiniteTempBasis(\"F\", beta, wmax, eps=1e-10)\n",
    "\n",
    "rhol = basis.v.overlap(rho)\n",
    "gl = - basis.s * rhol\n",
    "\n",
    "plt.semilogy(np.abs(rhol), marker=\"o\", ls=\"\", label=r\"$|\\rho_l|$\")\n",
    "plt.semilogy(np.abs(gl), marker=\"s\", ls=\"\", label=r\"$|g_l|$\")\n",
    "plt.semilogy(np.abs(basis.s), marker=\"\", ls=\"--\", label=r\"$S_l$\")\n",
    "plt.xlabel(r\"$l$\")\n",
    "plt.ylim([1e-5, 10])\n",
    "plt.legend(frameon=False)\n",
    "plt.show()\n",
    "#plt.savefig(\"coeff.pdf\")"
   ]
  },
  {
   "cell_type": "markdown",
   "id": "2d6cff73",
   "metadata": {},
   "source": [
    "$\\rho_l$ is evaluated on arbitrary real frequencies as follows."
   ]
  },
  {
   "cell_type": "code",
   "execution_count": null,
   "id": "466ab435",
   "metadata": {},
   "outputs": [],
   "source": [
    "rho_omgea_reconst = basis.v(omegas).T @ rhol\n",
    "\n",
    "plt.xlabel(r\"$\\omega$\")\n",
    "plt.ylabel(r\"$\\rho(\\omega)$\")\n",
    "plt.plot(omegas, rho_omgea_reconst)\n",
    "plt.show()"
   ]
  },
  {
   "cell_type": "markdown",
   "id": "6c8f5c09",
   "metadata": {},
   "source": [
    "## From IR to imaginary time\n",
    "\n",
    "We are now ready to evaluate $g_l$ on arbitrary $\\tau$ points.\n",
    "A naive way is as follows."
   ]
  },
  {
   "cell_type": "code",
   "execution_count": null,
   "id": "f4840cb5",
   "metadata": {},
   "outputs": [],
   "source": [
    "taus = np.linspace(0, beta, 1000)\n",
    "gtau1 = basis.u(taus).T @ gl\n",
    "plt.plot(taus, gtau1)\n",
    "plt.xlabel(r\"$\\tau$\")\n",
    "plt.ylabel(r\"$G(\\tau)$\")\n",
    "plt.show()"
   ]
  },
  {
   "cell_type": "markdown",
   "id": "ef91f83c",
   "metadata": {},
   "source": [
    "Alternatively, we can use ``TauSampling`` as follows."
   ]
  },
  {
   "cell_type": "code",
   "execution_count": null,
   "id": "5e8ca5a2",
   "metadata": {},
   "outputs": [],
   "source": [
    "smpl = sparse_ir.TauSampling(basis, taus)\n",
    "gtau2 = smpl.evaluate(gl)\n",
    "plt.plot(taus, gtau1)\n",
    "plt.xlabel(r\"$\\tau$\")\n",
    "plt.ylabel(r\"$G(\\tau)$\")\n",
    "plt.show()"
   ]
  },
  {
   "cell_type": "markdown",
   "id": "00b2778d",
   "metadata": {},
   "source": [
    "## From full imaginary-time data\n",
    "\n",
    "A numerically stable way to expand $G(\\tau)$ in IR \n",
    "is evaluating the integral\n",
    "\n",
    "$$\n",
    "G_l = \\int_0^\\beta \\mathrm{d} \\tau G(\\tau) U_l(\\tau).\n",
    "$$\n",
    "\n",
    "You can use `overlap` function as well."
   ]
  },
  {
   "cell_type": "code",
   "execution_count": null,
   "id": "14519fcd",
   "metadata": {},
   "outputs": [],
   "source": [
    "def eval_gtau(taus):\n",
    "    uval = basis.u(taus) #(nl, ntau)\n",
    "    if isinstance(taus, np.ndarray):\n",
    "       print(uval.shape, gl.shape)\n",
    "       return uval.T @ gl\n",
    "    else:\n",
    "       return uval.T @ gl\n",
    "\n",
    "gl_reconst = basis.u.overlap(eval_gtau)\n",
    "\n",
    "ls = np.arange(basis.size)\n",
    "plt.semilogy(ls[::2], np.abs(gl_reconst)[::2], label=\"reconstructed\", marker=\"+\", ls=\"\")\n",
    "plt.semilogy(ls[::2], np.abs(gl)[::2], label=\"exact\", marker=\"x\", ls=\"\")\n",
    "plt.semilogy(ls[::2], np.abs(gl_reconst - gl)[::2], label=\"error\", marker=\"p\")\n",
    "plt.xlabel(r\"$l$\")\n",
    "plt.xlabel(r\"$|g_l|$\")\n",
    "plt.ylim([1e-20, 1])\n",
    "plt.legend(frameon=False)\n",
    "plt.show()"
   ]
  },
  {
   "cell_type": "markdown",
   "id": "43af671d",
   "metadata": {},
   "source": [
    "## Remark: What happens if $\\omega_\\mathrm{max}$ is too small?\n",
    "\n",
    "If $G_l$ do not decay like $S_l$,  $\\omega_\\mathrm{max}$ may be too small.\n",
    "Below, we numerically demonstrate it."
   ]
  },
  {
   "cell_type": "code",
   "execution_count": null,
   "id": "b8148593",
   "metadata": {},
   "outputs": [],
   "source": [
    "from scipy.integrate import quad\n",
    "\n",
    "beta = 10\n",
    "wmax = 0.5\n",
    "basis_bad = sparse_ir.FiniteTempBasis(\"F\", beta, wmax, eps=1e-10)\n",
    "\n",
    "# We expand G(τ).\n",
    "gl_bad = [quad(lambda x: eval_gtau(x) * basis_bad.u[l](x), 0, beta)[0] for l in range(basis_bad.size)]\n",
    "\n",
    "plt.semilogy(np.abs(gl_bad), marker=\"s\", ls=\"\", label=r\"$|g_l|$\")\n",
    "plt.semilogy(np.abs(basis_bad.s), marker=\"x\", ls=\"--\", label=r\"$S_l$\")\n",
    "plt.xlabel(r\"$l$\")\n",
    "plt.ylim([1e-5, 10])\n",
    "#plt.xlim([0, basis.size])\n",
    "plt.legend(frameon=False)\n",
    "plt.show()\n",
    "#plt.savefig(\"coeff_bad.pdf\")"
   ]
  },
  {
   "cell_type": "markdown",
   "id": "1340fb13",
   "metadata": {},
   "source": [
    "## Matrix-valued object\n",
    "\n",
    "`evaluate` and `fit` accept a matrix-valued object as an input.\n",
    "The axis to which the transformation applied can be specified by using the keyword augment `axis`."
   ]
  },
  {
   "cell_type": "code",
   "execution_count": null,
   "id": "b374aa2f",
   "metadata": {},
   "outputs": [],
   "source": [
    "np.random.seed(100)\n",
    "shape = (1,2,3)\n",
    "gl_tensor = np.random.randn(*shape)[..., np.newaxis] * gl[np.newaxis, :]\n",
    "print(\"gl: \", gl.shape)\n",
    "print(\"gl_tensor: \", gl_tensor.shape)"
   ]
  },
  {
   "cell_type": "code",
   "execution_count": null,
   "id": "6b32cb2d",
   "metadata": {},
   "outputs": [],
   "source": [
    "smpl_matsu = sparse_ir.MatsubaraSampling(basis)\n",
    "gtau_tensor = smpl_matsu.evaluate(gl_tensor, axis=3)\n",
    "print(\"gtau_tensor: \", gtau_tensor.shape)\n",
    "gl_tensor_reconst = smpl_matsu.fit(gtau_tensor, axis=3)\n",
    "assert np.allclose(gl_tensor, gl_tensor_reconst)"
   ]
  }
 ],
 "metadata": {
  "jupytext": {
   "formats": "ipynb,md:myst"
  },
  "kernelspec": {
   "display_name": "Python 3.8.9 64-bit",
   "language": "python",
   "name": "python3"
  },
  "language_info": {
   "codemirror_mode": {
    "name": "ipython",
    "version": 3
   },
   "file_extension": ".py",
   "mimetype": "text/x-python",
   "name": "python",
   "nbconvert_exporter": "python",
   "pygments_lexer": "ipython3",
   "version": "3.8.10"
  },
  "vscode": {
   "interpreter": {
    "hash": "31f2aee4e71d21fbe5cf8b01ff0e069b9275f58929596ceb00d14d90e3e16cd6"
   }
  }
 },
 "nbformat": 4,
 "nbformat_minor": 5
}
