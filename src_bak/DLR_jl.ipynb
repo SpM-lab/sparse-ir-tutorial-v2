{
 "cells": [
  {
   "cell_type": "markdown",
   "id": "f872f296",
   "metadata": {},
   "source": [
    "# Discrete Lehmann Representation\n",
    "\n",
    "## Theory\n",
    "\n",
    "We explain how to transform expansion coefficients in IR to the discrete Lehmann representation (DLR) [1].\n",
    "We model the spectral function as\n",
    "\n",
    "$$\n",
    "    \\rho(\\omega) = \\sum_{p=1}^L c_p \\delta(\\omega - \\bar{\\omega}_p),\n",
    "$$\n",
    "\n",
    "where sampling frequencies $\\{\\bar{\\omega}_1, \\cdots, \\bar{\\omega}_{L}\\}$ are chosen to the extrema of $V'_{L-1}(\\omega)$ [2].\n",
    "In the original paper [1], a more and different systematic way of choosing poles was used.\n",
    "We can transform data between $\\rho_l$ and $c_p$ through the relation\n",
    "\n",
    "$$\n",
    "\\rho_l = \\sum_{p=1}^L \\boldsymbol{V}_{lp} c_p,\n",
    "$$\n",
    "\n",
    "where the matrix $\\boldsymbol{V}_{lp}~[\\equiv V_l(\\bar{\\omega}_p)]$ is well-conditioned.\n",
    "As a result, in DLR, the Green's function is represented as\n",
    "\n",
    "$$\n",
    "G(\\mathrm{i}\\omega_n) = \\sum_{p=1}^L \\frac{c_p}{\\mathrm{i}\\omega_n - \\bar{\\omega}_p}.\n",
    "$$\n",
    "\n",
    "[1] J. Kaye, K. Chen, O. Parcollet, Phys. Rev. B 105, 235115 (2022).<br>\n",
    "[2] H. Shinaoka et al., arXiv:2106.12685v2.<br>"
   ]
  },
  {
   "cell_type": "markdown",
   "id": "d13db439",
   "metadata": {},
   "source": [
    "We consider fermions and the semi circular DOS\n",
    "\n",
    "$$\n",
    "\\rho(\\omega) = \\sqrt{\\frac{2}{\\pi}} \\sqrt{1-\\omega^2}.\n",
    "$$\n",
    "\n",
    "The corresponding Green's function is given by\n",
    "\n",
    "$$\n",
    "G(\\mathrm{i}\\omega_n) = \\int_{-1}^1 \\mathrm{d}\\omega \\frac{\\rho(\\omega)}{\\mathrm{i}\\omega_n - \\omega}.\n",
    "$$\n",
    "\n",
    "The Green's function is expanded in IR as\n",
    "\n",
    "$$\n",
    "G_l = - S_l \\int_{-1}^1 \\mathrm{d}\\omega \\rho(\\omega) V_l(\\omega).\n",
    "$$\n",
    "\n",
    "Below, we demonstrate how to transform $G_l$ to the DLR coefficients $c_p$."
   ]
  },
  {
   "cell_type": "code",
   "execution_count": null,
   "id": "76ac3aac",
   "metadata": {},
   "outputs": [],
   "source": [
    "using SparseIR\n",
    "using Plots\n",
    "gr() # USE GR backend\n",
    "using LaTeXStrings"
   ]
  },
  {
   "cell_type": "markdown",
   "id": "27f89fff",
   "metadata": {},
   "source": [
    "## Implementation\n",
    "\n",
    "### Create basis object"
   ]
  },
  {
   "cell_type": "code",
   "execution_count": null,
   "id": "98e78818",
   "metadata": {},
   "outputs": [],
   "source": [
    "wmax = 1.0\n",
    "lambda_ = 1e+4\n",
    "beta = lambda_/wmax\n",
    "\n",
    "basis = FiniteTempBasis(Fermionic(), beta, wmax, 1e-15)\n",
    "print(length(basis))"
   ]
  },
  {
   "cell_type": "markdown",
   "id": "3ac1db9e",
   "metadata": {},
   "source": [
    "### Setup model"
   ]
  },
  {
   "cell_type": "code",
   "execution_count": null,
   "id": "7a7f6c67",
   "metadata": {},
   "outputs": [],
   "source": [
    "rho(omega) = sqrt(1-omega^2)/sqrt(0.5*π)\n",
    "\n",
    "omega = LinRange(-wmax, wmax, 1000)\n",
    "plot(omega, rho.(omega), xlabel=latexstring(\"\\\\omega\"), ylabel=latexstring(\"\\\\rho(\\\\omega)\"))"
   ]
  },
  {
   "cell_type": "code",
   "execution_count": null,
   "id": "ed51c392",
   "metadata": {},
   "outputs": [],
   "source": [
    "rhol = overlap(basis.v, rho)\n",
    "ls = collect(1:length(basis))\n",
    "plot(ls[1:2:end], abs.(rhol)[1:2:end], marker=:cross, yaxis=:log, ylims=(1e-5,1))"
   ]
  },
  {
   "cell_type": "code",
   "execution_count": null,
   "id": "4e715880",
   "metadata": {},
   "outputs": [],
   "source": [
    "gl = - basis.s .* rhol\n",
    "plot(ls[1:2:end], abs.(gl)[1:2:end], marker=:cross, ylims=(1e-5,10), yaxis=:log)"
   ]
  },
  {
   "cell_type": "markdown",
   "id": "85bf5bc7",
   "metadata": {},
   "source": [
    "### Create a DLR object and perform transformation"
   ]
  },
  {
   "cell_type": "code",
   "execution_count": null,
   "id": "0e8d8185",
   "metadata": {},
   "outputs": [],
   "source": [
    "dlr = DiscreteLehmannRepresentation(basis)\n",
    "\n",
    "# To DLR\n",
    "g_dlr = SparseIR.from_IR(dlr, gl)\n",
    "\n",
    "plot(dlr.poles, g_dlr, marker=:cross)"
   ]
  },
  {
   "cell_type": "code",
   "execution_count": null,
   "id": "cb1372b7",
   "metadata": {},
   "outputs": [],
   "source": [
    "# Transform back to IR from DLR\n",
    "gl_reconst = SparseIR.to_IR(dlr, g_dlr)\n",
    "\n",
    "plot(\n",
    "    [abs.(gl), abs.(gl_reconst), abs.(gl-gl_reconst)],\n",
    "    label=[\"Exact\" \"Reconstructed from DLR\" \"error\"],\n",
    "    marker=[:cross :x :circle], line=(nothing,nothing,nothing), yaxis=:log,\n",
    "    ylims=(1e-18,10)\n",
    ")"
   ]
  },
  {
   "cell_type": "markdown",
   "id": "22482b19",
   "metadata": {},
   "source": [
    "### Evaluation on Matsubara frequencies"
   ]
  },
  {
   "cell_type": "code",
   "execution_count": null,
   "id": "60fbc08b",
   "metadata": {},
   "outputs": [],
   "source": [
    "#v = 2 .* collect(-1000:10:1000) .+ 1\n",
    "v = FermionicFreq.(2 .* collect(-1000:10:1000) .+ 1)\n",
    "iv = SparseIR.valueim.(v, beta)\n",
    "\n",
    "newaxis = [CartesianIndex()]\n",
    "transmat = 1 ./ (iv[:,newaxis] .- dlr.poles[newaxis,:])\n",
    "giv = transmat * g_dlr\n",
    "\n",
    "smpl = MatsubaraSampling(basis; sampling_points=v)\n",
    "giv_exact = evaluate(smpl, gl)\n",
    "\n",
    "plot(\n",
    "    imag.(iv), [imag.(giv_exact), imag.(giv)], marker=[:cross :x], line=(nothing,nothing),\n",
    "    xlabel=latexstring(\"\\\\nu\"),\n",
    "    ylabel=latexstring(\"G(\\\\mathrm{i}\\\\omega_n)\")\n",
    "    )"
   ]
  }
 ],
 "metadata": {
  "kernelspec": {
   "display_name": "Julia 1.9.1",
   "language": "julia",
   "name": "julia-1.9"
  },
  "language_info": {
   "file_extension": ".jl",
   "mimetype": "application/julia",
   "name": "julia",
   "version": "1.9.1"
  }
 },
 "nbformat": 4,
 "nbformat_minor": 5
}
