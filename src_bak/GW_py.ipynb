{
 "cells": [
  {
   "cell_type": "code",
   "execution_count": null,
   "metadata": {},
   "outputs": [],
   "source": [
    "import numpy as np\n",
    "import matplotlib.pyplot as pl\n",
    "import sparse_ir\n",
    "import sys \n",
    "import math"
   ]
  },
  {
   "cell_type": "code",
   "execution_count": null,
   "metadata": {},
   "outputs": [],
   "source": [
    "T=0.1\n",
    "wmax =1\n",
    "\n",
    "beta = 1/T"
   ]
  },
  {
   "cell_type": "code",
   "execution_count": null,
   "metadata": {},
   "outputs": [],
   "source": [
    "#construction of the Kernel K\n",
    "\n",
    "#Fermionic Basis\n",
    "\n",
    "basisf = sparse_ir.FiniteTempBasis('F', beta, wmax)\n",
    "\n",
    "matsf=sparse_ir.MatsubaraSampling(basisf)\n",
    "tausf=sparse_ir.TauSampling(basisf)\n",
    "\n",
    "#Bosonic Basis\n",
    "\n",
    "basisb = sparse_ir.FiniteTempBasis('B', beta, wmax)\n",
    "      \n",
    "matsb=sparse_ir.MatsubaraSampling(basisb)\n",
    "tausb=sparse_ir.TauSampling(basisb)"
   ]
  },
  {
   "cell_type": "code",
   "execution_count": null,
   "metadata": {},
   "outputs": [],
   "source": [
    "def rho(x):\n",
    "    return 2/np.pi*np.sqrt(1-(x/wmax)**2)\n",
    "\n",
    "rho_l=basisf.v.overlap(rho)\n",
    "\n",
    "G_l_0=-basisf.s*rho_l  \n",
    "\n",
    "\n",
    "#We compute G_iw two times as we will need G_iw_0 as a constant later on\n",
    "\n",
    "G_iw_0=matsf.evaluate(G_l_0)\n",
    "G_iw_f=matsf.evaluate(G_l_0)\n"
   ]
  },
  {
   "cell_type": "code",
   "execution_count": null,
   "metadata": {},
   "outputs": [],
   "source": [
    "#Iterations\n",
    "i=0\n",
    "\n",
    "#storage for E_iw to show convergence after iterations\n",
    "E_iw_f_arr=[]"
   ]
  },
  {
   "cell_type": "markdown",
   "metadata": {},
   "source": [
    "The GF2 & GW method\n",
    "-----------"
   ]
  },
  {
   "cell_type": "markdown",
   "metadata": {},
   "source": [
    "Above we have successfully derived $G^F(\\bar{\\tau}_k^F)$ from $\\hat {G}^F(i\\bar{\\omega}_n^F)$ by first obtaining the Green's function's basis representation $G_l^F$ and secondly evaluating $G_l^F$ on the $\\tau$-sampling points, which are given by the computations of sparse_ir. Here, the self-consistent second order Green's function theory (GF2) and the self-consistent GW method are are based this very mechanism (and the so called Hedin equations).[5][7]\n",
    "\n",
    "The following image should give an overview on their iterative schemes[5]:\n",
    "\n",
    "<br>\n",
    "\n",
    "![GF2_GW_pic.PNG](GF2_GW_pic.PNG)\n"
   ]
  },
  {
   "cell_type": "markdown",
   "metadata": {},
   "source": [
    "Evaluation and transformation in GW and GF2 is done in the same way (fitting and evaluating) for the quantities $G,P,W$ and $\\Sigma$. The transition between these quantities is given by the five Hedin Equations as shown in the panel below (instead of $P$ the Polarization is denoted with an $\\tilde{\\chi}$).[12] Because the vertex function (between $P$ and $W$) is approximated as $\\Gamma=1$, we will only deal with four of them in the GW&GF2 method. By using sparse sampling and the IR basis it is possible to solve these diagrammatic equations efficiently without sustaining a loss in accuracy.[9]\n",
    "<br>\n",
    "![Hedin_pic.PNG](Hedin_pic.PNG)"
   ]
  },
  {
   "cell_type": "markdown",
   "metadata": {},
   "source": [
    "The following code shows a step by step example to compute each of these quantities :\n",
    "\n",
    "Let us start with computing $G_l^F$ from the imaginary-frequency Green's function we have obtained above. This will also be the starting point for every new iteration one might want to perform."
   ]
  },
  {
   "cell_type": "code",
   "execution_count": null,
   "metadata": {},
   "outputs": [],
   "source": [
    "#Calculation of G_l_f using Least-Squares Fitting\n",
    "\n",
    "G_l_f=matsf.fit(G_iw_f)\n",
    "\n",
    "                \n",
    "#G_tau,fermionic   \n",
    "\n",
    "G_tau_f=tausf.evaluate(G_l_f)\n"
   ]
  },
  {
   "cell_type": "markdown",
   "metadata": {},
   "source": [
    "The next step in order to perform a full iteration of GF2 & GW is the evaluation of the basis representation $G_l^F$ on the $\\tau$-sampling points.  Contrary to before when we computed $G(\\bar{\\tau}_k^F)$, these sampling point will be the bosonic sampling points $\\tau_k^B$. This allows us to switch to bosonic statistic and thus be able to calculate associated quantities like the Polarization $P$.[5]\n",
    "\n",
    "$$G(\\bar{\\tau}_k^B)= \\sum_{l=0}^{L-1}G_l^F  U_l^F(\\bar{\\tau}_k^B)$$\n"
   ]
  },
  {
   "cell_type": "code",
   "execution_count": null,
   "metadata": {},
   "outputs": [],
   "source": [
    "#G_tau, bosonic\n",
    "\n",
    "G_tau_b=np.einsum('lt,l->t',basisf.u(tausb.tau),G_l_f)\n",
    "\n",
    "#G_tau_b=tausb.evaluate(G_l_f)"
   ]
  },
  {
   "cell_type": "code",
   "execution_count": null,
   "metadata": {},
   "outputs": [],
   "source": [
    "pl.plot(tausb.tau,G_tau_b.real,label='real')\n",
    "pl.plot(tausb.tau,G_tau_b.imag,label='imaginary')\n",
    "\n",
    "pl.title(r'$G(\\tau)$')\n",
    "pl.xlabel(r'$\\tau$')\n",
    "pl.legend()"
   ]
  },
  {
   "cell_type": "markdown",
   "metadata": {},
   "source": [
    "The so-called Polarization $P(\\bar\\tau_k^B)$ is given by the random phase approximation, a connection between two Green's functions:\n",
    "\n",
    "$$P(\\bar{\\tau}_k^B)=G(\\bar{\\tau}_k^B)*G(\\beta-\\bar{\\tau}_k^B)$$\n"
   ]
  },
  {
   "cell_type": "code",
   "execution_count": null,
   "metadata": {},
   "outputs": [],
   "source": [
    "#Polarisation P, bosonic\n",
    "\n",
    "P_tau_b=G_tau_b*(basisf.u(beta-tausb.tau).T@G_l_f)"
   ]
  },
  {
   "cell_type": "code",
   "execution_count": null,
   "metadata": {},
   "outputs": [],
   "source": [
    "pl.plot(tausb.tau,P_tau_b.imag,label='imaginary')\n",
    "pl.plot(tausb.tau,P_tau_b.real,label='real')\n",
    "\n",
    "pl.title(r' $P(\\tau)$')\n",
    "pl.xlabel(r'$\\tau$')\n",
    "pl.legend()"
   ]
  },
  {
   "cell_type": "markdown",
   "metadata": {},
   "source": [
    "The same way we transformed $\\hat G^F(i\\bar{\\omega}_n^F)$ into $G^B(\\bar\\tau_k^B)$ we are now able to transform $P^B(\\bar\\tau_k^B)$ into $\\hat P^B(i\\bar{\\omega}_n^B)$ again using least Square fitting and evaluating $P_l^B$ on the given sampling points (Matsubara frequencies).\n"
   ]
  },
  {
   "cell_type": "markdown",
   "metadata": {},
   "source": [
    "$$P_l^B=\\underset{P_l}{\\arg\\min}   \\sum_{k}|P(\\bar{{\\tau}}_k^B)-\\sum_{l=0}^{N-1}\\hat{U}_l^B (\\bar{\\tau}_k^B)P_l|^2$$"
   ]
  },
  {
   "cell_type": "code",
   "execution_count": null,
   "metadata": {},
   "outputs": [],
   "source": [
    "#P_l, bosonic\n",
    "\n",
    "\n",
    "P_l_b=tausb.fit(P_tau_b)"
   ]
  },
  {
   "cell_type": "code",
   "execution_count": null,
   "metadata": {},
   "outputs": [],
   "source": [
    "pl.semilogy(np.abs(P_l_b),'+-')\n",
    "pl.title('$P_l^B$ over l ')\n",
    "pl.xticks(range(0,20))\n",
    "pl.xlabel('l')"
   ]
  },
  {
   "cell_type": "markdown",
   "metadata": {},
   "source": [
    "$$\\hat{P}(i\\bar{\\omega}_k^B)= \\sum_{l=0}^{N-1} P_l^B\\hat{U}_l^B(i\\bar{\\omega}_n^B)$$"
   ]
  },
  {
   "cell_type": "code",
   "execution_count": null,
   "metadata": {},
   "outputs": [],
   "source": [
    "#P_iw, bosonic\n",
    "\n",
    "#P_iw_b=np.einsum('lv,l->v', basisb.uhat(matsb.wn),P_l_b)\n",
    "\n",
    "P_iw_b=matsb.evaluate(P_l_b)"
   ]
  },
  {
   "cell_type": "code",
   "execution_count": null,
   "metadata": {},
   "outputs": [],
   "source": [
    "pl.plot(matsb.wn,P_iw_b.imag,label='imaginary')\n",
    "pl.plot(matsb.wn,P_iw_b.real,label='real')\n",
    "pl.title(r'$P(i\\omega)$')\n",
    "pl.xlabel(r'$\\omega$')\n",
    "pl.legend()"
   ]
  },
  {
   "cell_type": "markdown",
   "metadata": {},
   "source": [
    "Following $P$ we will now calculate the Screened Interaction $W$ with the following formula: \n",
    " \n",
    "$$\\hat{{W}}(i\\bar{\\omega}_n^B)= U + U\\hat{P}(i\\bar{\\omega}_n^B)\\hat{{W}}(i\\bar{\\omega}_n^B)$$\n",
    "\n",
    "or\n",
    "\n",
    "$$\\hat{{W}}(i\\bar{\\omega}_n^B)= \\frac{U}{1-U\\hat{P}(i\\bar{\\omega}_n^B)}$$\n",
    "\n",
    "This equation has the exact same form as the Dyson equation but instead of connecting the Green's functions and the self energy it connects the Screened Coulomb Interaction $W$ and the polarization operator $P$. Because $U$ is the bare Coulomb interaction and $P$ is an object containing all irreducible processes (meaning in Feynmann diagrams cutting an interaction line U does not result in two sides) $W$ can be understood as the sum of all possible Feymann diagrams with an interaction U between its two parts.[5][11] This becomes quite intuitive if we look at \n",
    "\n",
    "$$W= U + UPW= U+UP(U+UP(U+UP(...)))=U+UPU+...$$"
   ]
  },
  {
   "cell_type": "code",
   "execution_count": null,
   "metadata": {},
   "outputs": [],
   "source": [
    "#W_iw, bosonic  \n",
    "\n",
    "U=1/2\n",
    "\n",
    "W_iw_b_U=U/(1-(U*P_iw_b))\n",
    "\n",
    "W_iw_b=W_iw_b_U-U\n",
    "\n",
    "#W_iw_b is the part depending on the frequency, any further calculations \n",
    "#will be done using this and not W_iw_b_U"
   ]
  },
  {
   "cell_type": "code",
   "execution_count": null,
   "metadata": {},
   "outputs": [],
   "source": [
    "pl.plot(matsb.wn,W_iw_b.imag,label='imaginary')\n",
    "pl.plot(matsb.wn,W_iw_b.real,label='real')\n",
    "pl.title(r'$W(i\\omega)$')\n",
    "pl.xlabel(r'$\\omega$')\n",
    "pl.legend()"
   ]
  },
  {
   "cell_type": "markdown",
   "metadata": {},
   "source": [
    "$$W_l^B$$"
   ]
  },
  {
   "cell_type": "code",
   "execution_count": null,
   "metadata": {},
   "outputs": [],
   "source": [
    "#W_l, bosonic\n",
    "\n",
    "W_l_b=matsb.fit(W_iw_b)"
   ]
  },
  {
   "cell_type": "code",
   "execution_count": null,
   "metadata": {},
   "outputs": [],
   "source": [
    "pl.semilogy(np.abs(W_l_b),'+-')\n",
    "pl.title('$W_l^B$ over l ')\n",
    "pl.xticks(range(0,20))\n",
    "pl.xlabel('l')"
   ]
  },
  {
   "cell_type": "markdown",
   "metadata": {},
   "source": [
    "In the next step we are changing back into fermionic statistics: \n",
    "\n",
    "$${W}(\\bar{\\tau}_k^F)= \\sum_{l=0}^{N-1} W_l ^BU_l^B(\\bar{\\tau}_k^F) $$"
   ]
  },
  {
   "cell_type": "code",
   "execution_count": null,
   "metadata": {},
   "outputs": [],
   "source": [
    "#W_tau_f, fermionic\n",
    "\n",
    "W_tau_f=np.einsum('lt,l->t',basisb.u(tausf.tau),W_l_b)\n",
    "\n",
    "#W_tau_f=tausf.evaluate(W_l_b)"
   ]
  },
  {
   "cell_type": "code",
   "execution_count": null,
   "metadata": {},
   "outputs": [],
   "source": [
    "pl.plot(tausf.tau,W_tau_f.imag,label='imaginary')\n",
    "pl.plot(tausf.tau,W_tau_f.real,label='real')\n",
    "pl.title(r'$W(\\tau)$')\n",
    "pl.xlabel(r'$\\tau$')\n",
    "pl.legend()"
   ]
  },
  {
   "cell_type": "markdown",
   "metadata": {},
   "source": [
    "After changing back into fermionic statistics the next quantity that is being dealt with is the so-called self energy $\\Sigma$. When we first introduced the Dyson equation in the first chapter, we saw $V$ as some sort of pertubation. The self-energy is very much alike as it describes the correlation effects of a many-body system. Here we will calculate $\\tilde{\\Sigma}(\\bar{\\tau}_k^F)$ using $\\Sigma^{GW}$ so that\n",
    "\n",
    "$${\\Sigma}(\\bar{\\tau}_k^F)=-G(\\bar{\\tau}_k^F)*{W}(\\bar{\\tau}_k^F).$$\n",
    "\n",
    "This can again be rewritten into its equivalent form\n",
    "\n",
    "$$\\Sigma=-G(U+UP(U+UP(...)))= -(GU+GUPU+GUPUPU+...)$$"
   ]
  },
  {
   "cell_type": "code",
   "execution_count": null,
   "metadata": {},
   "outputs": [],
   "source": [
    "#E_tau , fermionic   \n",
    "\n",
    "E_tau_f=G_tau_f*W_tau_f"
   ]
  },
  {
   "cell_type": "code",
   "execution_count": null,
   "metadata": {},
   "outputs": [],
   "source": [
    "pl.plot(tausf.tau,E_tau_f.imag,label='imaginary')\n",
    "pl.plot(tausf.tau,E_tau_f.real,label='real')\n",
    "pl.title(r'$\\Sigma(\\tau)$')\n",
    "pl.xlabel(r'$\\tau$')\n",
    "pl.legend()"
   ]
  },
  {
   "cell_type": "markdown",
   "metadata": {},
   "source": [
    "$${\\Sigma}_l^F$$"
   ]
  },
  {
   "cell_type": "code",
   "execution_count": null,
   "metadata": {},
   "outputs": [],
   "source": [
    "#E_l, fermionic\n",
    "\n",
    "E_l_f=tausf.fit(E_tau_f)"
   ]
  },
  {
   "cell_type": "code",
   "execution_count": null,
   "metadata": {},
   "outputs": [],
   "source": [
    "pl.semilogy(np.abs(E_l_f),'+-')\n",
    "pl.title('$\\Sigma_l^F$ over l ')\n",
    "pl.xticks(range(0,20))\n",
    "pl.xlabel('l')"
   ]
  },
  {
   "cell_type": "markdown",
   "metadata": {},
   "source": [
    "We will calculate\n",
    "\n",
    "$$\\hat{\\Sigma}(i\\bar{\\omega}_n^F)=-UG(\\beta)+\\sum_{l=0}^{N-1}{\\Sigma}_l^F \\hat{U}_l^F(i\\bar{\\omega}_n^F)$$\n",
    "\n",
    "with $UG(\\beta)$ as the so called Hartee Fock term."
   ]
  },
  {
   "cell_type": "code",
   "execution_count": null,
   "metadata": {},
   "outputs": [],
   "source": [
    "#E_iw, fermionic\n",
    "\n",
    "#E_iw_f=p.einsum('lw,l->w',basisf.uhat(matsf.wn),E_l_f)-U*(basisf.u(beta).T@G_l_f)\n",
    "\n",
    "E_iw_f_U=matsf.evaluate(E_l_f)-U*(basisf.u(beta).T@G_l_f)\n",
    "E_iw_f=matsf.evaluate(E_l_f)\n",
    "\n",
    "\n",
    "#store E_iw_f of this iteration in E_iw_f_arr\n",
    "E_iw_f_arr.append(E_iw_f_U)"
   ]
  },
  {
   "cell_type": "code",
   "execution_count": null,
   "metadata": {},
   "outputs": [],
   "source": [
    "fig, ax = pl.subplots(1,2, figsize=(12,5) )\n",
    "ax[0].plot(matsf.wn,E_iw_f_U.imag)\n",
    "ax[0].set_title('Imaginary part of $\\Sigma(i\\omega)$')\n",
    "ax[0].set_xlabel(r'$\\omega$')\n",
    "ax[1].plot(matsf.wn,E_iw_f_U.real)\n",
    "ax[1].set_title('Real part of $\\Sigma(i\\omega)$')\n",
    "ax[1].set_xlabel(r'$\\omega$')"
   ]
  },
  {
   "cell_type": "markdown",
   "metadata": {},
   "source": [
    "Last but not least we will obtain $G^F(i\\bar{\\omega}_n^F)$ through the Dyson Equation of GW:\n",
    "\n",
    "$$\\hat{G}(i\\bar{\\omega}_k^F)=G_0(i\\bar{\\omega}_k^F)+G_0(i\\bar{\\omega}_k^F)\\hat{\\Sigma}(i\\bar{\\omega}_n^F)\\hat{G}(i\\bar{\\omega}_k^F)$$\n",
    "\n",
    "or\n",
    "\n",
    "$$\\hat{G}(i\\bar{\\omega}_k^F)=\\frac{1}{G_0(i\\bar{\\omega}_k^F)^{-1}-\\hat{\\Sigma}(i\\bar{\\omega}_n^F)}$$\n",
    "\n",
    "We have now calculated the full Green's function of the system with $\\Sigma$ as a set of (one-particle) irreducible processes connected by $G_0$.[11]"
   ]
  },
  {
   "cell_type": "code",
   "execution_count": null,
   "metadata": {},
   "outputs": [],
   "source": [
    "#G_iw, fermonic     -> Dyson Equation\n",
    "\n",
    "G_iw_f=((G_iw_0)**-1-E_iw_f)**-1    "
   ]
  },
  {
   "cell_type": "code",
   "execution_count": null,
   "metadata": {},
   "outputs": [],
   "source": [
    "pl.plot(matsf.wn,G_iw_f.imag,label='imaginary')\n",
    "pl.plot(matsf.wn,G_iw_f.real,label='real')\n",
    "pl.title(r'$G(i\\omega)$')\n",
    "pl.xlabel(r'$\\omega$')\n",
    "pl.legend()"
   ]
  },
  {
   "cell_type": "code",
   "execution_count": null,
   "metadata": {},
   "outputs": [],
   "source": [
    "if (i>0):\n",
    "    pl.plot(matsf.wn,E_iw_f_arr[i].imag,label='current')\n",
    "    pl.title(r'$\\Sigma(i\\omega)$ in the current and previous iteration')\n",
    "    pl.plot(matsf.wn,E_iw_f_arr[i-1].imag,'.',label='previous')\n",
    "    pl.legend()\n",
    "    pl.show()\n",
    "    pl.plot(matsf.wn,np.abs(E_iw_f_arr[i]-E_iw_f_arr[i-1]))\n",
    "    pl.title(r'$|\\Sigma_i(i\\omega)-\\Sigma_{i-1}(i\\omega)|$' )\n",
    "    "
   ]
  },
  {
   "cell_type": "code",
   "execution_count": null,
   "metadata": {},
   "outputs": [],
   "source": [
    "#Iterations \n",
    "i+=1\n",
    "print('full iterations: ',i)"
   ]
  },
  {
   "cell_type": "code",
   "execution_count": null,
   "metadata": {},
   "outputs": [],
   "source": [
    "print(G_iw_f)"
   ]
  },
  {
   "cell_type": "markdown",
   "metadata": {},
   "source": [
    "With this we have completed one full iteration of GF2 & GW. Repeating this over and over again will show convergence and thus give the desired approximation to the self-energy. "
   ]
  },
  {
   "cell_type": "markdown",
   "metadata": {},
   "source": [
    "Conclusion\n",
    "------\n"
   ]
  },
  {
   "cell_type": "markdown",
   "metadata": {},
   "source": [
    "The above code illustrated a full iteration of GW & GF2 with sparse_ir.\n",
    "\n",
    "Taking advantage of the Singular Value Expansion of the imaginary time Green's function allowed for the construction of the Intermediate Representation: A basis for the Matsubara Green's function which makes it possible to switch back and forth between time and frequency domain.\n",
    "\n",
    "Pairing this with the GW & GF2 approximations and the Hedin equations, we were able to make use of the IR. Because the Hedin equations are diagonal in one or the other representation, we had the IR basis work as a translator between these and ensure excact as well as fast calcuations for quantities like the self-energy, the polarization and the screened colomb interaction. All this while suffering a minimal loss in information.\n",
    "\n",
    "Each quantity was computed after the same scheme: Calculation, transformation and Evaluation. First we derived the quantity in its time or frequency representation through a Hedin equation. Then we transformed it using Least Square fitting. Once we obtained the IR expansion coefficients we were able to evaluate the function on the corresponding sampling points given by sparse_ir.\n",
    "\n",
    "Of course, in order to increase the accuracy of our calculations more iterations will be needed. \n",
    "\n",
    "Naturally this idea of using the Intermediate Representation in order to facilitate calculations can be expanded in various directions. One could go beyond single orbital calculations with the use of matrices or implement another type of vertex-approximation. Undoubtedly not anywhere near all options have been exhausted, not for the use of the IR Basis nor other machine learning methods used in physics."
   ]
  },
  {
   "cell_type": "markdown",
   "metadata": {},
   "source": [
    "Sources\n",
    "---------"
   ]
  },
  {
   "cell_type": "markdown",
   "metadata": {},
   "source": [
    "[1] H.Bruus, Karsten Flensberg,_Many-body Quantum Theory in Condensed    Matter  Physics_ (Oxford University Press Inc., New York, 2004)<br>\n",
    "[2] J.W.Negele, H.Orland, _Quantum Many-Particle Systems_ (Westview Press, 1998)<br>\n",
    "[3] G.D.Mahan,_Many-Particle Physics_ (Kluwer Academic/Plenum Publishers, New York, 2000)<br>\n",
    "[4] P.C.Hansen,_Dicrete Inverse Problems_(Society for Industrial and Applied Mathematics, Philadelphia,2010)<br>\n",
    "[5] J.Li, M.Wallerberger, N.Chikano, C.Yeh, E.Gull and H.Shinaoka, Sparse sampling approach to efficient ab initio calculations at finite temperature, Phys. Rev. B 101, 035144 (2020)<br>\n",
    "[6] M.Wallerberger, H. Shinaoka, A.Kauch, Solving the Bethe–Salpeter equation with exponential convergence, Phys. Rev. Research 3, 033168 (2021)<br>\n",
    "[7] H. Shinaoka, N. Chikano, E. Gull, J. Li, T. Nomoto, J. Otsuki, M. Wallerberger, T. Wang, K. Yoshimi, Efficient ab initio many-body calculations based on sparse modeling of Matsubara Green’s function (2021)<br>\n",
    "[8] F. Aryasetiawan and O. Gunnarsson, The GW method, Rep. Prog. Phys. 61 (1998) 237<br>\n",
    "[9] Matteo Gatti, _The GW approximation_, TDDFT school, Benasque (2014)<br>\n",
    "[10] C.Friedrich, _Many-Body Pertubation Theory;The GW approximation_, Peter Grünberg Institut and Institute for Advanced Simulation, Jülich <br>\n",
    "[11] K. Held, C. Taranto, G. Rohringer, and A. Toschi, _Hedin Equations, GW, GW+DMFT, and All That_ (Modeling and Simulation Vol. 1, Forschungszentrum Jülich, 2011)<br>\n",
    "[12] X. Gonze, B. Amadon, P.-M. Anglade, J.-M. Beuken, F. Bottin, P. Boulanger,\n",
    "F. Bruneval, D. Caliste, R. Caracas, M. Côté, T. Deutsch, L. Genovese, Ph. Ghosez,M. Giantomassi, S. Goedecker, D.R. Hamann, P. Hermet, F. Jollet, G. Jomard, S. Leroux, M. Mancini, S. Mazevet, M.J.T. Oliveira, G. Onida, Y. Pouillon, T. Rangel,G.-M. Rignanese, D. Sangalli, R. Shaltaf, M. Torrent, M.J. Verstraete, G. Zerah, J.W. Zwanziger, _ABINIT: First-principles approach to material and nanosystem properties_, Computer Physics Communications 180 (2009) 2582–2615<br>\n",
    "[13] H. Shinaoka, J. Otsuki, M. Ohzeki and K. Yoshimi, Compressing Green’s function using\n",
    "intermediate representation between imaginary-time and real-frequency domains, Physical\n",
    "Review B 96(3), 035147 (2017), doi:10.1103/physrevb.96.035147.<br>\n",
    "[14] J. Otsuki, M. Ohzeki, H. Shinaoka and K. Yoshimi, Sparse modeling approach to ana\u0002lytical continuation of imaginary-time quantum Monte Carlo data, Physical Review E\n",
    "95(6), 061302(R) (2017), doi:10.1103/physreve.95.061302.<br>\n",
    "    "
   ]
  },
  {
   "cell_type": "code",
   "execution_count": null,
   "metadata": {},
   "outputs": [],
   "source": []
  }
 ],
 "metadata": {
  "celltoolbar": "Tags",
  "kernelspec": {
   "display_name": "Python 3 (ipykernel)",
   "language": "python",
   "name": "python3"
  },
  "language_info": {
   "codemirror_mode": {
    "name": "ipython",
    "version": 3
   },
   "file_extension": ".py",
   "mimetype": "text/x-python",
   "name": "python",
   "nbconvert_exporter": "python",
   "pygments_lexer": "ipython3",
   "version": "3.10.5"
  }
 },
 "nbformat": 4,
 "nbformat_minor": 4
}
