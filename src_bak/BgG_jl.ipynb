{
 "cells": [
  {
   "cell_type": "markdown",
   "id": "4a276dd3",
   "metadata": {},
   "source": [
    "# Bogoliubov-de Gennes equations in real space\n",
    "\n",
    "Author: [Yuki Nagai](mailto:nagai.yuki@jaea.go.jp)\n",
    "\n",
    "**This notebook is expensive. Running this notebook takes a few minutes.**\n",
    "\n",
    "We consider a superconductivity in a mean-field level.\n",
    "\n",
    "## Basic theory of superconductivity in real space\n",
    "Let us consider a Hamiltonian for a fermion system given as $H = \\psi^{\\dagger} \\hat{\\cal H} \\psi/2$. \n",
    "The column vector $\\psi$ is composed of $N$ fermionic annihilation $c_i$ and creation operators $c_i^{\\dagger}$ $(i = 1,2,\\cdots,N)$, $\\psi = (\\{ c_i \\}^T, \\{ c_i^{\\dagger} \\}^T)$, where $\\{ c_i \\} = (c_1,c_2,\\cdots,c_N)^T$ and $\\{ c_i^{\\dagger} \\} = (c_1^{\\dagger},c_2^{\\dagger},\\cdots,c_N^{\\dagger})$. The row vector $\\psi^{\\dagger}$ is also defined as $\\psi^{\\dagger} = (\\{c_i^{\\dagger} \\}^T, \\{ c_i \\}^T)$.\n",
    "The subscription $i$ in $c_i$ or $c_i^{\\dagger}$ indicates a quantum index depending on spatial site, spin, orbital, etc. The \"Hamiltonian\" matrix $\\hat{\\cal H}$ is a $2N \\times 2N$ Hermitian matrix given as \n",
    "\n",
    "$$\n",
    "\\hat{\\cal H} = \\left( \\begin{matrix} \\hat{H} & \\hat{\\Delta} \\\\\n",
    "\\hat{\\Delta}^{\\dagger} & - \\hat{H}^{\\ast}\n",
    "\\end{matrix}\n",
    "\\right),\n",
    "$$\n",
    "\n",
    "where $\\hat{H}$ is a normal state Hamiltonian and $\\hat{\\Delta}$ is a superconducting order parameter."
   ]
  },
  {
   "cell_type": "markdown",
   "id": "fd3ba213",
   "metadata": {},
   "source": [
    "The BdG equations are regarded as the eigenvalue equation with respect to $\\hat{\\cal H}$ expressed as \n",
    "\n",
    "$$\n",
    "\\hat{\\cal H} \\vec{f}_{\\gamma} = \\epsilon_{\\gamma} \\vec{f}_{\\gamma}\n",
    "$$\n",
    "\n",
    "$$\n",
    " \\vec{f}_{\\gamma} = \\left(  \\begin{matrix}\n",
    " \\vec{u}_{\\gamma} \\\\\n",
    " \\vec{v}_{\\gamma}\n",
    " \\end{matrix}\n",
    " \\right)\n",
    "$$\n",
    "\n",
    "The column vectors $\\vec{u}_{\\gamma}$ and $\\vec{v}_{\\gamma}$ are $N$-component complex vetors. \n",
    "To solve the BdG equations is equivalent to diagonalization of $\\hat{\\cal H}$ with a unitary matrix $\\hat{U}$, \n",
    "\n",
    "$$\n",
    "\\hat{U}^{\\dagger} \\hat{\\cal H} \\hat{U} = \\hat{D}, \\: \\: \\: \\hat{D} = {\\rm diag} (\\epsilon_1,\\epsilon_2,\\cdots,\\epsilon_{2N})\n",
    "$$"
   ]
  },
  {
   "cell_type": "markdown",
   "id": "ffa8a3b9",
   "metadata": {},
   "source": [
    "Mean-fields are calculated by one-particle Green's functions. \n",
    "In the mean-field framework, the $2N \\times 2N$ matrix Green's function with a complex frequency is defined as \n",
    "\n",
    "$$\n",
    "\\hat{G}(z) = [z \\hat{I} - \\hat{\\cal H}]^{-1}.\n",
    "$$\n",
    "\n",
    "With the unitary matrix $\\hat{U}$, each component of $\\hat{G}(z)$ is epressed as \n",
    "\n",
    "$$\n",
    "G_{\\alpha \\beta}(z) = \\sum_{\\gamma=1}^{2N} U_{\\alpha \\gamma} U_{\\beta \\gamma}^{\\ast} \\frac{1}{z - \\epsilon_{\\gamma}}\n",
    "$$\n",
    "\n",
    "If we set $z = i \\omega_n$ with the Matsubara frequency $\\omega_n = (2n+1)\\pi T$, the above formula corresponds to Matsubara temperature Green's function. \n",
    "The regarded and advanced Green's functions are, respectively, defined as \n",
    "\n",
    "$$\n",
    "\\hat{G}^{\\rm R}(\\omega) = \\lim_{\\tau \\rightarrow 0+} \\hat{G}(\\omega + i \\eta)\n",
    "$$\n",
    "\n",
    "$$\n",
    "\\hat{G}^{\\rm A}(\\omega) = \\lim_{\\tau \\rightarrow 0+} \\hat{G}(\\omega - i \\eta)\n",
    "$$\n",
    "\n",
    "In order to obtain physical quantities (e.g., density of states) from Green's functions, we introduce the following useful $2N$-component unit-vectors $\\vec{e}(i)$ and $\\vec{h}(i)$ $(1 \\le i \\le N)$, which are, respectively, defined as\n",
    "\n",
    "$$\n",
    "[\\vec{e}(i)]_{\\gamma} = \\delta_{i,\\gamma}, \\: [\\vec{h}(i)]_{\\gamma} = \\delta_{i+N,\\gamma}\n",
    "$$\n",
    "\n",
    "For example, the local density of states with respect to the site $i$ is given as \n",
    "\n",
    "$$\n",
    "N(\\omega,i) = -\\frac{1}{2\\pi i} \\vec{e}(i)^T \\hat{d}(\\omega) \\vec{e}(i),\n",
    "$$\n",
    "\n",
    "with the use of the spectral function $\\hat{d}(\\omega)$ defined as \n",
    "\n",
    "$$\n",
    "[\\hat{d}(\\omega)]_{\\alpha \\beta} \\equiv [\\hat{G}^{\\rm R}(\\omega) - \\hat{G}^{\\rm A}(\\omega)]_{\\alpha \\beta} = - 2\\pi i \\sum_{\\gamma=1}^{2N} U_{\\alpha \\gamma} U_{\\beta \\gamma}^{\\ast} \\delta(\\omega - \\epsilon_{\\gamma})\n",
    "$$\n",
    "\n",
    "Two types of mean-fields $\\langle c_i^{\\dagger} c_j \\rangle$ and $\\langle c_i c_j \\rangle$ can be expressed as \n",
    "\n",
    "$$\n",
    "\\langle c_i^{\\dagger} c_j \\rangle = - \\frac{1}{2 \\pi i} \\int_{-\\infty}^{\\infty} d\\omega f(\\omega) \\vec{e}(j)^T \\hat{d}(\\omega) \\vec{e}(i), \n",
    "$$\n",
    "\n",
    "$$\n",
    "\\langle c_i c_j \\rangle = - \\frac{1}{2 \\pi i} \\int_{-\\infty}^{\\infty} d\\omega f(\\omega) \\vec{e}(j)^T \\hat{d}(\\omega) \\vec{h}(i), \n",
    "$$\n",
    "\n",
    "with $f(x) \\equiv 1/(e^{x/T} + 1)$."
   ]
  },
  {
   "cell_type": "markdown",
   "id": "cf3c091b",
   "metadata": {},
   "source": [
    "## Matsubara frequency representation\n",
    "With the use of the analytic continuation, the mean-fields are rewritten as \n",
    "\n",
    "$$\n",
    "\\langle c_i^{\\dagger} c_j \\rangle = T \\sum_{n=-\\infty}^{\\infty} \\vec{e}(j)^T \\hat{G}(i \\omega_n) \\vec{e}(i)\n",
    "$$\n",
    "\n",
    "$$\n",
    "\\langle c_i c_j \\rangle = T \\sum_{n=-\\infty}^{\\infty} \\vec{e}(j)^T \\hat{G}(i \\omega_n) \\vec{h}(i)\n",
    "$$\n",
    "\n",
    "By solving the linear equations defined as \n",
    "\n",
    "$$\n",
    "(i \\omega_n \\hat{I} - \\hat{\\cal H}) \\vec{x}(i,\\omega_n) = \\vec{h}(i), \n",
    "$$\n",
    "\n",
    "the superconducting mean-field is expressed as \n",
    "\n",
    "$$\n",
    "\\langle c_i c_j \\rangle = T \\sum_{n = - \\infty}^{\\infty} \\hat{e}(j)^T \\vec{x}(i,\\omega_n).\n",
    "$$\n",
    "\n",
    "For example, s-wave superconducting order parameter is defined as \n",
    "\n",
    "$$\n",
    "\\Delta_i = U \\langle c_i c_i \\rangle,\n",
    "$$\n",
    "\n",
    "The self-consistent cycle has the schematic form \n",
    "\n",
    "$$ \n",
    "\\hat{\\Delta} \\rightarrow \\hat{G}(i \\omega_n) \\rightarrow \\langle c_i c_i \\rangle \\rightarrow \\hat{\\Delta}\n",
    "$$"
   ]
  },
  {
   "cell_type": "markdown",
   "id": "bab0228f",
   "metadata": {},
   "source": [
    "## Reduced-shifted Conjugation Gradient method\n",
    "The reduced-shifted conugate-gradient (RSCG) method is numerically efficient to calculate a matrix element of a Green's function defined as a resolvent of a Hamiltonian operator, by solving linear equations with desired accuracy. The matrix elements with different frequencies are simultaneously obtained. The details are described in J. Phys. Soc. Jpn. `86`, 014708 (2017). The RSCG method is provided in RSCG.jl package."
   ]
  },
  {
   "cell_type": "markdown",
   "id": "a0b53875",
   "metadata": {},
   "source": [
    "## IR basis\n",
    "The superconducting mean-fielads are expressed as \n",
    "\n",
    "$$\n",
    "\\langle c_i c_j \\rangle =  \\vec{e}(j)^T \\hat{G}(\\tau = \\beta) \\vec{h}(i) = \\sum_{l=0}^{N_{\\rm IR}-1} U_l(\\beta) \\vec{e}(j)^T \\hat{G}_l \\vec{h}(i)\n",
    "$$\n",
    "\n",
    "Since the Matsubara Green's function is expressed as \n",
    "\n",
    "$$\n",
    "G(i \\omega_n) = \\sum_{l=0}^{N_{\\rm IR}-1} G_l U_l(i \\omega_n),\n",
    "$$\n",
    "\n",
    "one can obtain $G_l$ by fitting the above equation."
   ]
  },
  {
   "cell_type": "markdown",
   "id": "614eb9b1",
   "metadata": {},
   "source": [
    "# Two-dimensional s-wave superconductor on the square lattice\n",
    "\n",
    "The normal state Hamiltonian on the tight-binding model is expressed as \n",
    "\n",
    "$$\n",
    "\\sum_{i,j} t_{ij} c_i^{\\dagger} c_j - \\mu \\sum_i c_i^{\\dagger} c_i\n",
    "$$\n",
    "Here, $t_{ij} = -t$ if $j$ is a nearest neighbor for $i$. \n",
    "The matrix form of the above Hamiltonain is expressed as \n",
    "\n",
    "$$\n",
    "\\hat{H} = -\\mu \\hat{I} -t (\\hat{T}_{+x} + \\hat{T}_{-x} + \\hat{T}_{+y} + \\hat{T}_{-y}),\n",
    "$$\n",
    "\n",
    "where $\\hat{T}_{+x}$ is a hopping matrix with respect to $+x$ direction."
   ]
  },
  {
   "cell_type": "markdown",
   "id": "07c92769",
   "metadata": {},
   "source": [
    "In Julia code, this Hamiltonian matrix is defined as"
   ]
  },
  {
   "cell_type": "code",
   "execution_count": null,
   "id": "ba9bf2fe",
   "metadata": {},
   "outputs": [],
   "source": [
    "# Check if a given function called with given types is type stable\n",
    "function typestable(@nospecialize(f), @nospecialize(t))\n",
    "    v = code_typed(f, t)\n",
    "    stable = true\n",
    "    for vi in v\n",
    "        for (name, ty) in zip(vi[1].slotnames, vi[1].slottypes)\n",
    "            !(ty isa Type) && continue\n",
    "            if ty === Any\n",
    "                stable = false\n",
    "                println(\"Type instability is detected! the variable is $(name) ::$ty\")\n",
    "            end\n",
    "        end\n",
    "    end\n",
    "    return stable\n",
    "end\n",
    "\n",
    "using SparseArrays\n",
    "using LinearAlgebra\n",
    "function make_x_plushop(Nx,Ny,BC)\n",
    "    N = Nx*Ny\n",
    "    Txhop = spzeros(Int64,N,N)\n",
    "    for ix=1:Nx\n",
    "        for iy=1:Ny\n",
    "            i = (iy-1)*Nx + ix\n",
    "            jx = ix + 1\n",
    "            jy = iy\n",
    "            if BC == \"PBC\"\n",
    "                jx += ifelse(jx > Nx,-Nx,0)\n",
    "            elseif BC == \"OBC\"\n",
    "            else\n",
    "                error(\"BC = $BC is not supported\")\n",
    "            end\n",
    "            if 1 <= jx <= Nx\n",
    "                j = (jy-1)*Nx + jx\n",
    "                Txhop[i,j] = 1\n",
    "            end\n",
    "        end\n",
    "    end\n",
    "    return Txhop\n",
    "end\n",
    "\n",
    "function make_x_minushop(Nx,Ny,BC)\n",
    "    N = Nx*Ny\n",
    "    Txhop = spzeros(Int64,N,N)\n",
    "    for ix=1:Nx\n",
    "        for iy=1:Ny\n",
    "            i = (iy-1)*Nx + ix\n",
    "            jx = ix - 1\n",
    "            jy = iy\n",
    "            if BC == \"PBC\"\n",
    "                jx += ifelse(jx < 1,Nx,0)\n",
    "            elseif BC == \"OBC\"\n",
    "            else\n",
    "                error(\"BC = $BC is not supported\")\n",
    "            end\n",
    "            if 1 <= jx <= Nx\n",
    "                j = (jy-1)*Nx + jx\n",
    "                Txhop[i,j] = 1\n",
    "            end\n",
    "        end\n",
    "    end\n",
    "    return Txhop\n",
    "end\n",
    "\n",
    "function make_y_plushop(Nx,Ny,BC)\n",
    "    N = Nx*Ny\n",
    "    Tyhop = spzeros(Int64,N,N)\n",
    "    for ix=1:Nx\n",
    "        for iy=1:Ny\n",
    "            i = (iy-1)*Nx + ix\n",
    "            jx = ix \n",
    "            jy = iy + 1\n",
    "            if BC == \"PBC\"\n",
    "                jy += ifelse(jy > Ny,-Ny,0)\n",
    "            elseif BC == \"OBC\"\n",
    "            else\n",
    "                error(\"BC = $BC is not supported\")\n",
    "            end\n",
    "            if 1 <= jy <= Ny\n",
    "                j = (jy-1)*Nx + jx\n",
    "                Tyhop[i,j] = 1\n",
    "            end\n",
    "        end\n",
    "    end\n",
    "    return Tyhop\n",
    "end\n",
    "\n",
    "function make_y_minushop(Nx,Ny,BC)\n",
    "    N = Nx*Ny\n",
    "    Tyhop = spzeros(Int64,N,N)\n",
    "    for ix=1:Nx\n",
    "        for iy=1:Ny\n",
    "            i = (iy-1)*Nx + ix\n",
    "            jx = ix \n",
    "            jy = iy - 1\n",
    "            if BC == \"PBC\"\n",
    "                jy += ifelse(jy < 1,Ny,0)\n",
    "            elseif BC == \"OBC\"\n",
    "            else\n",
    "                error(\"BC = $BC is not supported\")\n",
    "            end\n",
    "            if 1 <= jy <= Ny\n",
    "                j = (jy-1)*Nx + jx\n",
    "                Tyhop[i,j] = 1\n",
    "            end\n",
    "        end\n",
    "    end\n",
    "    return Tyhop\n",
    "end\n",
    "\n",
    "function make_H_normal(Nx,Ny,μ,BC)\n",
    "    N = Nx*Ny\n",
    "    Tx_plushop = make_x_plushop(Nx,Ny,BC)\n",
    "    Tx_minushop = make_x_minushop(Nx,Ny,BC)\n",
    "    Ty_plushop = make_y_plushop(Nx,Ny,BC)\n",
    "    Ty_minushop = make_y_minushop(Nx,Ny,BC)\n",
    "    HN = sparse(I,N,N)*(-μ)\n",
    "    t = 1.0\n",
    "    \n",
    "    HN += -t*(Tx_plushop + Tx_minushop + Ty_plushop + Ty_minushop)\n",
    "    return HN\n",
    "end\n",
    "\n",
    "@assert typestable(make_x_plushop,(Int64,Int64,String))\n",
    "@assert typestable(make_x_minushop,(Int64,Int64,String))\n",
    "@assert typestable(make_y_plushop,(Int64,Int64,String))\n",
    "@assert typestable(make_y_minushop,(Int64,Int64,String))"
   ]
  },
  {
   "cell_type": "markdown",
   "id": "ca6bb15f",
   "metadata": {},
   "source": [
    "The onsite superconducting s-wave order parameter is defined as"
   ]
  },
  {
   "cell_type": "code",
   "execution_count": null,
   "id": "220c4c98",
   "metadata": {},
   "outputs": [],
   "source": [
    "function make_Δ(Δ)\n",
    "    Nx,Ny = size(Δ)\n",
    "    N = Nx*Ny\n",
    "    Δmat = spzeros(ComplexF64,N,N)\n",
    "    for ix=1:Nx\n",
    "        for iy=1:Ny\n",
    "            i = (iy-1)*Nx + ix\n",
    "            Δmat[i,i] = Δ[ix,iy]\n",
    "        end\n",
    "    end\n",
    "    return Δmat\n",
    "end\n",
    "@assert typestable(make_Δ,(Matrix{ComplexF64},))"
   ]
  },
  {
   "cell_type": "markdown",
   "id": "418d6e7b",
   "metadata": {},
   "source": [
    "The BdG Hamiltonian is defined as"
   ]
  },
  {
   "cell_type": "code",
   "execution_count": null,
   "id": "3f4eb626",
   "metadata": {},
   "outputs": [],
   "source": [
    "function make_H_sc(Nx,Ny,μ,Δ,BC)\n",
    "    HN = make_H_normal(Nx,Ny,μ,BC)\n",
    "    matΔ = make_Δ(Δ)\n",
    "    H = [\n",
    "        HN matΔ\n",
    "        matΔ' -conj.(HN)\n",
    "    ]\n",
    "    return H\n",
    "end\n",
    "@assert typestable(make_H_sc,(Int64,Int64,Float64,Matrix{ComplexF64},String))"
   ]
  },
  {
   "cell_type": "markdown",
   "id": "06be3d2e",
   "metadata": {},
   "source": [
    "We have to update the order parameters in the self-consistent cycle.\n",
    "The update method is implemented as"
   ]
  },
  {
   "cell_type": "code",
   "execution_count": null,
   "id": "86355692",
   "metadata": {},
   "outputs": [],
   "source": [
    "function update_H_sc!(H,Δ)\n",
    "    matΔ = make_Δ(Δ)\n",
    "    Nx,Ny = size(Δ)\n",
    "    N = Nx*Ny\n",
    "    H[1:N,1+N:2N] = matΔ\n",
    "    H[1+N:2N,1:N] = matΔ'\n",
    "end\n",
    "\n",
    "@assert typestable(update_H_sc!,(AbstractMatrix{ComplexF64},Matrix{ComplexF64}))"
   ]
  },
  {
   "cell_type": "markdown",
   "id": "ab56133a",
   "metadata": {},
   "source": [
    "## Conventional method with Matsubara frequencies\n",
    "If one wants to use the Matsubara frequencies, one has to introduce the cutoff of the frequencies. Then the mean-fields are expressed as \n",
    "\n",
    "$$\n",
    "\\langle c_i c_j \\rangle = T \\sum_{n = - n_c}^{n_c} \\hat{e}(j)^T \\vec{x}(i,\\omega_n).\n",
    "$$\n",
    "\n",
    "Here, $n_c$ is a cutoff value. \n",
    "With the use of the maximum frequency $\\omega_c$, we calculate the set of Matsubara frequencies defined as"
   ]
  },
  {
   "cell_type": "code",
   "execution_count": null,
   "id": "db63812c",
   "metadata": {},
   "outputs": [],
   "source": [
    "function calc_ωn(T,ωc)\n",
    "    M = Int((round(ωc/(T*π)))/2-1)\n",
    "    println(\"num. of Matsubara freq: \",2M)\n",
    "    ωn = zeros(ComplexF64,2M)\n",
    "    for n=1:2M\n",
    "        ωn[n] = π*T*(2.0*(n-M-1)+1)*im\n",
    "    end\n",
    "    return ωn\n",
    "end\n",
    "@assert typestable(calc_ωn,(Float64,Float64))"
   ]
  },
  {
   "cell_type": "code",
   "execution_count": null,
   "id": "ef58df0c",
   "metadata": {},
   "outputs": [],
   "source": [
    "ωc = 100π\n",
    "T = 0.01\n",
    "ωn =  calc_ωn(T,ωc)"
   ]
  },
  {
   "cell_type": "markdown",
   "id": "46bc5005",
   "metadata": {},
   "source": [
    "With the use of RSCG.jl, the mean-fields are calculated by"
   ]
  },
  {
   "cell_type": "code",
   "execution_count": null,
   "id": "c63f8848",
   "metadata": {},
   "outputs": [],
   "source": [
    "using Pkg\n",
    "Pkg.add(PackageSpec(name=\"RSCG\", version = \"0.1.2\"))\n",
    "using RSCG"
   ]
  },
  {
   "cell_type": "code",
   "execution_count": null,
   "id": "02db0c0a",
   "metadata": {},
   "outputs": [],
   "source": [
    "function calc_Δi!(i,N,H,Δold,T,U,ωn;mixratio = 0.5)\n",
    "    j = i + N\n",
    "    Gij = greensfunctions(i,j,ωn,H)\n",
    "    Δi = U*T*sum(Gij)\n",
    "    Δi = (1-mixratio)*Δold[i] + mixratio*Δi\n",
    "    return Δi\n",
    "end\n",
    "\n",
    "@assert typestable(calc_Δi!,(Int64,Int64,AbstractMatrix{ComplexF64},Matrix{ComplexF64},Float64,Float64,Vector{ComplexF64}))\n",
    "\n",
    "function calc_Δ!(Δnew,H,Δold,T,U,ωn;mixratio = 0.5)\n",
    "    Nx,Ny = size(Δold)\n",
    "    N = Nx*Ny\n",
    "    map!(i -> calc_Δi!(i,N,H,Δold,T,U,ωn,mixratio = mixratio),Δnew,1:N) #If you use pmap! instead of map!, you can do the parallel computation.\n",
    "    return\n",
    "end\n",
    "\n",
    "@assert typestable(calc_Δi!,(AbstractMatrix{ComplexF64},Matrix{ComplexF64},Float64,Float64,Vector{ComplexF64}))"
   ]
  },
  {
   "cell_type": "markdown",
   "id": "0fe79282",
   "metadata": {},
   "source": [
    "Then, we can construct the BdG Hamiltonian matrix."
   ]
  },
  {
   "cell_type": "code",
   "execution_count": null,
   "id": "92b015a7",
   "metadata": {},
   "outputs": [],
   "source": [
    "Nx = 8\n",
    "Ny = 8\n",
    "Δ = ones(ComplexF64,Nx,Ny)\n",
    "Δold = copy(Δ)\n",
    "Δnew = zero(Δ)\n",
    "BC = \"OBC\" #open boundary condition\n",
    "#BC = \"PBC\" #periodic boundary condition\n",
    "U  =-2\n",
    "μ = -0.2\n",
    "\n",
    "H = make_H_sc(Nx,Ny,μ,Δ,BC)"
   ]
  },
  {
   "cell_type": "markdown",
   "id": "909ddc93",
   "metadata": {},
   "source": [
    "The self-consistent loop is defined as"
   ]
  },
  {
   "cell_type": "code",
   "execution_count": null,
   "id": "92db2763",
   "metadata": {},
   "outputs": [],
   "source": [
    "itemax = 100\n",
    "ix = Nx ÷ 2\n",
    "iy = Ny ÷ 2\n",
    "for ite = 1:itemax\n",
    "    calc_Δ!(Δnew,H,Δold,T,U,ωn)\n",
    "    update_H_sc!(H,Δnew)\n",
    "    eps = sum(abs.(Δnew-Δold))/sum(abs.(Δold))\n",
    "    println(\"$ite $eps \",Δnew[ix,iy])\n",
    "    Δold .= Δnew\n",
    "    if eps < 1e-3\n",
    "        break\n",
    "    end\n",
    "end"
   ]
  },
  {
   "cell_type": "markdown",
   "id": "805ee96c",
   "metadata": {},
   "source": [
    "## IR based method\n",
    "IR based method for BdG equations is shown in arXiv:2111.13288. In this paper, we use the ultra-fast method (J. Phys. Soc. Jpn. 89, 074703 (2020)). In this notebook, we do not use the ultra-fast method for simplicity. \n",
    "\n",
    "We use the SparseIR package. The sampling Matsubara frequencies are obtained as"
   ]
  },
  {
   "cell_type": "code",
   "execution_count": null,
   "id": "5f48d95c",
   "metadata": {},
   "outputs": [],
   "source": [
    "using SparseIR\n",
    "import SparseIR: valueim\n",
    "\n",
    "wmax = 10.0\n",
    "beta = 1/T\n",
    "basis = FiniteTempBasis(Fermionic(), beta, wmax, 1e-7)\n",
    "smpl = MatsubaraSampling(basis)\n",
    "ωn_s = valueim.(smpl.sampling_points, beta)\n",
    "println(\"num. of Matsubara freqs. \", length(ωn_s))\n",
    "smpl_beta = TauSampling(basis; sampling_points=[beta])\n"
   ]
  },
  {
   "cell_type": "markdown",
   "id": "44ac27a4",
   "metadata": {},
   "source": [
    "The mean-fields are obtained by"
   ]
  },
  {
   "cell_type": "code",
   "execution_count": null,
   "id": "dfd7b7a6",
   "metadata": {},
   "outputs": [],
   "source": [
    "function fit_ir(Gij,smpl_Matsubara,smpl_beta)\n",
    "    gl = fit(smpl_Matsubara, Gij)\n",
    "    G0 = evaluate(smpl_beta, gl)\n",
    "    return -G0[1]\n",
    "end\n",
    "\n",
    "@assert typestable(fit_ir,(Vector{ComplexF64},typeof(smpl),typeof(smpl_beta)))\n",
    "\n",
    "function calc_Δi_ir!(i,N,H,Δold,T,U,ωn,smpl_Matsubara,smpl_beta;mixratio = 0.5)\n",
    "    j = i + N\n",
    "    Gij = greensfunctions(i,j,ωn,H)\n",
    "    G0 = fit_ir(Gij,smpl_Matsubara,smpl_beta)\n",
    "    Δi = U*G0\n",
    "    Δi = (1-mixratio)*Δold[i] + mixratio*Δi\n",
    "    return Δi\n",
    "end\n",
    "\n",
    "@assert typestable(calc_Δi_ir!,(Int64,Int64,AbstractMatrix{ComplexF64},Matrix{ComplexF64},Float64,\n",
    "            Float64,Vector{ComplexF64},typeof(smpl),typeof(smpl_beta)))\n",
    "\n",
    "\n",
    "function calc_Δ_ir!(Δnew,H,Δold,T,U,ωn,smpl_Matsubara,smpl_beta;mixratio = 0.5)\n",
    "    Nx,Ny = size(Δold)\n",
    "    N = Nx*Ny\n",
    "    map!(i -> calc_Δi_ir!(i,N,H,Δold,T,U,ωn,smpl_Matsubara,smpl_beta,mixratio = mixratio),Δnew,1:N) #If you use pmap! instead of map!, you can do the parallel computation.\n",
    "    return\n",
    "end\n",
    "\n",
    "@assert typestable(calc_Δ_ir!,(Matrix{ComplexF64},AbstractMatrix{ComplexF64},Matrix{ComplexF64},Float64,\n",
    "            Float64,Vector{ComplexF64},typeof(smpl),typeof(smpl_beta)))"
   ]
  },
  {
   "cell_type": "markdown",
   "id": "ee0c50b9",
   "metadata": {},
   "source": [
    "Then, the self-consistent cycle is expressed as"
   ]
  },
  {
   "cell_type": "code",
   "execution_count": null,
   "id": "9db18057",
   "metadata": {},
   "outputs": [],
   "source": [
    "Nx = 8\n",
    "Ny = 8\n",
    "Δ = ones(ComplexF64,Nx,Ny)\n",
    "Δold = copy(Δ)\n",
    "Δnew = zero(Δ)\n",
    "BC = \"OBC\" #open boundary condition\n",
    "#BC = \"PBC\" #periodic boundary condition\n",
    "U  =-2\n",
    "μ = -0.2\n",
    "\n",
    "H = make_H_sc(Nx,Ny,μ,Δ,BC)\n",
    "\n",
    "for ite = 1:itemax\n",
    "    calc_Δ_ir!(Δnew,H,Δold,T,U,ωn_s,smpl,smpl_beta)\n",
    "    update_H_sc!(H,Δnew)\n",
    "\n",
    "    eps = sum(abs.(Δnew-Δold))/sum(abs.(Δold))\n",
    "    println(\"$ite $eps \",Δnew[ix,iy])\n",
    "    Δold .= Δnew\n",
    "    if eps < 1e-4\n",
    "        break\n",
    "    end\n",
    "end"
   ]
  },
  {
   "cell_type": "markdown",
   "id": "4b051270",
   "metadata": {},
   "source": [
    "Let us show the superconducting order parameter in real space. Since we consider the open boundary condition, the mean-field becomes large at four corner due to an interference effect."
   ]
  },
  {
   "cell_type": "code",
   "execution_count": null,
   "id": "5a281fd7",
   "metadata": {},
   "outputs": [],
   "source": [
    "using Plots\n",
    "plot(1:Nx,1:Ny,abs.(Δnew),st=:contourf,\n",
    "    xlabel = \"ix\",\n",
    "    ylabel = \"iy\",\n",
    "    zlabel = \"|Delta|\")"
   ]
  },
  {
   "cell_type": "markdown",
   "id": "1cd90dcc",
   "metadata": {},
   "source": [
    "We plot the local density of states at the center."
   ]
  },
  {
   "cell_type": "code",
   "execution_count": null,
   "id": "9410354d",
   "metadata": {},
   "outputs": [],
   "source": [
    "M = 1000\n",
    "σ = zeros(ComplexF64,M)\n",
    "η = 0.05\n",
    "σmin = -4.0 + im*η\n",
    "σmax = 4.0+ im*η\n",
    "for i=1:M\n",
    "    σ[i] = (i-1)*(σmax-σmin)/(M-1) + σmin\n",
    "end\n",
    "\n",
    "i = (iy-1)*Nx + ix\n",
    "j = i\n",
    "\n",
    "Gij1 = greensfunctions(i,j,σ,H) \n",
    "plot(real.(σ),(-1/π)*imag.(Gij1),\n",
    "    xlabel = \"Energy [t]\",\n",
    "    ylabel = \"Local DOS\",)\n"
   ]
  },
  {
   "cell_type": "markdown",
   "id": "9af9763c",
   "metadata": {},
   "source": [
    "# Two-dimensional topological s-wave superconductor on the square lattice\n",
    "We consider topological superconductivity. \n",
    "The s-wave superconductor becomes topologically non-trivial when there are Zeeman magnetic fields and Rashba spin-orbit coupling. \n",
    "The Hamiltonian in momentum space is given as \n",
    "\n",
    "$$\n",
    "\\hat{\\cal H}(\\vec{k}) = \n",
    "\\left(\n",
    "    \\begin{matrix}\n",
    "    h_0(\\vec{k}) & i \\Delta \\sigma_y \\\\\n",
    "    - i \\Delta^{\\dagger} \\sigma_y & - h_0^{\\ast}(\\vec{k})\n",
    "\\end{matrix}\n",
    "\\right), \n",
    "$$\n",
    "\n",
    "with $ h_0(\\vec{k}) = \\epsilon(\\vec{k}) - h \\sigma_z + \\alpha {\\cal L}(\\vec{k})$. \n",
    "The band dispersion is $\\epsilon(\\vec{k}) = -2 t (\\cos k_x + \\cos k_y) - \\mu$. \n",
    "The Zeeman magnetic field is $h$. \n",
    "The Rashba spin-orbit term is described by $\\alpha {\\cal L}(\\vec{k}) = \\alpha (\\sigma_x \\sin k_y - \\sigma_y \\sin k_x)$. \n",
    "Here, $\\sigma_{x,y,z}$ are the Pauli matrices. \n",
    "\n",
    "By Fourier transforming this Hamiltonian, we have the Hamiltonian defined in real space."
   ]
  },
  {
   "cell_type": "markdown",
   "id": "13ebb6ac",
   "metadata": {},
   "source": [
    "We difine the Pauli matrices."
   ]
  },
  {
   "cell_type": "code",
   "execution_count": null,
   "id": "d4b89c49",
   "metadata": {},
   "outputs": [],
   "source": [
    "const σ0 = [1 0\n",
    "0 1]\n",
    "const σx = [0 1\n",
    "1 0]\n",
    "const σy = [0 -im\n",
    "im 0]\n",
    "const σz = [1 0\n",
    "0 -1]"
   ]
  },
  {
   "cell_type": "markdown",
   "id": "1f65055b",
   "metadata": {},
   "source": [
    "We can construct the Hamiltonian with the use of the ```kron```:"
   ]
  },
  {
   "cell_type": "code",
   "execution_count": null,
   "id": "c8dfdeed",
   "metadata": {},
   "outputs": [],
   "source": [
    "function make_Htsc_normal(Nx,Ny,μ,BC,h,α)\n",
    "    N = Nx*Ny\n",
    "    Tx_plushop = make_x_plushop(Nx,Ny,BC)\n",
    "    Tx_minushop = make_x_minushop(Nx,Ny,BC)\n",
    "    Ty_plushop = make_y_plushop(Nx,Ny,BC)\n",
    "    Ty_minushop = make_y_minushop(Nx,Ny,BC)\n",
    "    HN = kron(sparse(I,N,N)*(-μ),σ0) \n",
    "    HN += kron(sparse(I,N,N)*(-h),σz) #Zeeman magnetic field\n",
    "    t = 1.0\n",
    "    \n",
    "    HN += kron(-t*(Tx_plushop + Tx_minushop + Ty_plushop + Ty_minushop),σ0)\n",
    "    \n",
    "    Hax = kron((α/(2im))*(Tx_plushop - Tx_minushop ) ,σy)\n",
    "    HN += Hax \n",
    "    Hay = kron((α/(2im))*(Ty_plushop - Ty_minushop ) ,σx)\n",
    "    HN += Hay \n",
    "    \n",
    "    return HN\n",
    "end\n",
    "\n",
    "@assert typestable(make_Htsc_normal,(Int64,Int64,Float64,String,Float64,Float64))"
   ]
  },
  {
   "cell_type": "markdown",
   "id": "a6fa75f9",
   "metadata": {},
   "source": [
    "We also define the superconducting order parameter:"
   ]
  },
  {
   "cell_type": "code",
   "execution_count": null,
   "id": "b86eaab5",
   "metadata": {},
   "outputs": [],
   "source": [
    "function make_Δtsc(Δ)\n",
    "    Nx,Ny = size(Δ)\n",
    "    N = Nx*Ny\n",
    "    Δmat = spzeros(ComplexF64,N,N)\n",
    "    for ix=1:Nx\n",
    "        for iy=1:Ny\n",
    "            i = (iy-1)*Nx + ix\n",
    "            Δmat[i,i] = Δ[ix,iy]\n",
    "        end\n",
    "    end\n",
    "    return kron(Δmat,im*σy)\n",
    "end\n",
    "\n",
    "@assert typestable(make_Δtsc,(Matrix{ComplexF64},))"
   ]
  },
  {
   "cell_type": "markdown",
   "id": "95378609",
   "metadata": {},
   "source": [
    "Then, the superconducting BdG Hamiltonian is defined as"
   ]
  },
  {
   "cell_type": "code",
   "execution_count": null,
   "id": "90db833c",
   "metadata": {},
   "outputs": [],
   "source": [
    "function make_Htsc_sc(Nx,Ny,μ,Δ,BC,h,α)\n",
    "    HN = make_Htsc_normal(Nx,Ny,μ,BC,h,α)\n",
    "    matΔ = make_Δtsc(Δ)\n",
    "    H = [\n",
    "        HN matΔ\n",
    "        matΔ' -conj.(HN)\n",
    "    ]\n",
    "    return H\n",
    "end\n",
    "\n",
    "@assert typestable( make_Htsc_sc,(Int64,Int64,Float64,Matrix{ComplexF64},String,Float64,Float64))"
   ]
  },
  {
   "cell_type": "markdown",
   "id": "2ddeb875",
   "metadata": {},
   "source": [
    "The update method is implimanted as"
   ]
  },
  {
   "cell_type": "code",
   "execution_count": null,
   "id": "9ae441a9",
   "metadata": {},
   "outputs": [],
   "source": [
    "function update_Htsc_sc!(H,Δ)\n",
    "    matΔ = make_Δtsc(Δ)\n",
    "    N,_ = size(matΔ)\n",
    "    H[1:N,1+N:2N] = matΔ\n",
    "    H[1+N:2N,1:N] = matΔ'\n",
    "end\n",
    "\n",
    "@assert typestable(update_Htsc_sc!,(AbstractMatrix{ComplexF64},Matrix{ComplexF64}))"
   ]
  },
  {
   "cell_type": "markdown",
   "id": "48b84074",
   "metadata": {},
   "source": [
    "The mean-fields are calculated as"
   ]
  },
  {
   "cell_type": "code",
   "execution_count": null,
   "id": "4287afbf",
   "metadata": {},
   "outputs": [],
   "source": [
    "function calc_Δitsc_ir!(i,N,H,Δold,T,U,ωn,smpl_Matsubara,smpl_beta;mixratio = 0.5)\n",
    "    ispin = 1\n",
    "    ii = (i-1)*2 + ispin\n",
    "    jspin = 2\n",
    "    jj = (i-1)*2 + jspin + N\n",
    "    \n",
    "    Gij = greensfunctions(ii,jj,ωn,H) \n",
    "    G0 = fit_ir(Gij,smpl_Matsubara,smpl_beta)            \n",
    "    Δi = U*G0\n",
    "    Δi = (1-mixratio)*Δold[i] + mixratio*Δi   \n",
    "    return Δi\n",
    "end\n",
    "\n",
    "@assert typestable(calc_Δitsc_ir!,(Int64,Int64,AbstractMatrix{ComplexF64},Matrix{ComplexF64},Float64,\n",
    "            Float64,Vector{ComplexF64},typeof(smpl),typeof(smpl_beta)))\n",
    "\n",
    "\n",
    "function calc_Δtsc_ir!(Δnew,H,Δold,T,U,ωn,smpl_Matsubara,smpl_beta,;mixratio = 0.5)\n",
    "    Nx,Ny = size(Δold)\n",
    "    N = Nx*Ny*2\n",
    "    map!(i -> calc_Δitsc_ir!(i,N,H,Δold,T,U,ωn,smpl_Matsubara,smpl_beta,mixratio = mixratio),Δnew,1:Nx*Ny) #If you use pmap! instead of map!, you can do the parallel computation.\n",
    "end\n",
    "\n",
    "@assert typestable(calc_Δtsc_ir!,(Matrix{ComplexF64},AbstractMatrix{ComplexF64},Matrix{ComplexF64},Float64,\n",
    "            Float64,Vector{ComplexF64},typeof(smpl),typeof(smpl_beta)))"
   ]
  },
  {
   "cell_type": "markdown",
   "id": "75732eda",
   "metadata": {},
   "source": [
    "Then, we can solve the gap equations, self-consistently."
   ]
  },
  {
   "cell_type": "code",
   "execution_count": null,
   "id": "a2fbe463",
   "metadata": {},
   "outputs": [],
   "source": [
    "T = 0.01\n",
    "\n",
    "beta = 1/T\n",
    "wmax = 10.0\n",
    "\n",
    "basis = FiniteTempBasis(Fermionic(), beta, wmax, 1e-5)\n",
    "smpl = MatsubaraSampling(basis)\n",
    "ωn = valueim.(smpl.sampling_points, beta)\n",
    "println(\"num. of Matsubara freqs. \", length(ωn))\n",
    "smpl_beta = TauSampling(basis; sampling_points=[beta])\n",
    "\n",
    "U  =-5.6\n",
    "itemax = 1000\n",
    "μ = 3.5\n",
    "\n",
    "Nx = 16\n",
    "Ny = 16\n",
    "Δ = 3*ones(ComplexF64,Nx,Ny)\n",
    "Δold = copy(Δ)\n",
    "Δnew = zero(Δ)\n",
    "BC = \"OBC\"\n",
    "h = 1\n",
    "α = 1\n",
    "Htsc =  make_Htsc_sc(Nx,Ny,μ,Δold,BC,h,α)\n",
    "\n",
    "ix = Nx ÷ 2\n",
    "iy = Ny ÷ 2\n",
    "i = (iy-1)*Nx + ix\n",
    "j = i\n",
    "\n",
    "\n",
    "for ite = 1:itemax\n",
    "    calc_Δtsc_ir!(Δnew,Htsc,Δold,T,U,ωn,smpl,smpl_beta,mixratio =1)\n",
    "    update_Htsc_sc!(Htsc,Δnew)\n",
    "\n",
    "    eps = sum(abs.(Δnew-Δold))/sum(abs.(Δold))\n",
    "    println(\"$ite $eps \",Δnew[ix,iy],\" ave: \",sum(abs.(Δnew))/length(Δnew))\n",
    "\n",
    "    Δold .= Δnew\n",
    "    if eps < 1e-2\n",
    "        break\n",
    "    end\n",
    "end"
   ]
  },
  {
   "cell_type": "markdown",
   "id": "4ec3252e",
   "metadata": {},
   "source": [
    "The superconducting order parameter is shown as"
   ]
  },
  {
   "cell_type": "code",
   "execution_count": null,
   "id": "f1676bd3",
   "metadata": {},
   "outputs": [],
   "source": [
    "using Plots\n",
    "plot(1:Nx,1:Ny,abs.(Δnew),st=:contourf,\n",
    "    xlabel = \"ix\",\n",
    "    ylabel = \"iy\",\n",
    "    zlabel = \"|Delta|\")"
   ]
  },
  {
   "cell_type": "markdown",
   "id": "99952007",
   "metadata": {},
   "source": [
    "We can see that the order parametere oscillates due to the Fridel oscillation."
   ]
  },
  {
   "cell_type": "markdown",
   "id": "92262fe5",
   "metadata": {},
   "source": [
    "The local density of states at the center is calculated as"
   ]
  },
  {
   "cell_type": "code",
   "execution_count": null,
   "id": "d6886f6b",
   "metadata": {},
   "outputs": [],
   "source": [
    "using Plots\n",
    "M = 1000\n",
    "σ = zeros(ComplexF64,M)\n",
    "η = 0.01\n",
    "σmin = -4.0 + im*η\n",
    "σmax = 4.0+ im*η\n",
    "for i=1:M\n",
    "    σ[i] = (i-1)*(σmax-σmin)/(M-1) + σmin\n",
    "end\n",
    "\n",
    "\n",
    "ix = Nx ÷ 2\n",
    "iy = Ny ÷ 2\n",
    "ispin  =1\n",
    "\n",
    "i = (( iy-1)*Nx + ix-1)*2 + ispin\n",
    "j = i\n",
    "Gij1 = greensfunctions(i,j,σ,Htsc) \n",
    "\n",
    "ispin  =2\n",
    "i = (( iy-1)*Nx + ix-1)*2 + ispin\n",
    "j = i\n",
    "Gij2 = greensfunctions(i,j,σ,Htsc) \n",
    "plot(real.(σ),(-1/π)*imag.(Gij1 .+ Gij2),\n",
    "    xlabel = \"Energy [t]\",\n",
    "    ylabel = \"Local DOS\",)\n"
   ]
  },
  {
   "cell_type": "markdown",
   "id": "9a8c689f",
   "metadata": {},
   "source": [
    "At the edge, there are mid-gap states since this is topologically non-trivial state. We can see the local density of states at the edge."
   ]
  },
  {
   "cell_type": "code",
   "execution_count": null,
   "id": "a4059f68",
   "metadata": {},
   "outputs": [],
   "source": [
    "ix = 1\n",
    "iy = Ny ÷ 2\n",
    "ispin  =1\n",
    "\n",
    "i = (( iy-1)*Nx + ix-1)*2 + ispin\n",
    "j = i\n",
    "Gij1 = greensfunctions(i,j,σ,Htsc) \n",
    "\n",
    "ispin  =2\n",
    "i = (( iy-1)*Nx + ix-1)*2 + ispin\n",
    "j = i\n",
    "Gij2 = greensfunctions(i,j,σ,Htsc) \n",
    "plot(real.(σ),(-1/π)*imag.(Gij1 .+ Gij2),\n",
    "    xlabel = \"Energy [t]\",\n",
    "    ylabel = \"Local DOS\",)"
   ]
  },
  {
   "cell_type": "markdown",
   "id": "2076c7b7",
   "metadata": {},
   "source": [
    "We can see there are mid-gap states."
   ]
  }
 ],
 "metadata": {
  "jupytext": {
   "formats": "ipynb,md:myst"
  },
  "kernelspec": {
   "display_name": "Julia 1.9.1",
   "language": "julia",
   "name": "julia-1.9"
  },
  "language_info": {
   "file_extension": ".jl",
   "mimetype": "application/julia",
   "name": "julia",
   "version": "1.9.1"
  }
 },
 "nbformat": 4,
 "nbformat_minor": 5
}
