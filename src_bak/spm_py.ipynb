{
 "cells": [
  {
   "cell_type": "markdown",
   "id": "08018663",
   "metadata": {},
   "source": [
    "# SpM analytic continuation\n",
    "Author: Kazuyoshi Yoshimi & Junya Otsuki\n",
    "\n",
    "This example provides an application of `sparse-ir` to the sparse-modeling analytic continuation (SpM) algorithm. We reproduce the result presented in the original paper {cite:p}`Otsuki:2017er`.\n",
    "\n",
    "The analytic continuation can be formulated as the inverse problem of the equation\n",
    "\n",
    "$$\n",
    "  G(\\tau) = -\\int_{-\\infty}^{\\infty} d\\omega K(\\tau, \\omega) \\rho(\\omega).\n",
    "$$ (lehmann-spm)\n",
    "\n",
    "We evaluate $\\rho(\\omega)$ for a given $G(\\tau)$.\n",
    "<!-- Because of ill-conditioned nature of the kernel function $K$, the inversion of this equation is sensitive to noise in $G(\\tau)$. SpM method extract relevant information in $G(\\tau)$ using $L_1$-norm regularization. -->\n",
    "\n",
    "\n",
    "## Preparation"
   ]
  },
  {
   "cell_type": "code",
   "execution_count": null,
   "id": "7d93f9e5",
   "metadata": {
    "tags": [
     "remove-output"
    ]
   },
   "outputs": [],
   "source": [
    "!pip install sparse_ir\n",
    "!pip install admmsolver"
   ]
  },
  {
   "cell_type": "markdown",
   "id": "a6ed15e8",
   "metadata": {},
   "source": [
    "We use a sample data provided in the repository **SpM-lab/SpM**."
   ]
  },
  {
   "cell_type": "code",
   "execution_count": null,
   "id": "5e5f41af",
   "metadata": {},
   "outputs": [],
   "source": [
    "# Download data for G(tau) and rhow(omega) from GitHub repo\n",
    "from urllib.request import urlretrieve\n",
    "base_url = \"https://raw.githubusercontent.com/SpM-lab/SpM/master/samples/fermion/\"\n",
    "for name in [\"Gtau.in\", \"Gtau.in.dos\"]:\n",
    "    urlretrieve(base_url + name, name)\n",
    "# Alternatively, we can use the following command:\n",
    "#!wget https://raw.githubusercontent.com/SpM-lab/SpM/master/samples/fermion/Gtau.in\n",
    "#!wget https://raw.githubusercontent.com/SpM-lab/SpM/master/samples/fermion/Gtau.in.dos"
   ]
  },
  {
   "cell_type": "code",
   "execution_count": null,
   "id": "1498aaa5",
   "metadata": {},
   "outputs": [],
   "source": [
    "import numpy as np\n",
    "%matplotlib inline\n",
    "import matplotlib.pyplot as plt"
   ]
  },
  {
   "cell_type": "markdown",
   "id": "13286880",
   "metadata": {},
   "source": [
    "## Input data for $G(\\tau)$\n",
    "\n",
    "We load the sample data provided in the repository **SpM-lab/SpM**."
   ]
  },
  {
   "cell_type": "code",
   "execution_count": null,
   "id": "cc369c42",
   "metadata": {},
   "outputs": [],
   "source": [
    "#Load Gtau\n",
    "Gtau = np.loadtxt(\"Gtau.in\")[:, 2]\n",
    "\n",
    "# Set imaginary-time\n",
    "beta = 100\n",
    "ntau = len(Gtau)\n",
    "ts = np.linspace(0.0, beta, ntau)"
   ]
  },
  {
   "cell_type": "markdown",
   "id": "9f15409e",
   "metadata": {},
   "source": [
    "Let us plot the input data loaded."
   ]
  },
  {
   "cell_type": "code",
   "execution_count": null,
   "id": "0fefbe5a",
   "metadata": {},
   "outputs": [],
   "source": [
    "# Plot G(tau)\n",
    "fig, ax = plt.subplots()\n",
    "ax.plot(ts, Gtau, '.')\n",
    "ax.set_xlabel(r\"$\\tau$\")\n",
    "ax.set_ylabel(r\"$G(\\tau)$\")\n",
    "plt.show()"
   ]
  },
  {
   "cell_type": "markdown",
   "id": "ac3ec52b",
   "metadata": {},
   "source": [
    "## Spectral function $\\rho(\\omega)$ (answer)\n",
    "\n",
    "We generate the real frequency grid for the spectral function $\\rho(\\omega)$"
   ]
  },
  {
   "cell_type": "code",
   "execution_count": null,
   "id": "0413b631",
   "metadata": {},
   "outputs": [],
   "source": [
    "#Set omega\n",
    "Nomega = 1001\n",
    "omegamin = -4\n",
    "omegamax = 4\n",
    "ws = np.linspace(-omegamax, omegamax, num=Nomega)"
   ]
  },
  {
   "cell_type": "markdown",
   "id": "3c5a5597",
   "metadata": {},
   "source": [
    "The exact spectrum is provided as well. The spectrum is plotted below."
   ]
  },
  {
   "cell_type": "code",
   "execution_count": null,
   "id": "b3b5cce4",
   "metadata": {},
   "outputs": [],
   "source": [
    "rho_answer = np.loadtxt(\"Gtau.in.dos\")[:, 1]\n",
    "\n",
    "# Plot rho(omega)\n",
    "fig, ax = plt.subplots()\n",
    "ax.plot(ws, rho_answer, '-c')\n",
    "ax.set_xlabel(r\"$\\omega$\")\n",
    "ax.set_ylabel(r\"$\\rho(\\omega)$\")\n",
    "plt.show()"
   ]
  },
  {
   "cell_type": "markdown",
   "id": "c47c3b7d",
   "metadata": {},
   "source": [
    "## IR basis\n",
    "\n",
    "We first generate IR basis.\n",
    "On a discrete grid of $\\{ \\tau_i \\}$ and $\\{ \\omega_j \\}$, the kernel function $K(\\tau, \\omega)$ are represented by a matrix $\\hat{K}$ with $\\hat{K}_{ij}=K(\\tau_i, \\omega_j)$. The singular value decomposition of $\\hat{K}$ defines the IR basis\n",
    "\n",
    "$$\n",
    "\\hat{K} = \\hat{U} \\hat{S} \\hat{V}^\\mathrm{T},\n",
    "$$\n",
    "\n",
    "where\n",
    "\n",
    "$$\n",
    "\\hat{U}_{il}=U_l(\\tau_i),\n",
    "\\quad\n",
    "\\hat{S}_{ll} = S_l,\n",
    "\\quad\n",
    "\\hat{V}_{jl}=V_l(\\omega_j).\n",
    "$$\n",
    "\n",
    "The matrices $\\hat{U}$, $\\hat{S}$, and $\\hat{V}$ can be computed by ``sparse_ir.FiniteTempBasis`` class (https://sparse-ir.readthedocs.io/en/latest/basis.html)."
   ]
  },
  {
   "cell_type": "code",
   "execution_count": null,
   "id": "e64486ad",
   "metadata": {},
   "outputs": [],
   "source": [
    "import sparse_ir\n",
    "\n",
    "#Set basis\n",
    "SVmin = 1e-10\n",
    "basis = sparse_ir.FiniteTempBasis(\n",
    "            statistics=\"F\", beta=beta, wmax=omegamax, eps=SVmin\n",
    "        )\n",
    "U = basis.u(ts).T\n",
    "S = basis.s\n",
    "V = basis.v(ws).T"
   ]
  },
  {
   "cell_type": "markdown",
   "id": "578652bf",
   "metadata": {},
   "source": [
    "``U`` and ``V`` are two-dimensional ndarray (matrices), while ``S`` is a one-dimensional ndarray. Let us confirm it by printing the shapes explictly."
   ]
  },
  {
   "cell_type": "code",
   "execution_count": null,
   "id": "fad9cc2a",
   "metadata": {},
   "outputs": [],
   "source": [
    "print(f\"{U.shape}, {S.shape}, {V.shape}\")"
   ]
  },
  {
   "cell_type": "markdown",
   "id": "11ba6954",
   "metadata": {},
   "source": [
    "## SpM analytic continuation\n",
    "\n",
    "The spectral function $\\rho(\\omega)$ can be expanded with the IR basis\n",
    "\n",
    "$$\n",
    "\\rho(\\omega) = \\sum_l \\rho_l V_l(\\omega)\n",
    "$$\n",
    "\n",
    "The SpM analytic continuation algorithm evaluates the coefficient $\\{ \\rho_l \\}$.\n",
    "Eq. {eq}`lehmann-spm` is rewritten in terms of the IR basis by\n",
    "\n",
    "$$\n",
    "G(\\tau_i) = \\sum_l \\hat{U}_{il} S_l \\rho_l\n",
    "$$\n",
    "\n",
    "We represent this equation with the conventional notation\n",
    "\n",
    "$$\n",
    "\\boldsymbol{y} =A \\boldsymbol{x},\n",
    "$$\n",
    "\n",
    "where\n",
    "\n",
    "$$\n",
    "y_i = -G(\\tau_i),\n",
    "\\quad\n",
    "A_{il}\\equiv \\hat{U}_{il} S_l,\n",
    "\\quad\n",
    "x_l = \\rho_l.\n",
    "$$\n",
    "\n",
    "Here, $\\boldsymbol{y}$ is an input, and $\\boldsymbol{x}$ is the quantity to be evaluated."
   ]
  },
  {
   "cell_type": "code",
   "execution_count": null,
   "id": "50e15d9f",
   "metadata": {},
   "outputs": [],
   "source": [
    "y = -Gtau\n",
    "A = np.einsum(\"il,l->il\", U, S)"
   ]
  },
  {
   "cell_type": "markdown",
   "id": "e0b8df87",
   "metadata": {},
   "source": [
    "SpM evaluates $\\boldsymbol{x}$ by solving the optimization problem\n",
    "\n",
    "$$\n",
    "\\boldsymbol{x}^{\\ast} = \\underset{\\boldsymbol{x}}{\\mathrm{arg\\,min}} F(\\boldsymbol{x}),\n",
    "$$\n",
    "\n",
    "where\n",
    "\n",
    "$$\n",
    "F(\\boldsymbol{x}) = \\frac{1}{2} \\| \\boldsymbol{y} - A\\boldsymbol{x} \\|_2^2\n",
    "+ \\lambda \\| \\boldsymbol{x} \\|_1\n",
    "+ \\infty \\| C\\boldsymbol{x} - D \\|_2^2\n",
    "+ \\infty \\Theta (-V\\boldsymbol{x}).\n",
    "$$\n",
    "\n",
    "The first term is the least square fitting to the input, the second term is **$L_1$-norm regularization**,\n",
    "and the third term and the fourth term represent constraints: sum-rule and non-negativity, respectively.\n",
    "\n",
    "An obtained solution depends on the value of the regularization parameter $\\lambda$, which should be optimized based on data science. But, for simplicity, we fix the value of $\\lambda$ in this example.\n",
    "\n",
    "<!-- In the following, we denote the four terms in $F(\\boldsymbol{x})$ by $F_i(\\boldsymbol{x})$ with $i=1, 2, 3, 4$. -->\n",
    "\n",
    "**Note:**\n",
    "In the original SpM paper, the least-square term is evaluated directly in the IR.\n",
    "Namely, using $\\hat{U}\\hat{U}^{\\dagger}=1$, the least-square term can be converted to\n",
    "\n",
    "$$\n",
    "\\frac{1}{2} \\| \\boldsymbol{y} - A\\boldsymbol{x} \\|_2^2 = \\frac{1}{2} \\sum_l (G_l - S_l \\rho_l)^2.\n",
    "$$\n",
    "\n",
    "Because $\\hat{U}$ is not a unitary matrix in the present formalism, one cannot use this equation.\n",
    "\n",
    "\n",
    "## ADMM\n",
    "\n",
    "We solve the above multi-constaint optimization problem using alternating direction method of multipliers (ADMM).\n",
    "To this end, we consider an alternative multivariate optimization problem \n",
    "\n",
    "$$\n",
    "\\min_{\\boldsymbol{x}_0, \\boldsymbol{x}_1, \\cdots} \\tilde{F}(\\boldsymbol{x}_0, \\boldsymbol{x}_1, \\cdots),\n",
    "$$\n",
    "\n",
    "subject to equality conditions\n",
    "\n",
    "$$\n",
    "E_{ji} \\boldsymbol{x}_i = E_{ij} \\boldsymbol{x}_j.\n",
    "$$\n",
    "\n",
    "Here, the objective function $F$ is given by\n",
    "\n",
    "$$\n",
    "\\tilde{F}(\\boldsymbol{x}_0, \\boldsymbol{x}_1, \\cdots) = \\sum_i F_i(\\boldsymbol{x}_i)\n",
    "$$\n",
    "\n",
    "We use `admmsolver` package.\n",
    "The import statement below shows all necessary classes for implementing the present optimization problem.\n",
    "**Note that `admmsolver` is under active development and its interface is subject to future changes.**"
   ]
  },
  {
   "cell_type": "code",
   "execution_count": null,
   "id": "5dedfac8",
   "metadata": {},
   "outputs": [],
   "source": [
    "import admmsolver\n",
    "import admmsolver.optimizer\n",
    "import admmsolver.objectivefunc\n",
    "from admmsolver.objectivefunc import (\n",
    "    L1Regularizer,\n",
    "    #LeastSquares,\n",
    "    ConstrainedLeastSquares,\n",
    "    NonNegativePenalty,\n",
    ")\n",
    "from admmsolver.matrix import identity\n",
    "from admmsolver.optimizer import SimpleOptimizer\n",
    "print(f\"admmsolver=={admmsolver.__version__}\")"
   ]
  },
  {
   "cell_type": "markdown",
   "id": "32cbc57b",
   "metadata": {},
   "source": [
    "### $L_2$ norms\n",
    "\n",
    "The Green's function follows the sum-rule\n",
    "\n",
    "$$\n",
    "  \\int_{-\\infty}^{\\infty} d\\omega \\rho(\\omega) = 1\n",
    "$$\n",
    "\n",
    "More generally (including the self-energy), the right-hand side is given by $-G(\\tau=+0) - G(\\tau=\\beta-0)$, which is non-zero for orbital-diagonal components and 0 for off-diagonal components.\n",
    "In the IR basis, the left-hand side is reprenseted by\n",
    "\n",
    "$$\n",
    "\\int_{-\\infty}^{\\infty} d\\omega \\rho(\\omega)\n",
    "= G(\\tau=-0) - G(\\tau=0^+) \n",
    "= \\sum_l [U_l(\\tau=+0) + U_l(\\tau=\\beta-0) ] S_l \\rho_l.\n",
    "$$\n",
    "\n",
    "This sum-rule can be imposed by an infinite penalty. Together with the least-square term, we obtain\n",
    "\n",
    "$$\n",
    "  F_0(\\boldsymbol{x}_0) = \\frac{1}{2} \\| \\boldsymbol{y} - A\\boldsymbol{x}_0 \\|_2^2 + \\infty \\| C\\boldsymbol{x}_0 - D \\|_2^2.\n",
    "$$\n",
    "\n",
    "These $L_2$ norm terms are implemented as ``admmsolver.objectivefunc.ConstrainedLeastSquares`` object."
   ]
  },
  {
   "cell_type": "code",
   "execution_count": null,
   "id": "6dbcfdc7",
   "metadata": {},
   "outputs": [],
   "source": [
    "# sum-rule\n",
    "rho_sum = y[0] + y[-1]\n",
    "C = (A[0] + A[-1]).reshape(1, -1)\n",
    "lstsq_F = ConstrainedLeastSquares(0.5, A=A, y=y, C=C, D=np.array([rho_sum]))"
   ]
  },
  {
   "cell_type": "markdown",
   "id": "4d04f25c",
   "metadata": {},
   "source": [
    "### $L_1$-norm regularization\n",
    "\n",
    "The $L_1$-norm regularization term\n",
    "\n",
    "$$\n",
    "F_1(\\boldsymbol{x}_1) = \\lambda \\| \\boldsymbol{x}_1 \\|_1\n",
    "$$\n",
    "\n",
    "is implemented as ``admmsolver.objectivefunc.L1Regularizer`` object. \n",
    "We note that $\\boldsymbol{x}_1$ will be finaly converged to $\\boldsymbol{x}_0$."
   ]
  },
  {
   "cell_type": "code",
   "execution_count": null,
   "id": "e58f8f45",
   "metadata": {},
   "outputs": [],
   "source": [
    "lambda_ = 10**-1.8  # regularization parameter\n",
    "l1_F = L1Regularizer(lambda_, basis.size)"
   ]
  },
  {
   "cell_type": "markdown",
   "id": "f0caffa0",
   "metadata": {},
   "source": [
    "Here, we use $\\lambda=10^{-1.8}$, which was found to be optimal for the present dataset.\n",
    "\n",
    "\n",
    "### Non-negative constraint\n",
    "\n",
    "The last term describes the non-negative constraint\n",
    "\n",
    "$$\n",
    "  \\rho(\\omega) \\geq 0\n",
    "$$\n",
    "\n",
    "Since we have the relation $\\rho(\\omega_i)=(\\hat{V}\\boldsymbol{x})_i$, this inequality can be represented as a function\n",
    "<!-- $$\n",
    "  F_2(\\boldsymbol{x}) = \\infty \\Theta (-V\\boldsymbol{x})\n",
    "$$ -->\n",
    "\n",
    "$$\n",
    "  F_2(\\boldsymbol{x}_2) = \\infty \\Theta (-\\boldsymbol{x}_2)\n",
    "$$\n",
    "\n",
    "We note that $\\boldsymbol{x}_2 = V\\boldsymbol{x}_0$ will be imposed later."
   ]
  },
  {
   "cell_type": "code",
   "execution_count": null,
   "id": "9b7d0e5e",
   "metadata": {},
   "outputs": [],
   "source": [
    "nonneg_F = NonNegativePenalty(Nomega)"
   ]
  },
  {
   "cell_type": "markdown",
   "id": "bcbdbcbc",
   "metadata": {},
   "source": [
    "We now define ``admmsolver.optimizer.Problem`` by integrating the three obejective functions."
   ]
  },
  {
   "cell_type": "code",
   "execution_count": null,
   "id": "69793d2b",
   "metadata": {},
   "outputs": [],
   "source": [
    "objective_functions = [lstsq_F, l1_F, nonneg_F]\n",
    "equality_conditions = [\n",
    "    (0, 1, identity(basis.size), identity(basis.size)),\n",
    "    # (0, 2, V.T, identity(Nomega)),\n",
    "    (0, 2, V, identity(Nomega)),\n",
    "]\n",
    "\n",
    "p = admmsolver.optimizer.Problem(objective_functions, equality_conditions)"
   ]
  },
  {
   "cell_type": "markdown",
   "id": "c98279da",
   "metadata": {},
   "source": [
    "``objective_functions`` is a list of functions $F_0(\\boldsymbol{x}_0)$, $F_0(\\boldsymbol{x}_1)$, $F_0(\\boldsymbol{x}_2)$.\n",
    "Two equality condition is set to ``equality_conditions``.\n",
    "The first one denotes $\\boldsymbol{x}_0 = \\boldsymbol{x}_1$, and the second one denotes $V\\boldsymbol{x}_0=\\boldsymbol{x}_2$.\n",
    "Thus, the multivariate objective function $\\tilde{F}(\\boldsymbol{x}_0, \\boldsymbol{x}_1, \\boldsymbol{x}_2)$ is reduced to the original objective function $F(\\boldsymbol{x})$.\n",
    "\n",
    "We solve the problem defined above using ``admmsolver.optimizer.SimpleOptimizer``."
   ]
  },
  {
   "cell_type": "code",
   "execution_count": null,
   "id": "003d0a98",
   "metadata": {},
   "outputs": [],
   "source": [
    "maxiteration = 1000\n",
    "initial_mu = 1.0\n",
    "opt = SimpleOptimizer(p, mu=initial_mu)  # initialize solver\n",
    "opt.solve(maxiteration)  # solve"
   ]
  },
  {
   "cell_type": "markdown",
   "id": "efc9cbcc",
   "metadata": {},
   "source": [
    "Here, ``mu`` is a parameter which controls the convergence, and ``maxiteration`` is the maximum number of iterations.\n",
    "\n",
    "The converged result is stored in ``opt.x``, which is a list of vectors $\\boldsymbol{x}_0$, $\\boldsymbol{x}_1$, and $\\boldsymbol{x}_2$. We can access each vector by"
   ]
  },
  {
   "cell_type": "code",
   "execution_count": null,
   "id": "10cd4881",
   "metadata": {},
   "outputs": [],
   "source": [
    "x0, x1, x2 = opt.x\n",
    "print(f\"{x0.shape}, {x1.shape}, {x2.shape}\")"
   ]
  },
  {
   "cell_type": "markdown",
   "id": "551e3a65",
   "metadata": {},
   "source": [
    "The spectral function $\\rho(\\omega)$ can be reconstructed from the coefficients $\\{ \\rho_l \\}$ stored in $\\boldsymbol{x}_0$."
   ]
  },
  {
   "cell_type": "code",
   "execution_count": null,
   "id": "1a8237d1",
   "metadata": {},
   "outputs": [],
   "source": [
    "rho = V @ x0"
   ]
  },
  {
   "cell_type": "markdown",
   "id": "ee2bd2fb",
   "metadata": {},
   "source": [
    "## Plot the results\n",
    "\n",
    "We plot the spectral function $\\rho(\\omega)$ computed in the SpM together with the exact solution."
   ]
  },
  {
   "cell_type": "code",
   "execution_count": null,
   "id": "6adbbdbc",
   "metadata": {},
   "outputs": [],
   "source": [
    "fig, ax = plt.subplots()\n",
    "ax.plot(ws, rho_answer, '-c')\n",
    "ax.plot(ws, rho.real, '-r')\n",
    "ax.set_xlabel(r\"$\\omega$\")\n",
    "ax.set_ylabel(r\"$\\rho(\\omega)$\")\n",
    "plt.show()"
   ]
  },
  {
   "cell_type": "code",
   "execution_count": null,
   "id": "4c916e2f",
   "metadata": {},
   "outputs": [],
   "source": [
    "# save results\n",
    "# specfile = \"spectrum.dat\"\n",
    "# with open(specfile, \"w\") as f:\n",
    "#     f.write(f\"# log_lambda = f{lambdalog}\\n\")\n",
    "#     for w, r in zip(ws, rho):\n",
    "#         f.write(f\"{w} {np.real(r)}\\n\")"
   ]
  }
 ],
 "metadata": {
  "jupytext": {
   "formats": "ipynb,md:myst"
  },
  "kernelspec": {
   "display_name": "Python 3",
   "language": "python",
   "name": "python3"
  }
 },
 "nbformat": 4,
 "nbformat_minor": 5
}
