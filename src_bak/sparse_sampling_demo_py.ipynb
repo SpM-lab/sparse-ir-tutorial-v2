{
 "cells": [
  {
   "cell_type": "markdown",
   "id": "97493238",
   "metadata": {},
   "source": [
    "# Sparse sampling\n",
    "\n",
    "In this page, we describe how to infer IR expansion coefficients using the sparse-sampling techiniques."
   ]
  },
  {
   "cell_type": "code",
   "execution_count": null,
   "id": "4ae8bcdf",
   "metadata": {},
   "outputs": [],
   "source": [
    "import sparse_ir\n",
    "import numpy as np\n",
    "%matplotlib inline\n",
    "import matplotlib.pyplot as plt\n",
    "plt.rcParams['font.size'] = 15"
   ]
  },
  {
   "cell_type": "markdown",
   "id": "d3c39c91",
   "metadata": {},
   "source": [
    "## Setup\n",
    "We consider a semicircular spectral modeli (full bandwidth of 2):\n",
    "\n",
    "$$\n",
    "\\rho(\\omega) = \\frac{2}{\\pi}\\sqrt{1-\\omega^2}.\n",
    "$$\n",
    "\n",
    "First, we compute the numerically exact expansion coefficients $g_l$.\n",
    "Below, we plot the data for even $l$."
   ]
  },
  {
   "cell_type": "code",
   "execution_count": null,
   "id": "d8a91d0c",
   "metadata": {},
   "outputs": [],
   "source": [
    "def rho(omega):\n",
    "    if np.abs(omega) < 1:\n",
    "        return (2/np.pi) * np.sqrt(1-omega**2)\n",
    "    else:\n",
    "        return 0.0\n",
    "\n",
    "beta = 10000\n",
    "wmax = 1\n",
    "basis = sparse_ir.FiniteTempBasis(\"F\", beta, wmax, eps=1e-15)\n",
    "\n",
    "rhol = basis.v.overlap(rho)\n",
    "gl = - basis.s * rhol\n",
    "\n",
    "ls = np.arange(basis.size)\n",
    "plt.semilogy(ls[::2], np.abs(gl[::2]), marker=\"x\", label=r\"$|g_l|$\")\n",
    "plt.xlabel(r\"$l$\")\n",
    "plt.ylabel(r\"$|g_l|$\")\n",
    "plt.ylim([1e-15, 10])\n",
    "plt.legend()\n",
    "plt.show()"
   ]
  },
  {
   "cell_type": "markdown",
   "id": "d4bcd8cd",
   "metadata": {},
   "source": [
    "## From sampling times\n",
    "\n",
    "We first create a `TauSampling` object for the default sampling times."
   ]
  },
  {
   "cell_type": "code",
   "execution_count": null,
   "id": "595f61d9",
   "metadata": {},
   "outputs": [],
   "source": [
    "smpl_tau = sparse_ir.TauSampling(basis)\n",
    "print(\"sampling times: \", smpl_tau.sampling_points)\n",
    "print(\"Condition number: \", smpl_tau.cond)"
   ]
  },
  {
   "cell_type": "markdown",
   "id": "59006a09",
   "metadata": {},
   "source": [
    "The condition number is around 50, indicating that 1--2 significant digits may be lost in a fit from the sampling times. Let us fit from the sampling times!"
   ]
  },
  {
   "cell_type": "code",
   "execution_count": null,
   "id": "03417812",
   "metadata": {},
   "outputs": [],
   "source": [
    "# Evaluate G(τ) on the sampling times\n",
    "gtau_smpl = smpl_tau.evaluate(gl)\n",
    "plt.plot(smpl_tau.sampling_points, gtau_smpl, marker=\"x\", ls=\"\")\n",
    "plt.xlabel(r\"$\\tau$\")\n",
    "plt.ylabel(r\"$G(\\tau)$\")\n",
    "plt.show()\n",
    "\n",
    "# Fit G(τ) on the sampling times\n",
    "gl_reconst_from_tau = smpl_tau.fit(gtau_smpl)"
   ]
  },
  {
   "cell_type": "markdown",
   "id": "f3d8a588",
   "metadata": {},
   "source": [
    "## From sampling frequencies\n",
    "\n",
    "We create a `MatsubaraSampling` object for the default sampling frequencies."
   ]
  },
  {
   "cell_type": "code",
   "execution_count": null,
   "id": "451c64af",
   "metadata": {},
   "outputs": [],
   "source": [
    "smpl_matsu = sparse_ir.MatsubaraSampling(basis)\n",
    "print(\"sampling frequencies: \", smpl_matsu.sampling_points)\n",
    "print(\"Condition number: \", smpl_matsu.cond)"
   ]
  },
  {
   "cell_type": "markdown",
   "id": "4786f128",
   "metadata": {},
   "source": [
    "The condition number is slightly larger than that for the sampling times."
   ]
  },
  {
   "cell_type": "code",
   "execution_count": null,
   "id": "9842deeb",
   "metadata": {},
   "outputs": [],
   "source": [
    "# Evaluate G(iv) on the sampling frequencies\n",
    "giv_smpl = smpl_matsu.evaluate(gl)\n",
    "plt.plot((np.pi/beta)*smpl_matsu.wn, giv_smpl.imag, marker=\"x\", ls=\"\")\n",
    "plt.xlabel(r\"$\\nu$\")\n",
    "plt.ylabel(r\"Im $G(\\mathrm{i}\\nu)$\")\n",
    "plt.show()\n",
    "\n",
    "# Fit G(τ) on the sampling times\n",
    "gl_reconst_from_matsu = smpl_matsu.fit(giv_smpl)"
   ]
  },
  {
   "cell_type": "markdown",
   "id": "d71b7a29",
   "metadata": {},
   "source": [
    "## Comparison with exact results\n",
    "We now compare the reconstructed expansion coefficients with the exact one. For clarity, we plot only the data for even $l$."
   ]
  },
  {
   "cell_type": "code",
   "execution_count": null,
   "id": "79c7b9cf",
   "metadata": {},
   "outputs": [],
   "source": [
    "plt.semilogy(ls[::2], np.abs(gl[::2]), marker=\"\", ls=\"-\", label=\"Exact\")\n",
    "plt.semilogy(ls[::2], np.abs(gl_reconst_from_tau[::2]), marker=\"x\", label=\"from sampling times\")\n",
    "plt.semilogy(ls[::2], np.abs(gl_reconst_from_matsu[::2]), marker=\"+\", label=\"from sampling frequencies\")\n",
    "plt.xlabel(r\"$l$\")\n",
    "plt.ylabel(r\"$|g_l|$\")\n",
    "plt.ylim([1e-17, 10])\n",
    "plt.legend(frameon=False)\n",
    "plt.show()"
   ]
  },
  {
   "cell_type": "markdown",
   "id": "f3ee52ee",
   "metadata": {},
   "source": [
    "We saw a perfect match! Let us plot the differences from the exact one."
   ]
  },
  {
   "cell_type": "code",
   "execution_count": null,
   "id": "c3a474cb",
   "metadata": {},
   "outputs": [],
   "source": [
    "plt.semilogy(ls[::2], np.abs((gl_reconst_from_tau-gl)[::2]), marker=\"x\", label=\"from sampling times\")\n",
    "plt.semilogy(ls[::2], np.abs((gl_reconst_from_matsu-gl)[::2]), marker=\"+\", label=\"from sampling frequencies\")\n",
    "plt.xlabel(r\"$l$\")\n",
    "plt.ylabel(r\"Error in $g_l$\")\n",
    "plt.ylim([1e-18, 10])\n",
    "plt.legend()\n",
    "plt.show()"
   ]
  }
 ],
 "metadata": {
  "jupytext": {
   "formats": "ipynb,md:myst"
  },
  "kernelspec": {
   "display_name": "Python 3",
   "language": "python",
   "name": "python3"
  }
 },
 "nbformat": 4,
 "nbformat_minor": 5
}
