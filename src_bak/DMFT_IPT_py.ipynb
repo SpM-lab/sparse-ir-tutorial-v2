{
 "cells": [
  {
   "cell_type": "markdown",
   "id": "cc57666c",
   "metadata": {},
   "source": [
    "# DMFT with IPT solver\n",
    "Author: [Niklas Witt](mailto:niklas.witt@physik.uni-hamburg.de)\n",
    "\n",
    "In this tutorial, we will implement the Dynamical Mean-Field Theory (DMFT) using the iterative perturbation theory (IPT) as a solver for the impurity problem [1]. It is assumed that the reader is somewhat familiar with the concept of DMFT and the Anderson impurity model. Good resources to learn about this topic can be found, e.g., in Refs. [2-4].\n",
    "\n",
    "## Theory\n",
    "\n",
    "### Model\n",
    "We compute a paramagnetic solution assuming the non-interacting semi-circular density of state (Bethe lattice)\n",
    "\n",
    "$$\n",
    " \\rho(\\omega) = \\frac{\\sqrt{4t_\\star^2-\\omega^2}}{2\\pi t_\\star^2 } = 2\\frac{\\sqrt{D^2-\\omega^2}}{\\pi D^2}.\n",
    "$$\n",
    "\n",
    "at half filling. We set the hopping $t_\\star=1$, so that the half bandwitdh is $D=2t_\\star = 2$.  Our goal is to find the Mott transition in this model. The non-interacting, local Green function is given by the spectral representation \n",
    "\n",
    "$$\n",
    "    G^0_{\\mathrm{loc}}(i\\omega_n) = \\int d\\omega \\frac{\\rho(\\omega)}{i\\omega_n-\\omega}, \n",
    "$$\n",
    "\n",
    "with fermionic Matsubara frequencies $\\omega_n=(2n+1)\\pi T$. We can directly compute this equation with the IR basis.\n",
    "\n",
    "### DMFT equations\n",
    "In DMFT, the self-energy is approximated by the local solution of an impurity model. The self-consistent equations to be solved are the Dyson equation of the interacting local Green function $G_{\\mathrm{loc}}$\n",
    "\n",
    "$$ \n",
    "    G^{-1}_{\\mathrm{loc}}(i\\omega_n) = \\mathcal{G}^{-1}(i\\omega_n) - \\Sigma(i\\omega_n)\n",
    "$$\n",
    "\n",
    "with the self-energy $\\Sigma$ (from the impurity problem) and the cavity Green function/Weiss field $\\mathcal{G}$ as well as the mean-field mapping for the Bethe lattice [2]\n",
    "\n",
    "$$\n",
    "    \\mathcal{G}^{-1}(i\\omega_n) = i\\omega_n - t_\\star^2  G_{\\mathrm{loc}}(i\\omega_n),\n",
    "$$\n",
    "\n",
    "for which the impurity problem needs to be solved. As a starting point we put in $G^0_{\\mathrm{loc}}(i\\omega_n)$ into the latter equation.\n",
    "\n",
    "\n",
    "### IPT Solver\n",
    "The IPT is an inexpensive way of solving the impurity problem (instead of applying e.g. Quantum Monte Carlo (QMC) or Exact Diagonalization (ED) methods). The self-energy is approximated by the second-order perturbation theory (SOPT/GF2, see other [tutorial](second_order_perturbation_py.md))\n",
    "\n",
    "$$\n",
    "    \\Sigma(\\tau) = U^2\\mathcal{G}^3(\\tau).\n",
    "$$\n",
    "\n",
    "with the Hubbard interaction $U$ and imaginary time $\\tau$. Note that we absorbed the constant Hartree term $\\Sigma_H = U n_{\\sigma} = U\\frac{n}{2}$ into the definition of the chemical potential $\\mu$ (at half filling, it is shifted to zero). Otherwise we would have to treat this term separately, since the IR basis cannot model the $\\delta$-peak in frequency space well/compactly. In this case, evaluate the term analytically and add it after the Fourier transformation step.\n",
    "\n",
    "### Renormalization factor\n",
    "\n",
    "The Mott transition can be detected by monitoring the renormalization factor\n",
    "\n",
    "$$\n",
    "Z = \\frac{1}{1-\\frac{\\partial \\mathrm{Re} \\Sigma(\\omega+i0^+)}{\\partial \\omega}}\\Big|_{\\omega=0} \\approx \\frac{1}{1 - \\frac{\\mathrm{Im}\\{\\Sigma(i\\omega_1)-\\Sigma(i\\omega_0)\\}}{\\omega_1 - \\omega_0 }} .\n",
    "$$\n",
    "\n",
    "In the non-interacting limit $U\\rightarrow 0$ we have $Z\\rightarrow 1$. Correlation effects reduce $Z$ as $Z < 1$ and the Mott transition is signaled by a jump $Z\\to0$.\n",
    "\n",
    "[1] A. Georges and G. Kotliar, Phys. Rev. B 45, 6479 (1992)\n",
    "\n",
    "[2] A. Georges et al., Rev. Mod. Phys. 68, 13 (1996)\n",
    "\n",
    "[3] Many book chapters of the Jülich autumn school series, see https://www.cond-mat.de/events/correl.html\n",
    "\n",
    "[4] R. M. Martin, L. Reining, D. M. Ceperley, Interacting Electrons, Cambridge University Press (2016)\n",
    "\n",
    "#### Notes on practical implementation\n",
    "* We will try to find the Mott transition which is a phase transition of first order. To illustrate this, we will do calculations starting from the metallic and the insulating phase at the end of this tutorial. This will show a hysteresis, signaling the metastable/coexistence region of both solutions. For converged results, this will need many iteration steps.\n",
    "* In the insulating phase, the low-frequency part of the self-energy turns downwards and diverges. Using the above formula for calculating the renormalization factor $Z$ from a linearized self-energy, it would be negative. To circumvent this unphysical notion, $Z$ then is defined as zero in the implementation.\n",
    "* We include a mixing $p<1$ in each iteration step, such that the Green function of step $n+1$ is partially constructed from the old and new Green function as $G^{n+1} = p\\,G^{n+1} + (1-p)\\,G^{n}$. This smoothes too strong oscillations of the solution which is important especially near the phase transition point."
   ]
  },
  {
   "cell_type": "markdown",
   "id": "7b841ab9",
   "metadata": {},
   "source": [
    "## Code implementation"
   ]
  },
  {
   "cell_type": "code",
   "execution_count": null,
   "id": "5e095bbe",
   "metadata": {},
   "outputs": [],
   "source": [
    "import numpy as np\n",
    "import scipy as sc\n",
    "import scipy.optimize\n",
    "from warnings import warn\n",
    "import sparse_ir\n",
    "%matplotlib inline\n",
    "import matplotlib.pyplot as plt\n",
    "plt.style.use('tableau-colorblind10')\n"
   ]
  },
  {
   "cell_type": "markdown",
   "id": "97cd4891",
   "metadata": {},
   "source": [
    "### Setting up the solver\n",
    "\n",
    "#### Generating meshes\n",
    "We need to generate IR basis functions on a sparse $\\tau$ and $i\\omega_n$ grid. In addition, we set calculation routines to Fourier transform $\\tau\\leftrightarrow i\\omega_n$ (via IR basis)."
   ]
  },
  {
   "cell_type": "code",
   "execution_count": null,
   "id": "89eba704",
   "metadata": {},
   "outputs": [],
   "source": [
    "# Initiate fermionic and bosonic IR basis objects by using (later):\n",
    "# IR_basis_set = sparse_ir.FiniteTempBasisSet(beta, wmax, eps=IR_tol)\n",
    "class Mesh:\n",
    "    \"\"\"\n",
    "    Holding class for sparsely sampled imaginary time 'tau' / Matsubara frequency 'iwn' grids.\n",
    "    Additionally it defines the Fourier transform via 'tau <-> l <-> wn'.\n",
    "    \"\"\"\n",
    "    def __init__(self,IR_basis_set):\n",
    "        self.IR_basis_set = IR_basis_set\n",
    "\n",
    "        # lowest Matsubara frequency index\n",
    "        self.iw0_f = np.where(self.IR_basis_set.wn_f == 1)[0][0]\n",
    "        self.iw0_b = np.where(self.IR_basis_set.wn_b == 0)[0][0]\n",
    "\n",
    "        # frequency mesh (for plotting Green function/self-energy)\n",
    "        self.iwn_f = 1j * self.IR_basis_set.wn_f * np.pi * T\n",
    " \n",
    "    def smpl_obj(self, statistics):\n",
    "        \"\"\" Return sampling object for given statistic \"\"\"\n",
    "        smpl_tau = {'F': self.IR_basis_set.smpl_tau_f, 'B': self.IR_basis_set.smpl_tau_b}[statistics]\n",
    "        smpl_wn  = {'F': self.IR_basis_set.smpl_wn_f,  'B': self.IR_basis_set.smpl_wn_b }[statistics]\n",
    "        return smpl_tau, smpl_wn\n",
    "    \n",
    "    def tau_to_wn(self, statistics, obj_tau):\n",
    "        \"\"\" Fourier transform from tau to iwn via IR basis \"\"\"\n",
    "        smpl_tau, smpl_wn = self.smpl_obj(statistics)\n",
    "\n",
    "        obj_l   = smpl_tau.fit(obj_tau, axis=0)\n",
    "        obj_wn  = smpl_wn.evaluate(obj_l, axis=0)\n",
    "        return obj_wn\n",
    "\n",
    "    def wn_to_tau(self, statistics, obj_wn):\n",
    "        \"\"\" Fourier transform from iwn to tau via IR basis \"\"\"\n",
    "        smpl_tau, smpl_wn = self.smpl_obj(statistics)\n",
    "\n",
    "        obj_l   = smpl_wn.fit(obj_wn, axis=0)\n",
    "        obj_tau = smpl_tau.evaluate(obj_l, axis=0)\n",
    "        return obj_tau"
   ]
  },
  {
   "cell_type": "markdown",
   "id": "3e11134b",
   "metadata": {},
   "source": [
    "#### IPT solver\n",
    "We write a function for the IPT solver. We use the `Mesh` class defined above to perform calculation steps."
   ]
  },
  {
   "cell_type": "code",
   "execution_count": null,
   "id": "6436d392",
   "metadata": {},
   "outputs": [],
   "source": [
    "def IPTSolver(mesh, g_weiss, U):\n",
    "    \"\"\"\n",
    "    IPT solver to calculate the impurity problem.\n",
    "    Input: \n",
    "        mesh - Holding class of IR basis with sparsely sampled grids.\n",
    "        g_weiss - Weiss field of the bath (\\mathcal(G); cavity Green function)\n",
    "                  on Matsubara frequencies iwn.\n",
    "        U - Hubbard interaction strength\n",
    "    \"\"\"\n",
    "    \n",
    "    # Fourier transform to imaginary time\n",
    "    gtau = mesh.wn_to_tau('F', g_weiss)\n",
    "\n",
    "    # Self-energy in SOPT\n",
    "    sigma = U**2 * gtau**3\n",
    "    \n",
    "    # Fourier transform back to Matsubara frequency\n",
    "    sigma = mesh.tau_to_wn('F', sigma)\n",
    "    return sigma"
   ]
  },
  {
   "cell_type": "markdown",
   "id": "e203111f-ee91-4b39-af6d-81fd3f620233",
   "metadata": {},
   "source": [
    "#### DMFT loop\n",
    "We wrap the DMFT loop in a class that sets all necessary quantities when initializing and runs when calling the `.solve` instance."
   ]
  },
  {
   "cell_type": "code",
   "execution_count": null,
   "id": "dc234e52-6068-484c-b876-45ddf1940f76",
   "metadata": {},
   "outputs": [],
   "source": [
    "class DMFT_loop:\n",
    "    def __init__(self,mesh, g0_loc, U, D, sfc_tol=1e-4, maxiter=20, mix=0.2,\n",
    "                  verbose=True):\n",
    "        \n",
    "        # Set input\n",
    "        self.mesh = mesh\n",
    "        self.U = U\n",
    "        self.t = D/2\n",
    "        self.mix = mix\n",
    "        self.sfc_tol = sfc_tol\n",
    "        self.maxiter = maxiter\n",
    "        self.verbose = verbose\n",
    "        \n",
    "        # Initial Green function (e.g. non-interacting)\n",
    "        self.g_loc = g0_loc\n",
    "        \n",
    "        # Initiate Weiss field\n",
    "        self.sigma = 0\n",
    "        self.calc_g_weiss()\n",
    "        \n",
    "    def solve(self):\n",
    "        for it in range(self.maxiter):\n",
    "            sigma_old = self.sigma\n",
    "            \n",
    "            # Solve impurity problem in IPT\n",
    "            sigma = IPTSolver(self.mesh, self.g_weiss, self.U)\n",
    "            self.sigma = sigma*mix + self.sigma*(1-mix)\n",
    "            \n",
    "            # Set new Green function and Weiss field\n",
    "            self.calc_g_loc()\n",
    "            self.calc_g_weiss()\n",
    "            \n",
    "            # Check whether solution is converged\n",
    "            sfc_check = np.sum(abs(self.sigma-sigma_old))/np.sum(abs(self.sigma))\n",
    "            if self.verbose:\n",
    "                print(it, sfc_check)\n",
    "            if sfc_check < self.sfc_tol:\n",
    "                if self.verbose:\n",
    "                    print(\"DMFT loop converged at desired accuracy of\", self.sfc_tol)\n",
    "                break           \n",
    "        \n",
    "    def calc_g_loc(self):\n",
    "        # Set interacting local Green function from Dyson's equation.\n",
    "        self.g_loc = (self.g_weiss**(-1) - self.sigma)**(-1)\n",
    "        \n",
    "    def calc_g_weiss(self):\n",
    "        # Calculate Weiss mean field of electron bath.\n",
    "        self.g_weiss = (self.mesh.iwn_f - self.t**2 * self.g_loc)**(-1)\n",
    "        #self.g_weiss = (self.g_loc**(-1) + self.sigma)**(-1)"
   ]
  },
  {
   "cell_type": "markdown",
   "id": "9c2869c9-24c8-40ab-8499-21435238343b",
   "metadata": {
    "tags": []
   },
   "source": [
    "### Calculations\n",
    "\n",
    "#### Parameter setting"
   ]
  },
  {
   "cell_type": "code",
   "execution_count": null,
   "id": "4f938a7d-b96c-489e-9cb0-5e386017421b",
   "metadata": {},
   "outputs": [],
   "source": [
    "### System parameters\n",
    "D    = 2      # half bandwidth D = W/2 ; hopping t = 1 here\n",
    "wmax = 2*D    # set wmax >= W = 2*D\n",
    "T    = 0.1/D  # temperature\n",
    "beta = 1/T    # inverse temperature\n",
    "U    = 5.     # Hubbard interaction\n",
    "\n",
    "### Numerical parameters\n",
    "IR_tol  = 1e-15  # desired accuracy for l-cutoff of IR basis functions\n",
    "maxiter = 300    # maximal number of DMFT convergence steps\n",
    "sfc_tol = 1e-5   # desired accuracy of DMFT convergence\n",
    "mix     = 0.25   # mixing factor"
   ]
  },
  {
   "cell_type": "code",
   "execution_count": null,
   "id": "37199c85",
   "metadata": {
    "tags": [
     "output_scroll"
    ]
   },
   "outputs": [],
   "source": [
    "### Initialize calculation\n",
    "# Set mesh\n",
    "IR_basis_set = sparse_ir.FiniteTempBasisSet(beta, wmax, eps=IR_tol)\n",
    "mesh = Mesh(IR_basis_set)\n",
    "\n",
    "# Calculate non-interacting Green function\n",
    "rho = lambda omega : 2*np.sqrt(D**2 - omega.clip(-D,D)**2)/(np.pi*D**2)\n",
    "rho_l = IR_basis_set.basis_f.v.overlap(rho)\n",
    "g0_l  = -IR_basis_set.basis_f.s * rho_l\n",
    "g0_loc = IR_basis_set.smpl_wn_f.evaluate(g0_l)\n",
    "\n",
    "# Initiate DMFT loop\n",
    "solver = DMFT_loop(mesh, g0_loc, U, D, sfc_tol=sfc_tol, maxiter=maxiter, mix=mix, verbose=True)\n",
    "\n",
    "# perform DMFT calculations\n",
    "solver.solve()"
   ]
  },
  {
   "cell_type": "markdown",
   "id": "205d9ba8",
   "metadata": {
    "tags": []
   },
   "source": [
    "#### Visualize results"
   ]
  },
  {
   "cell_type": "code",
   "execution_count": null,
   "id": "ab832993-2937-4e11-a78e-cabf255b9b1f",
   "metadata": {},
   "outputs": [],
   "source": [
    "# Plot spectral function/density of states\n",
    "omega = np.linspace(-D-0.01, D+0.01,200)\n",
    "plt.plot(omega, rho(omega),'-')\n",
    "ax = plt.gca()\n",
    "ax.set_xlim([-D-0.05,D+0.05])\n",
    "ax.set_ylim([0,2/np.pi/D+0.02])\n",
    "ax.set_xlabel('$\\\\omega$')\n",
    "ax.set_ylabel('$\\\\rho(\\\\omega)$')\n",
    "plt.show()"
   ]
  },
  {
   "cell_type": "code",
   "execution_count": null,
   "id": "57f8adb9",
   "metadata": {},
   "outputs": [],
   "source": [
    "# plot frequency dependence of Green function\n",
    "plt.plot(np.imag(mesh.iwn_f), np.imag(solver.g_loc),'-o')\n",
    "ax = plt.gca()\n",
    "ax.set_xlabel('$\\\\omega_n$')\n",
    "ax.set_xlim([0,20])\n",
    "ax.set_ylabel('Im $G_{\\\\mathrm{loc}}(i\\\\omega_n)$')\n",
    "ax.set_ylim(ymax=0)\n",
    "plt.show()"
   ]
  },
  {
   "cell_type": "code",
   "execution_count": null,
   "id": "2261484d-2de5-4270-8392-3630d565701a",
   "metadata": {},
   "outputs": [],
   "source": [
    "# plot frequency dependence of self-energy\n",
    "plt.plot(np.imag(mesh.iwn_f), np.imag(solver.sigma),'-o')\n",
    "ax = plt.gca()\n",
    "ax.set_xlabel('$\\\\omega_n$')\n",
    "ax.set_xlim([0,20])\n",
    "ax.set_ylabel('Im $\\\\Sigma(i\\\\omega_n)$')\n",
    "ax.set_ylim(ymax=0)\n",
    "plt.show()"
   ]
  },
  {
   "cell_type": "markdown",
   "id": "e91c863a",
   "metadata": {},
   "source": [
    "### Renormalization factor\n",
    "We calculate the renormalization factor from a linearized self-energy. It is also possible to approximate it from the lowest Matsubara frequency (see and try out the difference!)."
   ]
  },
  {
   "cell_type": "code",
   "execution_count": null,
   "id": "a14402f2-900e-466b-8594-4ccd8c786ae1",
   "metadata": {},
   "outputs": [],
   "source": [
    "def CalcRenormalizationZ(solver):\n",
    "    sigma = solver.sigma\n",
    "    sigma_iw0 = sigma[solver.mesh.iw0_f]\n",
    "    sigma_iw1 = sigma[solver.mesh.iw0_f+1]\n",
    "    beta = solver.mesh.IR_basis_set.beta\n",
    "    Z = 1/(1 - np.imag(sigma_iw1 - sigma_iw0)*beta/(2*np.pi))\n",
    "    #Z = 1/(1 - np.imag(sigma_iw0)*beta/np.pi)\n",
    "    \n",
    "    # When system turns insulating, slope becomes positive/Z becomes negative -> set Z to zero then\n",
    "    if Z < 0:\n",
    "        Z = 0\n",
    "    return Z"
   ]
  },
  {
   "cell_type": "markdown",
   "id": "77a7d5a1-ecfe-4f9b-8dc1-73d36c15b6bb",
   "metadata": {},
   "source": [
    "Now we perform calculations for different $U$ to find the Mott transition. To see the evolution, we also plot the self-energy for some $U$ values."
   ]
  },
  {
   "cell_type": "code",
   "execution_count": null,
   "id": "5e29fc5e",
   "metadata": {
    "tags": []
   },
   "outputs": [],
   "source": [
    "# Set U values as unit of t\n",
    "U_min = 0\n",
    "U_max = 6.5\n",
    "U_num = 66\n",
    "U_arr = np.linspace(U_min, U_max, U_num)\n",
    "Z_arr = np.empty(U_arr.shape)\n",
    "\n",
    "# Set new convergence parameters to achieve good convergence near the phase transition line\n",
    "maxiter = 1500    # maximal number of DMFT convergence steps\n",
    "sfc_tol = 1e-14   # desired accuracy of DMFT convergence\n",
    "\n",
    "\n",
    "# Set mesh\n",
    "IR_basis_set = sparse_ir.FiniteTempBasisSet(beta, wmax, eps=IR_tol)\n",
    "mesh = Mesh(IR_basis_set)\n",
    "\n",
    "# Calculate noninteracting Green function\n",
    "rho = lambda omega : np.sqrt(D**2 - omega.clip(-D,D)**2)/(np.pi*D)\n",
    "rho_l = IR_basis_set.basis_f.v.overlap(rho)\n",
    "g0_l  = -IR_basis_set.basis_f.s * rho_l\n",
    "g0_loc = IR_basis_set.smpl_wn_f.evaluate(g0_l)\n",
    "\n",
    "\n",
    "plt.figure()\n",
    "for it, U in enumerate(U_arr):\n",
    "    # Starting from non-interacting solution\n",
    "    solver = DMFT_loop(mesh, g0_loc, U, D, sfc_tol=sfc_tol, maxiter=maxiter, mix=mix, verbose=False)\n",
    "    solver.solve()    \n",
    "    Z = CalcRenormalizationZ(solver)\n",
    "    Z_arr[it] = Z    \n",
    "        \n",
    "    if it in [30, 34, 35, 36, 37, 40]:\n",
    "        plt.plot(np.imag(mesh.iwn_f[mesh.iw0_f:]), np.imag(solver.sigma[mesh.iw0_f:]),'-o', label='$U$={:.2f}'.format(U))     \n",
    "        \n",
    "        \n",
    "ax = plt.gca()\n",
    "ax.set_xlabel('$\\\\omega_n$')\n",
    "ax.set_xlim([0,4])\n",
    "ax.set_ylabel('Im $\\\\Sigma(i\\\\omega_n)$')\n",
    "ax.set_ylim(ymax=0)\n",
    "ax.legend()\n",
    "\n",
    "#%%%%%%%%%%%%%%%% Plot results\n",
    "plt.figure()\n",
    "plt.plot(U_arr, Z_arr, '--o')\n",
    "ax = plt.gca()\n",
    "ax.set_xlabel('$U/t_\\\\star$', fontsize=12)\n",
    "ax.set_xlim([U_min, U_max])\n",
    "ax.set_ylabel('$Z = (1-\\partial\\Sigma/\\partial\\omega)^{-1}$', fontsize=12)\n",
    "ax.set_ylim([0,1])\n",
    "plt.show()"
   ]
  },
  {
   "cell_type": "markdown",
   "id": "43279056-8223-432e-801f-364730395f07",
   "metadata": {},
   "source": [
    "You can quite well see a jump of $Z$ between $U/t_\\star=3$ and 4 which is accompanied by the low-frequency part of the self-energy diverging instead of going to zero.\n",
    "\n",
    "In a last step, we want to map out the metastable coexistence region. In order to do this, we have to start every new $U$ calculation from the previous converged solution. If we start from small $U$, we start from the metallic region, whereas starting from large $U$ corresponds to starting from the insulating solution."
   ]
  },
  {
   "cell_type": "code",
   "execution_count": null,
   "id": "4d81110e-2481-441c-9078-17df8546c373",
   "metadata": {},
   "outputs": [],
   "source": [
    "Z_arr_mt = np.empty(U_arr.shape)\n",
    "Z_arr_in = np.empty(U_arr.shape)   \n",
    "\n",
    "for it in range(len(U_arr)):\n",
    "    if it != 0:\n",
    "        solver_mt = DMFT_loop(mesh, solver_mt.g_loc, U_arr[it], D, sfc_tol=sfc_tol, maxiter=maxiter, mix=mix, verbose=False)\n",
    "        solver_in = DMFT_loop(mesh, solver_in.g_loc, U_arr[U_num-1-it], D, sfc_tol=sfc_tol, maxiter=maxiter, mix=mix, verbose=False)\n",
    "    else:\n",
    "        solver_mt = DMFT_loop(mesh, g0_loc, U_arr[it], D, sfc_tol=sfc_tol, maxiter=maxiter, mix=mix, verbose=False)\n",
    "        solver_in = DMFT_loop(mesh, g0_loc, U_arr[U_num-1-it], D, sfc_tol=sfc_tol, maxiter=maxiter, mix=mix, verbose=False)\n",
    "        \n",
    "    solver_mt.solve()\n",
    "    Z = CalcRenormalizationZ(solver_mt)\n",
    "    Z_arr_mt[it] = Z\n",
    "    \n",
    "    solver_in.solve()    \n",
    "    Z = CalcRenormalizationZ(solver_in)\n",
    "    Z_arr_in[U_num-1-it] = Z\n",
    "    \n",
    "        \n",
    "    \n",
    "#%%%%%%%%%%%%%%%% Plot results\n",
    "plt.figure()\n",
    "plt.plot([],[],'w',label='Starting pt.')\n",
    "plt.plot(U_arr, Z_arr, '--o', label='$G_0$')\n",
    "plt.plot(U_arr, Z_arr_in, '--x', label='$G_{\\\\mathrm{insulating}}$')\n",
    "plt.plot(U_arr, Z_arr_mt, '--^', label='$G_{\\\\mathrm{metal}}$')\n",
    "ax = plt.gca()\n",
    "ax.set_xlabel('$U/t_\\\\star$', fontsize=12)\n",
    "ax.set_xlim([U_min, U_max])\n",
    "ax.set_ylabel('$Z = (1-\\partial\\Sigma/\\partial\\omega)^{-1}$', fontsize=12)\n",
    "ax.set_ylim([0,1])\n",
    "ax.legend(fontsize=12)\n",
    "plt.show()"
   ]
  },
  {
   "cell_type": "markdown",
   "id": "e61f48f4-f538-4c19-b181-3db4490a7c17",
   "metadata": {},
   "source": [
    "For comparison, we also plotted the transition line where we always start from the non-interacting Green function $G_0$. Since we do only a few iteration steps, we do not have completetly converged solutions, so that the $G_0$ line has a slightly larger critical $U$ value compared to the line which starts from the metallic solution. Try increasinging the parameter `maxiter` (to 1000 or so) and decreasing the parameter `sfc_tol` (to 1e-14 or so) and look at the results! (The lines should become equal.)\n",
    "\n",
    "Often the energy unit is not the hopping $t_\\star$ but the half-bandwidth $D$, so we can also plot the results in this convention:"
   ]
  },
  {
   "cell_type": "code",
   "execution_count": null,
   "id": "23e966bc-2323-42cb-aa6d-a2904b08ee5a",
   "metadata": {},
   "outputs": [],
   "source": [
    "#%%%%%%%%%%%%%%%% Plot results\n",
    "plt.figure()\n",
    "plt.plot([],[],'w',label='Starting pt.')\n",
    "plt.plot(U_arr/D, Z_arr, '--o', label='$G_0$')\n",
    "plt.plot(U_arr/D, Z_arr_in, '--x', label='$G_{\\\\mathrm{insulating}}$')\n",
    "plt.plot(U_arr/D, Z_arr_mt, '--^', label='$G_{\\\\mathrm{metal}}$')\n",
    "ax = plt.gca()\n",
    "ax.set_xlabel('$U/D$', fontsize=12)\n",
    "ax.set_xlim([U_min/D, U_max/D])\n",
    "ax.set_ylabel('$Z = (1-\\partial\\Sigma/\\partial\\omega)^{-1}$', fontsize=12)\n",
    "ax.set_ylim([0,1])\n",
    "ax.legend(fontsize=12)\n",
    "plt.show()"
   ]
  }
 ],
 "metadata": {
  "jupytext": {
   "formats": "ipynb,md:myst"
  },
  "kernelspec": {
   "display_name": "Python 3 (ipykernel)",
   "language": "python",
   "name": "python3"
  },
  "language_info": {
   "codemirror_mode": {
    "name": "ipython",
    "version": 3
   },
   "file_extension": ".py",
   "mimetype": "text/x-python",
   "name": "python",
   "nbconvert_exporter": "python",
   "pygments_lexer": "ipython3",
   "version": "3.7.11"
  }
 },
 "nbformat": 4,
 "nbformat_minor": 5
}
