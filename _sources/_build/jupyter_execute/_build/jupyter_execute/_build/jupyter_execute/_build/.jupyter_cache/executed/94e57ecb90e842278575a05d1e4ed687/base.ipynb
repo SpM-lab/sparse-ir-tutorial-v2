{
 "cells": [
  {
   "cell_type": "code",
   "execution_count": 1,
   "id": "48c52e66",
   "metadata": {},
   "outputs": [],
   "source": [
    "import numpy as np\n",
    "import scipy as sc\n",
    "import scipy.optimize\n",
    "from warnings import warn\n",
    "import sparse_ir\n",
    "%matplotlib inline\n",
    "import matplotlib.pyplot as plt"
   ]
  },
  {
   "cell_type": "code",
   "execution_count": 2,
   "id": "7892e94f",
   "metadata": {},
   "outputs": [],
   "source": [
    "### System parameters\n",
    "t    = 1      # hopping amplitude\n",
    "W    = 8*t    # bandwidth\n",
    "wmax = 10     # set wmax >= W\n",
    "\n",
    "T    = 0.1    # temperature\n",
    "beta = 1/T    # inverse temperature\n",
    "n    = 0.85   # electron filling, here per spin per lattice site (n=1: half filling)\n",
    "U    = 4      # Hubbard interaction\n",
    "\n",
    "### Numerical parameters\n",
    "nk1, nk2  = 24, 24    # number of k_points along one repiprocal crystal lattice direction k1 = kx, k2 = ky\n",
    "nk        = nk1*nk2\n",
    "IR_tol    = 1e-10     # desired accuary for l-cutoff of IR basis functions"
   ]
  },
  {
   "cell_type": "code",
   "execution_count": 3,
   "id": "1f752ee3",
   "metadata": {},
   "outputs": [],
   "source": [
    "#### Initiate fermionic and bosonic IR basis objects\n",
    "IR_basis_set = sparse_ir.FiniteTempBasisSet(beta, wmax, eps=IR_tol)\n",
    "\n",
    "class Mesh:\n",
    "    \"\"\"\n",
    "    Holding class for k-mesh and sparsely sampled imaginary time 'tau' / Matsubara frequency 'iwn' grids.\n",
    "    Additionally it defines the Fourier transform routines 'r <-> k'  and 'tau <-> l <-> wn'.\n",
    "    \"\"\"\n",
    "    def __init__(self,IR_basis_set,nk1,nk2):\n",
    "        self.IR_basis_set = IR_basis_set\n",
    "\n",
    "        # generate k-mesh and dispersion\n",
    "        self.nk1, self.nk2, self.nk = nk1, nk2, nk1*nk2\n",
    "        self.k1, self.k2 = np.meshgrid(np.arange(self.nk1)/self.nk1, np.arange(self.nk2)/self.nk2)\n",
    "        self.ek = -2*t*( np.cos(2*np.pi*self.k1) + np.cos(2*np.pi*self.k2) ).reshape(nk)\n",
    "\n",
    "        # lowest Matsubara frequency index\n",
    "        self.iw0_f = np.where(self.IR_basis_set.wn_f == 1)[0][0]\n",
    "        self.iw0_b = np.where(self.IR_basis_set.wn_b == 0)[0][0]\n",
    "\n",
    "        ### Generate a frequency-momentum grid for iw_n and ek (in preparation for calculating the Green function)\n",
    "        # frequency mesh (for Green function)\n",
    "        self.iwn_f = 1j * self.IR_basis_set.wn_f * np.pi * T\n",
    "        self.iwn_f_ = np.tensordot(self.iwn_f, np.ones(nk), axes=0)\n",
    "\n",
    "        # ek mesh\n",
    "        self.ek_ = np.tensordot(np.ones(len(self.iwn_f)), self.ek, axes=0)\n",
    "\n",
    "    def smpl_obj(self, statistics):\n",
    "        \"\"\" Return sampling object for given statistic \"\"\"\n",
    "        smpl_tau = {'F': self.IR_basis_set.smpl_tau_f, 'B': self.IR_basis_set.smpl_tau_b}[statistics]\n",
    "        smpl_wn  = {'F': self.IR_basis_set.smpl_wn_f,  'B': self.IR_basis_set.smpl_wn_b }[statistics]\n",
    "        return smpl_tau, smpl_wn\n",
    "\n",
    "    \n",
    "    def tau_to_wn(self, statistics, obj_tau):\n",
    "        \"\"\" Fourier transform from tau to iwn via IR basis \"\"\"\n",
    "        smpl_tau, smpl_wn = self.smpl_obj(statistics)\n",
    "\n",
    "        obj_tau = obj_tau.reshape((smpl_tau.tau.size, self.nk1, self.nk2))\n",
    "        obj_l   = smpl_tau.fit(obj_tau, axis=0)\n",
    "        obj_wn  = smpl_wn.evaluate(obj_l, axis=0).reshape((smpl_wn.wn.size, self.nk))\n",
    "        return obj_wn\n",
    "\n",
    "    def wn_to_tau(self, statistics, obj_wn):\n",
    "        \"\"\" Fourier transform from iwn to tau via IR basis \"\"\"\n",
    "        smpl_tau, smpl_wn = self.smpl_obj(statistics)\n",
    "\n",
    "        obj_wn  = obj_wn.reshape((smpl_wn.wn.size, self.nk1, self.nk2))\n",
    "        obj_l   = smpl_wn.fit(obj_wn, axis=0)\n",
    "        obj_tau = smpl_tau.evaluate(obj_l, axis=0).reshape((smpl_tau.tau.size, self.nk))\n",
    "        return obj_tau\n",
    "\n",
    "    \n",
    "    def k_to_r(self,obj_k):\n",
    "        \"\"\" Fourier transform from k-space to real space \"\"\"\n",
    "        obj_k = obj_k.reshape(-1, self.nk1, self.nk2)\n",
    "        obj_r = np.fft.fftn(obj_k,axes=(1,2))\n",
    "        obj_r = obj_r.reshape(-1, self.nk)\n",
    "        return obj_r\n",
    "\n",
    "    def r_to_k(self,obj_r):\n",
    "        \"\"\" Fourier transform from real space to k-space \"\"\"\n",
    "        obj_r = obj_r.reshape(-1, self.nk1, self.nk2)\n",
    "        obj_k = np.fft.ifftn(obj_r,axes=(1,2))/self.nk\n",
    "        obj_k = obj_k.reshape(-1, self.nk)\n",
    "        return obj_k"
   ]
  },
  {
   "cell_type": "code",
   "execution_count": 4,
   "id": "9a7e753c",
   "metadata": {},
   "outputs": [],
   "source": [
    "class TPSCSolver:\n",
    "    def __init__(self, mesh, U, n, U_sfc_tol=1e-12, verbose=True):\n",
    "        \"\"\"\n",
    "        Solver class to calculate the TPSC method.\n",
    "        After initializing the Solver by `solver = TPSCSolver(mesh, U, n, **kwargs)` it \n",
    "        can be run by `solver.solve()`.\n",
    "        \"\"\"\n",
    "        ## set internal parameters for the solver\n",
    "        self.U = U\n",
    "        self.n = n\n",
    "        self.mesh = mesh\n",
    "        self.U_sfc_tol = U_sfc_tol\n",
    "        self.verbose = verbose\n",
    "        \n",
    "        ## set initial Green function and irreducible susceptibility\n",
    "        self.sigma = 0\n",
    "        \n",
    "        self.mu = 0\n",
    "        self.mu_calc()\n",
    "        \n",
    "        self.gkio_calc(self.mu)\n",
    "        self.grit_calc()\n",
    "        self.ckio_calc()\n",
    "        \n",
    "        # determine critical U_crit = 1/max(chi0) as an upper bound to U_sp\n",
    "        self.U_crit = 1/np.amax(self.ckio.real)\n",
    "    \n",
    "    \n",
    "    #%%%%%%%%%%% Solving instance\n",
    "    def solve(self):\n",
    "        \"\"\"\n",
    "        Determine spin and charge vertex self-consistently from sum rules and calculate self-energy.\n",
    "        \"\"\"\n",
    "        # determine spin vertex U_sp\n",
    "        self.spin_vertex_calc()\n",
    "        \n",
    "        # set double occupancy from Kanamori-Bruckner screening\n",
    "        self.docc_calc()\n",
    " \n",
    "        # determine charge vertex U_ch\n",
    "        self.charge_vertex_calc()\n",
    "        \n",
    "        # set spin and charge susceptibility\n",
    "        self.chi_spin   = self.RPA_term_calc( self.U_sp)\n",
    "        self.chi_charge = self.RPA_term_calc(-self.U_ch)\n",
    "\n",
    "        # calculate interaction, self-energy and interacting Green function\n",
    "        self.V_calc()\n",
    "        self.sigma_calc()\n",
    "        self.mu_calc()\n",
    "        self.gkio_calc(self.mu)\n",
    "    \n",
    "    #%%%%%%%%%%% Calculation steps for self.energy\n",
    "    def gkio_calc(self, mu):\n",
    "        \"\"\" Calculate Green function G(iw,k) \"\"\"\n",
    "        self.gkio = (self.mesh.iwn_f_ - (self.mesh.ek_ - mu) - self.sigma)**(-1)\n",
    "\n",
    "    def grit_calc(self):\n",
    "        \"\"\" Calculate real space Green function G(tau,r) [for calculating chi0 and sigma] \"\"\"\n",
    "        # Fourier transform\n",
    "        grit = self.mesh.k_to_r(self.gkio)\n",
    "        self.grit = self.mesh.wn_to_tau('F', grit)\n",
    "\n",
    "    def ckio_calc(self):\n",
    "        \"\"\" Calculate irreducible susciptibility chi0(iv,q) \"\"\"\n",
    "        # fix: from v1 to v2\n",
    "        ckio = - self.grit * self.grit[::-1, :]\n",
    "\n",
    "        # Fourier transform\n",
    "        ckio = self.mesh.r_to_k(ckio)\n",
    "        self.ckio = self.mesh.tau_to_wn('B', ckio)\n",
    "\n",
    "    def V_calc(self):\n",
    "        \"\"\" Calculate interaction V(tau,r) from RPA-like spin and charge susceptibility \"\"\"\n",
    "        V = self.U/4 * (3*self.U_sp*self.chi_spin + self.U_ch*self.chi_charge)\n",
    "        # Constant Hartree Term V ~ U needs to be treated extra, since it cannot be modeled by the IR basis compactly.\n",
    "        # In the single-band case, the Hartree term can be absorbed into the chemical potential.\n",
    "\n",
    "        # Fourier transform\n",
    "        V = self.mesh.k_to_r(V)\n",
    "        self.V = self.mesh.wn_to_tau('B', V)\n",
    "\n",
    "    def sigma_calc(self):\n",
    "        \"\"\" Calculate self-energy Sigma(iwn,k) \"\"\"\n",
    "        sigma = self.V * self.grit\n",
    "    \n",
    "        # Fourier transform\n",
    "        sigma = self.mesh.r_to_k(sigma)\n",
    "        self.sigma = self.mesh.tau_to_wn('F', sigma)\n",
    "\n",
    "\n",
    "    #%%%%%%%%%%% Determining spin and charge vertex\n",
    "    def RPA_term_calc(self, U):\n",
    "        \"\"\" Set RPA-like susceptibility \"\"\"\n",
    "        chi_RPA = self.ckio / (1 - U*self.ckio)\n",
    "        return chi_RPA     \n",
    "    \n",
    "    def chi_qtrace_calc(self, U):\n",
    "        \"\"\" Calculate (iv_m, q) trace of chi_RPA term \"\"\"\n",
    "        # chi_qtrace = sum_(m,q) chi(iv_m,q)\n",
    "        chi_RPA = self.RPA_term_calc(U)\n",
    "        chi_trace = np.sum(chi_RPA, axis=1)/self.mesh.nk\n",
    "        chi_trace_l  = self.mesh.IR_basis_set.smpl_wn_b.fit(chi_trace)\n",
    "        chi_trace = self.mesh.IR_basis_set.basis_b.u(0)@chi_trace_l\n",
    "        return chi_trace.real\n",
    "    \n",
    "    def docc_calc(self):\n",
    "        \"\"\" Calculate double occupancy from Kanamori-Bruckner type screening \"\"\"\n",
    "        self.docc = 0.25 * self.U_sp/self.U * self.n**2\n",
    "    \n",
    "    def spin_vertex_calc(self):\n",
    "        \"\"\" Determine U_sp self-consistently from local sum rule \"\"\"\n",
    "        # interval [U_a, U_b] for root finding\n",
    "        U_a = 0\n",
    "        U_b = np.floor(self.U_crit*100)/100\n",
    "        \n",
    "        chi_trace = self.chi_qtrace_calc\n",
    "        sfc_eq = lambda U_sp : 2*chi_trace(U_sp) - self.n + 0.5*(U_sp/self.U)*self.n**2\n",
    "\n",
    "        if sfc_eq(U_b) > 0:        \n",
    "            self.U_sp = sc.optimize.brentq(sfc_eq, U_a, U_b, rtol = self.U_sfc_tol)\n",
    "            print(\"Setting U_sp = {}\".format(self.U_sp))\n",
    "        else:\n",
    "            print(\"Error\")\n",
    "            warn(\"System underwent phase transition, U^sp > U_crit = {}! U is too large or T too low for given doping.\".format(self.U_crit))\n",
    "    \n",
    "    def charge_vertex_calc(self):\n",
    "        \"\"\" Determine U_ch self-consistently from local sum rule \"\"\"\n",
    "        # interval [U_a, U_b] for root finding\n",
    "        U_a = 0\n",
    "        U_b = 100\n",
    "        \n",
    "        chi_trace = self.chi_qtrace_calc\n",
    "        sfc_eq = lambda U_ch : 2*chi_trace(-U_ch) - self.n + (1 - 2*self.docc)*self.n**2\n",
    "\n",
    "        self.U_ch = sc.optimize.brentq(sfc_eq, U_a, U_b, rtol = self.U_sfc_tol)\n",
    "\n",
    "        \n",
    "    #%%%%%%%%%%% Setting chemical potential mu\n",
    "    def calc_electron_density(self, mu):\n",
    "        \"\"\" Calculate chemical potential mu from Green function \"\"\"\n",
    "        self.gkio_calc(mu)\n",
    "        gio  = np.sum(self.gkio,axis=1)/self.mesh.nk\n",
    "        g_l  = self.mesh.IR_basis_set.smpl_wn_f.fit(gio)\n",
    "        g_tau0 = self.mesh.IR_basis_set.basis_f.u(0)@g_l\n",
    "    \n",
    "        n  = 1 + np.real(g_tau0)\n",
    "        n  = 2*n #for spin\n",
    "        return n\n",
    "\n",
    "    def mu_calc(self):\n",
    "        \"\"\" Find chemical potential for a given filling n0 via brentq root finding algorithm \"\"\"\n",
    "        n_calc = self.calc_electron_density\n",
    "        n0 = self.n\n",
    "        f  = lambda mu : n_calc(mu) - n0\n",
    "\n",
    "        self.mu = sc.optimize.brentq(f, np.amax(self.mesh.ek)*3, np.amin(self.mesh.ek)*3)"
   ]
  },
  {
   "cell_type": "code",
   "execution_count": 5,
   "id": "3772cfed",
   "metadata": {
    "tags": [
     "output_scroll"
    ]
   },
   "outputs": [
    {
     "name": "stdout",
     "output_type": "stream",
     "text": [
      "Setting U_sp = 2.1011348344804945"
     ]
    },
    {
     "name": "stdout",
     "output_type": "stream",
     "text": [
      "\n"
     ]
    }
   ],
   "source": [
    "# initialize calculation\n",
    "IR_basis_set = sparse_ir.FiniteTempBasisSet(beta, wmax, eps=IR_tol)\n",
    "mesh = Mesh(IR_basis_set, nk1, nk2)\n",
    "solver = TPSCSolver(mesh, U, n)\n",
    "\n",
    "# perform TPSC calculation\n",
    "solver.solve()"
   ]
  },
  {
   "cell_type": "code",
   "execution_count": 6,
   "id": "113e2694",
   "metadata": {},
   "outputs": [
    {
     "name": "stderr",
     "output_type": "stream",
     "text": [
      "<>:4: SyntaxWarning: invalid escape sequence '\\p'\n",
      "<>:6: SyntaxWarning: invalid escape sequence '\\p'\n",
      "<>:9: SyntaxWarning: invalid escape sequence '\\o'\n",
      "<>:4: SyntaxWarning: invalid escape sequence '\\p'\n",
      "<>:6: SyntaxWarning: invalid escape sequence '\\p'\n",
      "<>:9: SyntaxWarning: invalid escape sequence '\\o'\n",
      "/var/folders/1t/fxgqx0n17z33mplwpw4n1d8r0000gn/T/ipykernel_57484/2614448632.py:4: SyntaxWarning: invalid escape sequence '\\p'\n",
      "  ax.set_xlabel('$k_x/\\pi$')\n",
      "/var/folders/1t/fxgqx0n17z33mplwpw4n1d8r0000gn/T/ipykernel_57484/2614448632.py:6: SyntaxWarning: invalid escape sequence '\\p'\n",
      "  ax.set_ylabel('$k_y/\\pi$')\n",
      "/var/folders/1t/fxgqx0n17z33mplwpw4n1d8r0000gn/T/ipykernel_57484/2614448632.py:9: SyntaxWarning: invalid escape sequence '\\o'\n",
      "  ax.set_title('Re $G(k,i\\omega_0)$')\n"
     ]
    },
    {
     "data": {
      "image/png": "[encoded data removed]",
      "text/plain": [
       "<Figure size 640x480 with 2 Axes>"
      ]
     },
     "metadata": {},
     "output_type": "display_data"
    }
   ],
   "source": [
    "# plot 2D k-dependence of lowest Matsubara frequency of e.g. green function\n",
    "plt.pcolormesh(2*mesh.k1.reshape(nk1,nk2), 2*mesh.k2.reshape(nk1,nk2), np.real(solver.gkio[mesh.iw0_f].reshape(mesh.nk1,mesh.nk2)), shading='auto')\n",
    "ax = plt.gca()\n",
    "ax.set_xlabel('$k_x/\\pi$')\n",
    "ax.set_xlim([0,2])\n",
    "ax.set_ylabel('$k_y/\\pi$')\n",
    "ax.set_ylim([0,2])\n",
    "ax.set_aspect('equal')\n",
    "ax.set_title('Re $G(k,i\\omega_0)$')\n",
    "plt.colorbar()\n",
    "plt.show()"
   ]
  },
  {
   "cell_type": "code",
   "execution_count": 7,
   "id": "091fa7a4",
   "metadata": {},
   "outputs": [
    {
     "name": "stderr",
     "output_type": "stream",
     "text": [
      "<>:4: SyntaxWarning: invalid escape sequence '\\p'\n",
      "<>:6: SyntaxWarning: invalid escape sequence '\\p'\n",
      "<>:9: SyntaxWarning: invalid escape sequence '\\S'\n",
      "<>:4: SyntaxWarning: invalid escape sequence '\\p'\n",
      "<>:6: SyntaxWarning: invalid escape sequence '\\p'\n",
      "<>:9: SyntaxWarning: invalid escape sequence '\\S'\n",
      "/var/folders/1t/fxgqx0n17z33mplwpw4n1d8r0000gn/T/ipykernel_57484/1524884887.py:4: SyntaxWarning: invalid escape sequence '\\p'\n",
      "  ax.set_xlabel('$k_x/\\pi$')\n",
      "/var/folders/1t/fxgqx0n17z33mplwpw4n1d8r0000gn/T/ipykernel_57484/1524884887.py:6: SyntaxWarning: invalid escape sequence '\\p'\n",
      "  ax.set_ylabel('$k_y/\\pi$')\n",
      "/var/folders/1t/fxgqx0n17z33mplwpw4n1d8r0000gn/T/ipykernel_57484/1524884887.py:9: SyntaxWarning: invalid escape sequence '\\S'\n",
      "  ax.set_title('Im $\\Sigma(k,i\\omega_0)$')\n"
     ]
    },
    {
     "data": {
      "image/png": "[encoded data removed]",
      "text/plain": [
       "<Figure size 640x480 with 2 Axes>"
      ]
     },
     "metadata": {},
     "output_type": "display_data"
    }
   ],
   "source": [
    "# plot 2D k-dependence of lowest Matsubara frequency of e.g. self-energy\n",
    "plt.pcolormesh(2*mesh.k1.reshape(nk1,nk2), 2*mesh.k2.reshape(nk1,nk2), np.imag(solver.sigma[mesh.iw0_f].reshape(mesh.nk1,mesh.nk2)), shading='auto')\n",
    "ax = plt.gca()\n",
    "ax.set_xlabel('$k_x/\\pi$')\n",
    "ax.set_xlim([0,2])\n",
    "ax.set_ylabel('$k_y/\\pi$')\n",
    "ax.set_ylim([0,2])\n",
    "ax.set_aspect('equal')\n",
    "ax.set_title('Im $\\Sigma(k,i\\omega_0)$')\n",
    "plt.colorbar()\n",
    "plt.show()"
   ]
  },
  {
   "cell_type": "code",
   "execution_count": 8,
   "id": "4e9ef1c3",
   "metadata": {},
   "outputs": [
    {
     "name": "stderr",
     "output_type": "stream",
     "text": [
      "<>:4: SyntaxWarning: invalid escape sequence '\\p'\n",
      "<>:6: SyntaxWarning: invalid escape sequence '\\p'\n",
      "<>:9: SyntaxWarning: invalid escape sequence '\\c'\n",
      "<>:4: SyntaxWarning: invalid escape sequence '\\p'\n",
      "<>:6: SyntaxWarning: invalid escape sequence '\\p'\n",
      "<>:9: SyntaxWarning: invalid escape sequence '\\c'\n",
      "/var/folders/1t/fxgqx0n17z33mplwpw4n1d8r0000gn/T/ipykernel_57484/2686374420.py:4: SyntaxWarning: invalid escape sequence '\\p'\n",
      "  ax.set_xlabel('$k_x/\\pi$')\n",
      "/var/folders/1t/fxgqx0n17z33mplwpw4n1d8r0000gn/T/ipykernel_57484/2686374420.py:6: SyntaxWarning: invalid escape sequence '\\p'\n",
      "  ax.set_ylabel('$k_y/\\pi$')\n",
      "/var/folders/1t/fxgqx0n17z33mplwpw4n1d8r0000gn/T/ipykernel_57484/2686374420.py:9: SyntaxWarning: invalid escape sequence '\\c'\n",
      "  ax.set_title('$\\chi_{\\mathrm{sp}}(k,i\\nu_0)$')\n"
     ]
    },
    {
     "data": {
      "image/png": "[encoded data removed]",
      "text/plain": [
       "<Figure size 640x480 with 2 Axes>"
      ]
     },
     "metadata": {},
     "output_type": "display_data"
    }
   ],
   "source": [
    "# plot 2D k-dependence of lowest Matsubara frequency of e.g. chi_spin\n",
    "plt.pcolormesh(2*mesh.k1.reshape(nk1,nk2), 2*mesh.k2.reshape(nk1,nk2), np.real(solver.chi_spin[mesh.iw0_b].reshape(mesh.nk1,mesh.nk2)), shading='auto')\n",
    "ax = plt.gca()\n",
    "ax.set_xlabel('$k_x/\\pi$')\n",
    "ax.set_xlim([0,2])\n",
    "ax.set_ylabel('$k_y/\\pi$')\n",
    "ax.set_ylim([0,2])\n",
    "ax.set_aspect('equal')\n",
    "ax.set_title('$\\chi_{\\mathrm{sp}}(k,i\\nu_0)$')\n",
    "plt.colorbar()\n",
    "plt.show()"
   ]
  },
  {
   "cell_type": "code",
   "execution_count": 9,
   "id": "77271dbd",
   "metadata": {
    "tags": []
   },
   "outputs": [
    {
     "name": "stdout",
     "output_type": "stream",
     "text": [
      "Initialization..."
     ]
    },
    {
     "name": "stdout",
     "output_type": "stream",
     "text": [
      "\n"
     ]
    },
    {
     "name": "stderr",
     "output_type": "stream",
     "text": [
      "<>:47: SyntaxWarning: invalid escape sequence '\\m'\n",
      "<>:48: SyntaxWarning: invalid escape sequence '\\m'\n",
      "<>:47: SyntaxWarning: invalid escape sequence '\\m'\n",
      "<>:48: SyntaxWarning: invalid escape sequence '\\m'\n",
      "/var/folders/1t/fxgqx0n17z33mplwpw4n1d8r0000gn/T/ipykernel_57484/1554326033.py:47: SyntaxWarning: invalid escape sequence '\\m'\n",
      "  plt.plot(U_array, U_ch_array, '-', label='$U_{\\mathrm{ch}}$')\n",
      "/var/folders/1t/fxgqx0n17z33mplwpw4n1d8r0000gn/T/ipykernel_57484/1554326033.py:48: SyntaxWarning: invalid escape sequence '\\m'\n",
      "  plt.plot(U_array, U_sp_array, '-', label='$U_{\\mathrm{sp}}$')\n"
     ]
    },
    {
     "name": "stdout",
     "output_type": "stream",
     "text": [
      "Start TPSC loop..."
     ]
    },
    {
     "name": "stdout",
     "output_type": "stream",
     "text": [
      "\n"
     ]
    },
    {
     "name": "stdout",
     "output_type": "stream",
     "text": [
      "Setting U_sp = 0.009988853647935142"
     ]
    },
    {
     "name": "stdout",
     "output_type": "stream",
     "text": [
      "\n"
     ]
    },
    {
     "name": "stdout",
     "output_type": "stream",
     "text": [
      "Setting U_sp = 0.10844539767304137"
     ]
    },
    {
     "name": "stdout",
     "output_type": "stream",
     "text": [
      "\n"
     ]
    },
    {
     "name": "stdout",
     "output_type": "stream",
     "text": [
      "Setting U_sp = 0.20462542385301566"
     ]
    },
    {
     "name": "stdout",
     "output_type": "stream",
     "text": [
      "\n"
     ]
    },
    {
     "name": "stdout",
     "output_type": "stream",
     "text": [
      "Setting U_sp = 0.2984789555706955"
     ]
    },
    {
     "name": "stdout",
     "output_type": "stream",
     "text": [
      "\n"
     ]
    },
    {
     "name": "stdout",
     "output_type": "stream",
     "text": [
      "Setting U_sp = 0.38995933428732577"
     ]
    },
    {
     "name": "stdout",
     "output_type": "stream",
     "text": [
      "\n"
     ]
    },
    {
     "name": "stdout",
     "output_type": "stream",
     "text": [
      "Setting U_sp = 0.4790237958387998"
     ]
    },
    {
     "name": "stdout",
     "output_type": "stream",
     "text": [
      "\n"
     ]
    },
    {
     "name": "stdout",
     "output_type": "stream",
     "text": [
      "Setting U_sp = 0.5656340453556727"
     ]
    },
    {
     "name": "stdout",
     "output_type": "stream",
     "text": [
      "\n"
     ]
    },
    {
     "name": "stdout",
     "output_type": "stream",
     "text": [
      "Setting U_sp = 0.6497568174661893"
     ]
    },
    {
     "name": "stdout",
     "output_type": "stream",
     "text": [
      "\n"
     ]
    },
    {
     "name": "stdout",
     "output_type": "stream",
     "text": [
      "Setting U_sp = 0.731364407280038"
     ]
    },
    {
     "name": "stdout",
     "output_type": "stream",
     "text": [
      "\n"
     ]
    },
    {
     "name": "stdout",
     "output_type": "stream",
     "text": [
      "Setting U_sp = 0.8104351570179269"
     ]
    },
    {
     "name": "stdout",
     "output_type": "stream",
     "text": [
      "\n"
     ]
    },
    {
     "name": "stdout",
     "output_type": "stream",
     "text": [
      "Setting U_sp = 0.8869538831669794"
     ]
    },
    {
     "name": "stdout",
     "output_type": "stream",
     "text": [
      "\n"
     ]
    },
    {
     "name": "stdout",
     "output_type": "stream",
     "text": [
      "Setting U_sp = 0.9609122297786352"
     ]
    },
    {
     "name": "stdout",
     "output_type": "stream",
     "text": [
      "\n"
     ]
    },
    {
     "name": "stdout",
     "output_type": "stream",
     "text": [
      "Setting U_sp = 1.0323089350574113"
     ]
    },
    {
     "name": "stdout",
     "output_type": "stream",
     "text": [
      "\n"
     ]
    },
    {
     "name": "stdout",
     "output_type": "stream",
     "text": [
      "Setting U_sp = 1.1011500006251835"
     ]
    },
    {
     "name": "stdout",
     "output_type": "stream",
     "text": [
      "\n"
     ]
    },
    {
     "name": "stdout",
     "output_type": "stream",
     "text": [
      "Setting U_sp = 1.167448755793373"
     ]
    },
    {
     "name": "stdout",
     "output_type": "stream",
     "text": [
      "\n"
     ]
    },
    {
     "name": "stdout",
     "output_type": "stream",
     "text": [
      "Setting U_sp = 1.2312258126104405"
     ]
    },
    {
     "name": "stdout",
     "output_type": "stream",
     "text": [
      "\n"
     ]
    },
    {
     "name": "stdout",
     "output_type": "stream",
     "text": [
      "Setting U_sp = 1.2925089112258377"
     ]
    },
    {
     "name": "stdout",
     "output_type": "stream",
     "text": [
      "\n"
     ]
    },
    {
     "name": "stdout",
     "output_type": "stream",
     "text": [
      "Setting U_sp = 1.351332658975074"
     ]
    },
    {
     "name": "stdout",
     "output_type": "stream",
     "text": [
      "\n"
     ]
    },
    {
     "name": "stdout",
     "output_type": "stream",
     "text": [
      "Setting U_sp = 1.407738170304622"
     ]
    },
    {
     "name": "stdout",
     "output_type": "stream",
     "text": [
      "\n"
     ]
    },
    {
     "name": "stdout",
     "output_type": "stream",
     "text": [
      "Setting U_sp = 1.4617726179870079"
     ]
    },
    {
     "name": "stdout",
     "output_type": "stream",
     "text": [
      "\n"
     ]
    },
    {
     "name": "stdout",
     "output_type": "stream",
     "text": [
      "Setting U_sp = 1.5134887088267046"
     ]
    },
    {
     "name": "stdout",
     "output_type": "stream",
     "text": [
      "\n"
     ]
    },
    {
     "name": "stdout",
     "output_type": "stream",
     "text": [
      "Setting U_sp = 1.5629440990795302"
     ]
    },
    {
     "name": "stdout",
     "output_type": "stream",
     "text": [
      "\n"
     ]
    },
    {
     "name": "stdout",
     "output_type": "stream",
     "text": [
      "Setting U_sp = 1.6102007660186637"
     ]
    },
    {
     "name": "stdout",
     "output_type": "stream",
     "text": [
      "\n"
     ]
    },
    {
     "name": "stdout",
     "output_type": "stream",
     "text": [
      "Setting U_sp = 1.6553243524630132"
     ]
    },
    {
     "name": "stdout",
     "output_type": "stream",
     "text": [
      "\n"
     ]
    },
    {
     "name": "stdout",
     "output_type": "stream",
     "text": [
      "Setting U_sp = 1.698383500685407"
     ]
    },
    {
     "name": "stdout",
     "output_type": "stream",
     "text": [
      "\n"
     ]
    },
    {
     "name": "stdout",
     "output_type": "stream",
     "text": [
      "Setting U_sp = 1.7394491910380925"
     ]
    },
    {
     "name": "stdout",
     "output_type": "stream",
     "text": [
      "\n"
     ]
    },
    {
     "name": "stdout",
     "output_type": "stream",
     "text": [
      "Setting U_sp = 1.7785940990080047"
     ]
    },
    {
     "name": "stdout",
     "output_type": "stream",
     "text": [
      "\n"
     ]
    },
    {
     "name": "stdout",
     "output_type": "stream",
     "text": [
      "Setting U_sp = 1.8158919824012563"
     ]
    },
    {
     "name": "stdout",
     "output_type": "stream",
     "text": [
      "\n"
     ]
    },
    {
     "name": "stdout",
     "output_type": "stream",
     "text": [
      "Setting U_sp = 1.8514171081164592"
     ]
    },
    {
     "name": "stdout",
     "output_type": "stream",
     "text": [
      "\n"
     ]
    },
    {
     "name": "stdout",
     "output_type": "stream",
     "text": [
      "Setting U_sp = 1.8852437256509629"
     ]
    },
    {
     "name": "stdout",
     "output_type": "stream",
     "text": [
      "\n"
     ]
    },
    {
     "name": "stdout",
     "output_type": "stream",
     "text": [
      "Setting U_sp = 1.9174455922237692"
     ]
    },
    {
     "name": "stdout",
     "output_type": "stream",
     "text": [
      "\n"
     ]
    },
    {
     "name": "stdout",
     "output_type": "stream",
     "text": [
      "Setting U_sp = 1.9480955522975565"
     ]
    },
    {
     "name": "stdout",
     "output_type": "stream",
     "text": [
      "\n"
     ]
    },
    {
     "name": "stdout",
     "output_type": "stream",
     "text": [
      "Setting U_sp = 1.9772651724145571"
     ]
    },
    {
     "name": "stdout",
     "output_type": "stream",
     "text": [
      "\n"
     ]
    },
    {
     "name": "stdout",
     "output_type": "stream",
     "text": [
      "Setting U_sp = 2.005024430672467"
     ]
    },
    {
     "name": "stdout",
     "output_type": "stream",
     "text": [
      "\n"
     ]
    },
    {
     "name": "stdout",
     "output_type": "stream",
     "text": [
      "Setting U_sp = 2.031441458877369"
     ]
    },
    {
     "name": "stdout",
     "output_type": "stream",
     "text": [
      "\n"
     ]
    },
    {
     "name": "stdout",
     "output_type": "stream",
     "text": [
      "Setting U_sp = 2.0565823344196947"
     ]
    },
    {
     "name": "stdout",
     "output_type": "stream",
     "text": [
      "\n"
     ]
    },
    {
     "name": "stdout",
     "output_type": "stream",
     "text": [
      "Setting U_sp = 2.0805109182034855"
     ]
    },
    {
     "name": "stdout",
     "output_type": "stream",
     "text": [
      "\n"
     ]
    },
    {
     "name": "stdout",
     "output_type": "stream",
     "text": [
      "Setting U_sp = 2.103288734516636"
     ]
    },
    {
     "name": "stdout",
     "output_type": "stream",
     "text": [
      "\n"
     ]
    },
    {
     "name": "stdout",
     "output_type": "stream",
     "text": [
      "Setting U_sp = 2.124974888453772"
     ]
    },
    {
     "name": "stdout",
     "output_type": "stream",
     "text": [
      "\n"
     ]
    },
    {
     "name": "stdout",
     "output_type": "stream",
     "text": [
      "Setting U_sp = 2.145626016482253"
     ]
    },
    {
     "name": "stdout",
     "output_type": "stream",
     "text": [
      "\n"
     ]
    },
    {
     "name": "stdout",
     "output_type": "stream",
     "text": [
      "Setting U_sp = 2.165296265792269"
     ]
    },
    {
     "name": "stdout",
     "output_type": "stream",
     "text": [
      "\n"
     ]
    },
    {
     "name": "stdout",
     "output_type": "stream",
     "text": [
      "Setting U_sp = 2.1840372982535525"
     ]
    },
    {
     "name": "stdout",
     "output_type": "stream",
     "text": [
      "\n"
     ]
    },
    {
     "name": "stdout",
     "output_type": "stream",
     "text": [
      "Setting U_sp = 2.201898315103475"
     ]
    },
    {
     "name": "stdout",
     "output_type": "stream",
     "text": [
      "\n"
     ]
    },
    {
     "name": "stdout",
     "output_type": "stream",
     "text": [
      "Setting U_sp = 2.218926098746976"
     ]
    },
    {
     "name": "stdout",
     "output_type": "stream",
     "text": [
      "\n"
     ]
    },
    {
     "name": "stdout",
     "output_type": "stream",
     "text": [
      "Setting U_sp = 2.2351650684335627"
     ]
    },
    {
     "name": "stdout",
     "output_type": "stream",
     "text": [
      "\n"
     ]
    },
    {
     "name": "stdout",
     "output_type": "stream",
     "text": [
      "Setting U_sp = 2.250657346902997"
     ]
    },
    {
     "name": "stdout",
     "output_type": "stream",
     "text": [
      "\n"
     ]
    },
    {
     "name": "stdout",
     "output_type": "stream",
     "text": [
      "Setting U_sp = 2.265442835444129"
     ]
    },
    {
     "name": "stdout",
     "output_type": "stream",
     "text": [
      "\n"
     ]
    },
    {
     "name": "stdout",
     "output_type": "stream",
     "text": [
      "Setting U_sp = 2.2795592951417754"
     ]
    },
    {
     "name": "stdout",
     "output_type": "stream",
     "text": [
      "\n"
     ]
    },
    {
     "name": "stdout",
     "output_type": "stream",
     "text": [
      "Setting U_sp = 2.2930424324008554"
     ]
    },
    {
     "name": "stdout",
     "output_type": "stream",
     "text": [
      "\n"
     ]
    },
    {
     "name": "stdout",
     "output_type": "stream",
     "text": [
      "Setting U_sp = 2.3059259871201343"
     ]
    },
    {
     "name": "stdout",
     "output_type": "stream",
     "text": [
      "\n"
     ]
    },
    {
     "name": "stdout",
     "output_type": "stream",
     "text": [
      "Setting U_sp = 2.3182418221686993"
     ]
    },
    {
     "name": "stdout",
     "output_type": "stream",
     "text": [
      "\n"
     ]
    },
    {
     "name": "stdout",
     "output_type": "stream",
     "text": [
      "Finished. Plotting now."
     ]
    },
    {
     "name": "stdout",
     "output_type": "stream",
     "text": [
      "\n"
     ]
    },
    {
     "data": {
      "text/plain": [
       "<matplotlib.legend.Legend at 0x1058952b0>"
      ]
     },
     "execution_count": 9,
     "metadata": {},
     "output_type": "execute_result"
    },
    {
     "data": {
      "image/png": "[encoded data removed]",
      "text/plain": [
       "<Figure size 640x480 with 1 Axes>"
      ]
     },
     "metadata": {},
     "output_type": "display_data"
    }
   ],
   "source": [
    "#%%%%%%%%%%%%%%% Parameter settings\n",
    "print('Initialization...')\n",
    "# system parameters\n",
    "t = 1         # hopping amplitude\n",
    "n = 1         # electron filling, here per spin per lattice site (n=1: half filling)\n",
    "T = 0.4       # temperature\n",
    "beta =1/T\n",
    "U_array = np.linspace(1e-2,5,51)  # Hubbard interaction\n",
    "\n",
    "W    = 8*t    # bandwidth\n",
    "wmax = 10     # set wmax >= W\n",
    "\n",
    "# numerical parameters\n",
    "nk1, nk2  = 24, 24    # k-mesh sufficiently dense!\n",
    "nk        = nk1*nk2\n",
    "IR_tol    = 1e-8      # desired accuary for l-cutoff of IR basis functions\n",
    "\n",
    "\n",
    "# initialize meshes\n",
    "IR_basis_set = sparse_ir.FiniteTempBasisSet(beta, wmax, eps=IR_tol)\n",
    "mesh = Mesh(IR_basis_set, nk1, nk2)\n",
    "\n",
    "# set initial self_energy - will be set to previous calculation step afterwards\n",
    "sigma_init = 0\n",
    "\n",
    "# empty arrays for results later\n",
    "U_sp_array = np.empty((len(U_array)))\n",
    "U_ch_array = np.empty((len(U_array)))\n",
    "\n",
    "\n",
    "#%%%%%%%%%%%%%%% Calculations for different U values\n",
    "print(\"Start TPSC loop...\")\n",
    "for U_it, U in enumerate(U_array):\n",
    "    #print(\"Now: U = {:.1f}\".format(U))\n",
    "    \n",
    "    # TPSC solver\n",
    "    solver = TPSCSolver(mesh, U, n, verbose=False)\n",
    "    solver.solve()\n",
    "    \n",
    "    # save data for plotting\n",
    "    U_sp_array[U_it] = solver.U_sp\n",
    "    U_ch_array[U_it] = solver.U_ch\n",
    "print(\"Finished. Plotting now.\")\n",
    "\n",
    "\n",
    "#%%%%%%%%%%%%%%%% Plot results\n",
    "plt.plot(U_array, U_ch_array, '-', label='$U_{\\mathrm{ch}}$')\n",
    "plt.plot(U_array, U_sp_array, '-', label='$U_{\\mathrm{sp}}$')\n",
    "ax = plt.gca()\n",
    "ax.set_xlabel('$U$', fontsize=12)\n",
    "ax.set_xlim([0,5])\n",
    "ax.set_ylabel('Interaction', fontsize=12)\n",
    "ax.set_ylim([0,20])\n",
    "ax.legend(frameon=False, fontsize=12)"
   ]
  },
  {
   "cell_type": "code",
   "execution_count": null,
   "id": "67fdba93",
   "metadata": {},
   "outputs": [],
   "source": []
  }
 ],
 "metadata": {
  "jupytext": {
   "formats": "ipynb,md:myst"
  },
  "kernelspec": {
   "display_name": ".venv",
   "language": "python",
   "name": "python3"
  },
  "language_info": {
   "codemirror_mode": {
    "name": "ipython",
    "version": 3
   },
   "file_extension": ".py",
   "mimetype": "text/x-python",
   "name": "python",
   "nbconvert_exporter": "python",
   "pygments_lexer": "ipython3",
   "version": "3.13.3"
  }
 },
 "nbformat": 4,
 "nbformat_minor": 5
}