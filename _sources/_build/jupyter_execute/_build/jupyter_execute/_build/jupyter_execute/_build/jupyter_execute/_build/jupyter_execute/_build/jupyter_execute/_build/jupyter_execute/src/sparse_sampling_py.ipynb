{
 "cells": [
  {
   "cell_type": "markdown",
   "id": "af57a70f",
   "metadata": {
    "tags": []
   },
   "source": [
    "# Sparse sampling\n",
    "\n",
    "$$\n",
    "\\newcommand{\\wmax}{{\\omega_\\mathrm{max}}}\n",
    "\\newcommand{\\dd}{{\\mathrm{d}}}\n",
    "\\newcommand{\\ii}{{\\mathrm{i}}}\n",
    "\\newcommand{\\iv}{{\\mathrm{i}\\nu}}\n",
    "\\newcommand{\\tauk}{{\\bar{\\tau}_k}}\n",
    "\\newcommand{\\wk}{{\\bar{\\omega}^\\alpha_k}}\n",
    "\\newcommand{\\vk}{{\\bar{\\nu}_k}}\n",
    "\\newcommand{\\hatFmat}{\\hat{\\mathbf{F}}}\n",
    "\\newcommand{\\Fmat}{{\\mathbf{F}}}\n",
    "$$"
   ]
  },
  {
   "cell_type": "markdown",
   "id": "d95e80ef",
   "metadata": {},
   "source": [
    "We consider how to compute the $L$ expansion coefficients of a Green's function in IR from its numerical values known on a finite set of imaginary times or imaginary frequencies.\n",
    "The idea of the sparse sampling is simple.\n",
    "If we want to determine $L$ coefficients $G_l$,\n",
    "we need to know $G(\\tau)$ on only up to $L$ sampling points.\n",
    "Let $\\bar{\\tau}_1 < \\cdots < \\bar{\\tau}_{N_\\mathrm{smpl}}$ ($N_\\mathrm{smpl}\\ge L$) be such sampling points,\n",
    "one can evaluate the expansion coefficients as\n",
    "\n",
    "$$\n",
    "\\begin{align}\n",
    "    G_l &= \\underset{G_l}{\\mathrm{argmin}}\n",
    "        \\sum_k \\bigg| G(\\tauk) - \\sum_{l=0}^{N_\\mathrm{smpl}-1} U_l(\\tauk)G_l \\bigg|^2\\nonumber \\\\\n",
    "    &= (\\Fmat^+ \\boldsymbol{G})_l,\n",
    "\\end{align}\n",
    "$$\n",
    "\n",
    "where we define $(\\Fmat)_{kl} = U_l(\\tauk)$ and $\\Fmat^+$ is its pseudo inverse.\n",
    "The numerical stability of this ``fitting'' scheme is determined\n",
    "by the condition number of the coefficient matrix $\\Fmat$.\n",
    "An empiritically good choice is to use the middle points of the extrema of \n",
    "$U'_{L-1}(\\tau)$.\n",
    "From experience, the fitting can be done in the most stable way using SVD of the fitting matrix (already implemented in *sparse-ir*).\n",
    "\n",
    "The following figure shows the sampling points in the imaginary-time domain generated for $\\beta=10$ and $\\wmax=10$ as well as the basis function $U_{L-1}(\\tau)$ with $L=30$."
   ]
  },
  {
   "cell_type": "code",
   "execution_count": null,
   "id": "2161e029",
   "metadata": {
    "tags": [
     "hide-input"
    ]
   },
   "outputs": [],
   "source": [
    "import sparse_ir\n",
    "import numpy as np\n",
    "%matplotlib inline\n",
    "import matplotlib.pyplot as plt\n",
    "plt.rcParams['font.size'] = 15\n",
    "\n",
    "beta = 10\n",
    "wmax = 10\n",
    "basis = sparse_ir.FiniteTempBasis(\"F\", beta, wmax, eps=1e-10)\n",
    "\n",
    "smpl = sparse_ir.TauSampling(basis)\n",
    "\n",
    "taus = np.linspace(-beta/2, beta/2, 1000)\n",
    "plt.plot(taus, basis.u[-1](taus))\n",
    "plt.plot(taus, np.zeros_like(taus), ls='-', color='k', marker='', lw=0.5)\n",
    "for x in smpl.sampling_points:\n",
    "    plt.axvline(x=x, ls='--', lw=0.5, color='k')\n",
    "plt.xlabel(r'$\\tau$')\n",
    "plt.ylabel(r'$U_l(\\tau)$')\n",
    "plt.xlim([-beta/2, beta/2])\n",
    "plt.tight_layout()"
   ]
  },
  {
   "cell_type": "markdown",
   "id": "0f4bc67c",
   "metadata": {},
   "source": [
    "One can transform numerical data in the Matsubara-frequency domain using sparse-sampling techniques {cite}`Li:2020eu`.\n",
    "The IR basis functions $\\hat U_l(\\iv)$ are purely imaginary/real for even/odd $l$.\n",
    "Although the basis functions $U_l(\\iv)$ are defined only on discrete points,\n",
    "the respective parts have sign structures similarly to those of $U_l(\\tau)$.\n",
    "The figure shown below shows the basis functions for the largest $l$ of the given basis\n",
    "as well as the corresponding sampling frequencies.\n",
    "A sign change generally takes place between two adjacent Matsubara frequencies.\n",
    "A segment between two adjacent \"roots\" contains at least one sampling points.\n",
    "In the upper panel, you can see that the last segment at high frequencies contains two sampling points.\n",
    "This improves the condition number slighly.\n",
    "\n",
    "Let $\\bar{\\nu}_1 < \\cdots < \\bar{\\nu}_{N_\\mathrm{smpl}}$ ($N_\\mathrm{smpl}\\ge L$)\n",
    "be such sampling frequencies,\n",
    "one can evaluate the expansion coefficients as\n",
    "\n",
    "$$\n",
    "\\begin{align}\n",
    "    G_l &= \\underset{G_l}{\\mathrm{argmin}}\n",
    "        \\sum_k \\bigg| \\hat G(\\ii\\vk) - \\sum_{l=0}^{N_\\mathrm{smpl}-1} \\hat{U}_l(\\ii\\vk)G_l \\bigg|^2\\nonumber \\\\\n",
    "    &= (\\hat{\\Fmat}^+ \\boldsymbol{G})_l.\n",
    "\\end{align}\n",
    "$$\n",
    "\n",
    "The following figure shows the sampling points in the imaginary-frequency domain generated for $\\beta=10$ and $\\wmax=10$."
   ]
  },
  {
   "cell_type": "code",
   "execution_count": null,
   "id": "57d994f0",
   "metadata": {
    "tags": [
     "hide-input"
    ]
   },
   "outputs": [],
   "source": [
    "smpl_matsu = sparse_ir.MatsubaraSampling(basis)\n",
    "\n",
    "get_nonzero_part = lambda l, data: data.imag if l%2==0 else data.real \n",
    "\n",
    "fig, ax = plt.subplots(figsize=(10,5))\n",
    "\n",
    "nmax = int(2*(smpl_matsu.sampling_points.max()//2))\n",
    "nvec = 2*np.arange(-nmax,nmax)+1\n",
    "vvec = nvec * np.pi/beta\n",
    "markers = [\"o\", \"s\"]\n",
    "for idx_l, l in enumerate([9, basis.size-1]):\n",
    "    ax.plot(vvec, get_nonzero_part(l, basis.uhat[l](nvec)), \n",
    "        label=f\"$l={l}$\", ls=\"-\", marker=markers[idx_l], ms=6, lw=0.5)\n",
    "\n",
    "for n in smpl_matsu.sampling_points:\n",
    "    ax.axvline(n*np.pi/beta, ls=\"--\", lw=0.5, color=\"k\")\n",
    "    ax.axhline(0, ls=\"-\", lw=0.25, color=\"k\")\n",
    "\n",
    "ax.legend(frameon=False)\n",
    "ax.set_xlabel(r\"$\\nu$\")\n",
    "ax.set_ylabel(r\"Re/Im $U_l(\\mathrm{i}\\nu)$\")\n",
    "\n",
    "ax.set_xlim([0.5*np.pi/beta, None])\n",
    "ax.set_ylim([-10, 10])\n",
    "ax.set_xscale(\"log\")\n",
    "ax.set_yscale(\"symlog\", linthresh=1e-6)\n",
    "\n",
    "plt.tight_layout()"
   ]
  },
  {
   "cell_type": "markdown",
   "id": "355b7aa5",
   "metadata": {},
   "source": [
    "## Condition number\n",
    "The condition number of the fitting scales roughly as $\\sqrt{\\Lambda}$."
   ]
  },
  {
   "cell_type": "code",
   "execution_count": null,
   "id": "1213133b",
   "metadata": {},
   "outputs": [],
   "source": [
    "cond_tau = []\n",
    "cond_matsu = []\n",
    "lambdas = [1e+1, 1e+2, 1e+3, 1e+4, 1e+5]\n",
    "for lambda_ in lambdas:\n",
    "    basis = sparse_ir.FiniteTempBasis(\"F\", beta, lambda_/beta, eps=1e-15)\n",
    "    cond_tau.append(sparse_ir.TauSampling(basis).cond)\n",
    "    cond_matsu.append(sparse_ir.MatsubaraSampling(basis).cond)"
   ]
  },
  {
   "cell_type": "code",
   "execution_count": null,
   "id": "4cd5c5e6",
   "metadata": {},
   "outputs": [],
   "source": [
    "plt.loglog(lambdas, cond_tau, marker=\"o\", label=\"time\")\n",
    "plt.loglog(lambdas, cond_matsu, marker=\"x\", label=\"frequency\")\n",
    "plt.loglog(lambdas, np.sqrt(lambdas), marker=\"\", ls=\"--\", label=r\"$\\sqrt{\\Lambda}$\")\n",
    "plt.xlabel(r\"$\\Lambda$\")\n",
    "plt.ylabel(\"Condition number\")\n",
    "plt.legend(frameon=False)\n",
    "plt.show()"
   ]
  }
 ],
 "metadata": {
  "jupytext": {
   "formats": "ipynb,md:myst"
  },
  "kernelspec": {
   "display_name": ".venv",
   "language": "python",
   "name": "python3"
  },
  "language_info": {
   "codemirror_mode": {
    "name": "ipython",
    "version": 3
   },
   "file_extension": ".py",
   "mimetype": "text/x-python",
   "name": "python",
   "nbconvert_exporter": "python",
   "pygments_lexer": "ipython3",
   "version": "3.13.3"
  }
 },
 "nbformat": 4,
 "nbformat_minor": 5
}